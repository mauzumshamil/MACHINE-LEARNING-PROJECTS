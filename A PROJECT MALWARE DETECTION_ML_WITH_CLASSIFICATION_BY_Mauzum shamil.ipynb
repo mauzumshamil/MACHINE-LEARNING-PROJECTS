{
 "cells": [
  {
   "cell_type": "markdown",
   "metadata": {},
   "source": [
    "MACHINE LEARNING PROJECT DONE BY MAUZUM SHAMIL"
   ]
  },
  {
   "cell_type": "code",
   "execution_count": 167,
   "metadata": {
    "id": "H5yyovTytId5"
   },
   "outputs": [],
   "source": [
    "import pandas as pd\n",
    "import numpy as np\n",
    "import matplotlib.pyplot as plt\n",
    "import seaborn as sns"
   ]
  },
  {
   "cell_type": "code",
   "execution_count": 168,
   "metadata": {
    "id": "5SL5RhaSwClX"
   },
   "outputs": [],
   "source": [
    "df = pd.read_csv(r\"C:\\Users\\dell\\Desktop\\DATASETS\\Malware_Detection_Data.csv\")"
   ]
  },
  {
   "cell_type": "markdown",
   "metadata": {
    "id": "0hfvPfKk8znR"
   },
   "source": [
    "# EDA"
   ]
  },
  {
   "cell_type": "code",
   "execution_count": 169,
   "metadata": {
    "colab": {
     "base_uri": "https://localhost:8080/",
     "height": 443
    },
    "id": "KDcz3EdXwQL_",
    "outputId": "c2c17f28-f7ea-4f30-f65b-81955e05b5fc"
   },
   "outputs": [
    {
     "data": {
      "text/html": [
       "<div>\n",
       "<style scoped>\n",
       "    .dataframe tbody tr th:only-of-type {\n",
       "        vertical-align: middle;\n",
       "    }\n",
       "\n",
       "    .dataframe tbody tr th {\n",
       "        vertical-align: top;\n",
       "    }\n",
       "\n",
       "    .dataframe thead th {\n",
       "        text-align: right;\n",
       "    }\n",
       "</style>\n",
       "<table border=\"1\" class=\"dataframe\">\n",
       "  <thead>\n",
       "    <tr style=\"text-align: right;\">\n",
       "      <th></th>\n",
       "      <th>hash</th>\n",
       "      <th>millisecond</th>\n",
       "      <th>classification</th>\n",
       "      <th>state</th>\n",
       "      <th>usage_counter</th>\n",
       "      <th>prio</th>\n",
       "      <th>static_prio</th>\n",
       "      <th>normal_prio</th>\n",
       "      <th>policy</th>\n",
       "      <th>vm_pgoff</th>\n",
       "      <th>vm_truncate_count</th>\n",
       "      <th>task_size</th>\n",
       "      <th>cached_hole_size</th>\n",
       "      <th>free_area_cache</th>\n",
       "      <th>mm_users</th>\n",
       "      <th>map_count</th>\n",
       "      <th>hiwater_rss</th>\n",
       "      <th>total_vm</th>\n",
       "      <th>shared_vm</th>\n",
       "      <th>exec_vm</th>\n",
       "      <th>reserved_vm</th>\n",
       "      <th>nr_ptes</th>\n",
       "      <th>end_data</th>\n",
       "      <th>last_interval</th>\n",
       "      <th>nvcsw</th>\n",
       "      <th>nivcsw</th>\n",
       "      <th>min_flt</th>\n",
       "      <th>maj_flt</th>\n",
       "      <th>fs_excl_counter</th>\n",
       "      <th>lock</th>\n",
       "      <th>utime</th>\n",
       "      <th>stime</th>\n",
       "      <th>gtime</th>\n",
       "      <th>cgtime</th>\n",
       "      <th>signal_nvcsw</th>\n",
       "    </tr>\n",
       "  </thead>\n",
       "  <tbody>\n",
       "    <tr>\n",
       "      <th>0</th>\n",
       "      <td>42fb5e2ec009a05ff5143227297074f1e9c6c3ebb9c914...</td>\n",
       "      <td>0</td>\n",
       "      <td>malware</td>\n",
       "      <td>0</td>\n",
       "      <td>0</td>\n",
       "      <td>3069378560</td>\n",
       "      <td>14274</td>\n",
       "      <td>0</td>\n",
       "      <td>0</td>\n",
       "      <td>0</td>\n",
       "      <td>13173</td>\n",
       "      <td>0</td>\n",
       "      <td>0</td>\n",
       "      <td>24</td>\n",
       "      <td>724</td>\n",
       "      <td>6850</td>\n",
       "      <td>0</td>\n",
       "      <td>150</td>\n",
       "      <td>120</td>\n",
       "      <td>124</td>\n",
       "      <td>210</td>\n",
       "      <td>0</td>\n",
       "      <td>120</td>\n",
       "      <td>3473</td>\n",
       "      <td>341974</td>\n",
       "      <td>0</td>\n",
       "      <td>0</td>\n",
       "      <td>120</td>\n",
       "      <td>0</td>\n",
       "      <td>3204448256</td>\n",
       "      <td>380690</td>\n",
       "      <td>4</td>\n",
       "      <td>0</td>\n",
       "      <td>0</td>\n",
       "      <td>0</td>\n",
       "    </tr>\n",
       "    <tr>\n",
       "      <th>1</th>\n",
       "      <td>42fb5e2ec009a05ff5143227297074f1e9c6c3ebb9c914...</td>\n",
       "      <td>1</td>\n",
       "      <td>malware</td>\n",
       "      <td>0</td>\n",
       "      <td>0</td>\n",
       "      <td>3069378560</td>\n",
       "      <td>14274</td>\n",
       "      <td>0</td>\n",
       "      <td>0</td>\n",
       "      <td>0</td>\n",
       "      <td>13173</td>\n",
       "      <td>0</td>\n",
       "      <td>0</td>\n",
       "      <td>24</td>\n",
       "      <td>724</td>\n",
       "      <td>6850</td>\n",
       "      <td>0</td>\n",
       "      <td>150</td>\n",
       "      <td>120</td>\n",
       "      <td>124</td>\n",
       "      <td>210</td>\n",
       "      <td>0</td>\n",
       "      <td>120</td>\n",
       "      <td>3473</td>\n",
       "      <td>341974</td>\n",
       "      <td>0</td>\n",
       "      <td>0</td>\n",
       "      <td>120</td>\n",
       "      <td>0</td>\n",
       "      <td>3204448256</td>\n",
       "      <td>380690</td>\n",
       "      <td>4</td>\n",
       "      <td>0</td>\n",
       "      <td>0</td>\n",
       "      <td>0</td>\n",
       "    </tr>\n",
       "    <tr>\n",
       "      <th>2</th>\n",
       "      <td>42fb5e2ec009a05ff5143227297074f1e9c6c3ebb9c914...</td>\n",
       "      <td>2</td>\n",
       "      <td>malware</td>\n",
       "      <td>0</td>\n",
       "      <td>0</td>\n",
       "      <td>3069378560</td>\n",
       "      <td>14274</td>\n",
       "      <td>0</td>\n",
       "      <td>0</td>\n",
       "      <td>0</td>\n",
       "      <td>13173</td>\n",
       "      <td>0</td>\n",
       "      <td>0</td>\n",
       "      <td>24</td>\n",
       "      <td>724</td>\n",
       "      <td>6850</td>\n",
       "      <td>0</td>\n",
       "      <td>150</td>\n",
       "      <td>120</td>\n",
       "      <td>124</td>\n",
       "      <td>210</td>\n",
       "      <td>0</td>\n",
       "      <td>120</td>\n",
       "      <td>3473</td>\n",
       "      <td>341974</td>\n",
       "      <td>0</td>\n",
       "      <td>0</td>\n",
       "      <td>120</td>\n",
       "      <td>0</td>\n",
       "      <td>3204448256</td>\n",
       "      <td>380690</td>\n",
       "      <td>4</td>\n",
       "      <td>0</td>\n",
       "      <td>0</td>\n",
       "      <td>0</td>\n",
       "    </tr>\n",
       "    <tr>\n",
       "      <th>3</th>\n",
       "      <td>42fb5e2ec009a05ff5143227297074f1e9c6c3ebb9c914...</td>\n",
       "      <td>3</td>\n",
       "      <td>malware</td>\n",
       "      <td>0</td>\n",
       "      <td>0</td>\n",
       "      <td>3069378560</td>\n",
       "      <td>14274</td>\n",
       "      <td>0</td>\n",
       "      <td>0</td>\n",
       "      <td>0</td>\n",
       "      <td>13173</td>\n",
       "      <td>0</td>\n",
       "      <td>0</td>\n",
       "      <td>24</td>\n",
       "      <td>724</td>\n",
       "      <td>6850</td>\n",
       "      <td>0</td>\n",
       "      <td>150</td>\n",
       "      <td>120</td>\n",
       "      <td>124</td>\n",
       "      <td>210</td>\n",
       "      <td>0</td>\n",
       "      <td>120</td>\n",
       "      <td>3473</td>\n",
       "      <td>341974</td>\n",
       "      <td>0</td>\n",
       "      <td>0</td>\n",
       "      <td>120</td>\n",
       "      <td>0</td>\n",
       "      <td>3204448256</td>\n",
       "      <td>380690</td>\n",
       "      <td>4</td>\n",
       "      <td>0</td>\n",
       "      <td>0</td>\n",
       "      <td>0</td>\n",
       "    </tr>\n",
       "    <tr>\n",
       "      <th>4</th>\n",
       "      <td>42fb5e2ec009a05ff5143227297074f1e9c6c3ebb9c914...</td>\n",
       "      <td>4</td>\n",
       "      <td>malware</td>\n",
       "      <td>0</td>\n",
       "      <td>0</td>\n",
       "      <td>3069378560</td>\n",
       "      <td>14274</td>\n",
       "      <td>0</td>\n",
       "      <td>0</td>\n",
       "      <td>0</td>\n",
       "      <td>13173</td>\n",
       "      <td>0</td>\n",
       "      <td>0</td>\n",
       "      <td>24</td>\n",
       "      <td>724</td>\n",
       "      <td>6850</td>\n",
       "      <td>0</td>\n",
       "      <td>150</td>\n",
       "      <td>120</td>\n",
       "      <td>124</td>\n",
       "      <td>210</td>\n",
       "      <td>0</td>\n",
       "      <td>120</td>\n",
       "      <td>3473</td>\n",
       "      <td>341974</td>\n",
       "      <td>0</td>\n",
       "      <td>0</td>\n",
       "      <td>120</td>\n",
       "      <td>0</td>\n",
       "      <td>3204448256</td>\n",
       "      <td>380690</td>\n",
       "      <td>4</td>\n",
       "      <td>0</td>\n",
       "      <td>0</td>\n",
       "      <td>0</td>\n",
       "    </tr>\n",
       "    <tr>\n",
       "      <th>...</th>\n",
       "      <td>...</td>\n",
       "      <td>...</td>\n",
       "      <td>...</td>\n",
       "      <td>...</td>\n",
       "      <td>...</td>\n",
       "      <td>...</td>\n",
       "      <td>...</td>\n",
       "      <td>...</td>\n",
       "      <td>...</td>\n",
       "      <td>...</td>\n",
       "      <td>...</td>\n",
       "      <td>...</td>\n",
       "      <td>...</td>\n",
       "      <td>...</td>\n",
       "      <td>...</td>\n",
       "      <td>...</td>\n",
       "      <td>...</td>\n",
       "      <td>...</td>\n",
       "      <td>...</td>\n",
       "      <td>...</td>\n",
       "      <td>...</td>\n",
       "      <td>...</td>\n",
       "      <td>...</td>\n",
       "      <td>...</td>\n",
       "      <td>...</td>\n",
       "      <td>...</td>\n",
       "      <td>...</td>\n",
       "      <td>...</td>\n",
       "      <td>...</td>\n",
       "      <td>...</td>\n",
       "      <td>...</td>\n",
       "      <td>...</td>\n",
       "      <td>...</td>\n",
       "      <td>...</td>\n",
       "      <td>...</td>\n",
       "    </tr>\n",
       "    <tr>\n",
       "      <th>99995</th>\n",
       "      <td>025c63d266e05d9e3bd57dd9ebd0abe904616f569fe4e2...</td>\n",
       "      <td>995</td>\n",
       "      <td>malware</td>\n",
       "      <td>4096</td>\n",
       "      <td>0</td>\n",
       "      <td>3070148608</td>\n",
       "      <td>13988</td>\n",
       "      <td>0</td>\n",
       "      <td>0</td>\n",
       "      <td>0</td>\n",
       "      <td>10406</td>\n",
       "      <td>0</td>\n",
       "      <td>0</td>\n",
       "      <td>0</td>\n",
       "      <td>616</td>\n",
       "      <td>3651</td>\n",
       "      <td>0</td>\n",
       "      <td>40</td>\n",
       "      <td>120</td>\n",
       "      <td>97</td>\n",
       "      <td>90</td>\n",
       "      <td>0</td>\n",
       "      <td>120</td>\n",
       "      <td>0</td>\n",
       "      <td>337688</td>\n",
       "      <td>2</td>\n",
       "      <td>1</td>\n",
       "      <td>120</td>\n",
       "      <td>0</td>\n",
       "      <td>3204448256</td>\n",
       "      <td>371979</td>\n",
       "      <td>3</td>\n",
       "      <td>0</td>\n",
       "      <td>0</td>\n",
       "      <td>0</td>\n",
       "    </tr>\n",
       "    <tr>\n",
       "      <th>99996</th>\n",
       "      <td>025c63d266e05d9e3bd57dd9ebd0abe904616f569fe4e2...</td>\n",
       "      <td>996</td>\n",
       "      <td>malware</td>\n",
       "      <td>4096</td>\n",
       "      <td>0</td>\n",
       "      <td>3070148608</td>\n",
       "      <td>13988</td>\n",
       "      <td>0</td>\n",
       "      <td>0</td>\n",
       "      <td>0</td>\n",
       "      <td>10406</td>\n",
       "      <td>0</td>\n",
       "      <td>0</td>\n",
       "      <td>0</td>\n",
       "      <td>616</td>\n",
       "      <td>3651</td>\n",
       "      <td>0</td>\n",
       "      <td>40</td>\n",
       "      <td>120</td>\n",
       "      <td>97</td>\n",
       "      <td>90</td>\n",
       "      <td>0</td>\n",
       "      <td>120</td>\n",
       "      <td>0</td>\n",
       "      <td>337688</td>\n",
       "      <td>2</td>\n",
       "      <td>1</td>\n",
       "      <td>120</td>\n",
       "      <td>0</td>\n",
       "      <td>3204448256</td>\n",
       "      <td>371979</td>\n",
       "      <td>3</td>\n",
       "      <td>0</td>\n",
       "      <td>0</td>\n",
       "      <td>0</td>\n",
       "    </tr>\n",
       "    <tr>\n",
       "      <th>99997</th>\n",
       "      <td>025c63d266e05d9e3bd57dd9ebd0abe904616f569fe4e2...</td>\n",
       "      <td>997</td>\n",
       "      <td>malware</td>\n",
       "      <td>4096</td>\n",
       "      <td>0</td>\n",
       "      <td>3070148608</td>\n",
       "      <td>13988</td>\n",
       "      <td>0</td>\n",
       "      <td>0</td>\n",
       "      <td>0</td>\n",
       "      <td>10406</td>\n",
       "      <td>0</td>\n",
       "      <td>0</td>\n",
       "      <td>0</td>\n",
       "      <td>616</td>\n",
       "      <td>3651</td>\n",
       "      <td>0</td>\n",
       "      <td>40</td>\n",
       "      <td>120</td>\n",
       "      <td>97</td>\n",
       "      <td>90</td>\n",
       "      <td>0</td>\n",
       "      <td>120</td>\n",
       "      <td>0</td>\n",
       "      <td>337688</td>\n",
       "      <td>2</td>\n",
       "      <td>1</td>\n",
       "      <td>120</td>\n",
       "      <td>0</td>\n",
       "      <td>3204448256</td>\n",
       "      <td>371979</td>\n",
       "      <td>3</td>\n",
       "      <td>0</td>\n",
       "      <td>0</td>\n",
       "      <td>0</td>\n",
       "    </tr>\n",
       "    <tr>\n",
       "      <th>99998</th>\n",
       "      <td>025c63d266e05d9e3bd57dd9ebd0abe904616f569fe4e2...</td>\n",
       "      <td>998</td>\n",
       "      <td>malware</td>\n",
       "      <td>4096</td>\n",
       "      <td>0</td>\n",
       "      <td>3070148608</td>\n",
       "      <td>13988</td>\n",
       "      <td>0</td>\n",
       "      <td>0</td>\n",
       "      <td>0</td>\n",
       "      <td>10406</td>\n",
       "      <td>0</td>\n",
       "      <td>0</td>\n",
       "      <td>0</td>\n",
       "      <td>616</td>\n",
       "      <td>3651</td>\n",
       "      <td>0</td>\n",
       "      <td>40</td>\n",
       "      <td>120</td>\n",
       "      <td>97</td>\n",
       "      <td>90</td>\n",
       "      <td>0</td>\n",
       "      <td>120</td>\n",
       "      <td>0</td>\n",
       "      <td>337688</td>\n",
       "      <td>2</td>\n",
       "      <td>1</td>\n",
       "      <td>120</td>\n",
       "      <td>0</td>\n",
       "      <td>3204448256</td>\n",
       "      <td>371979</td>\n",
       "      <td>3</td>\n",
       "      <td>0</td>\n",
       "      <td>0</td>\n",
       "      <td>0</td>\n",
       "    </tr>\n",
       "    <tr>\n",
       "      <th>99999</th>\n",
       "      <td>025c63d266e05d9e3bd57dd9ebd0abe904616f569fe4e2...</td>\n",
       "      <td>999</td>\n",
       "      <td>malware</td>\n",
       "      <td>4096</td>\n",
       "      <td>0</td>\n",
       "      <td>3070148608</td>\n",
       "      <td>13988</td>\n",
       "      <td>0</td>\n",
       "      <td>0</td>\n",
       "      <td>0</td>\n",
       "      <td>10406</td>\n",
       "      <td>0</td>\n",
       "      <td>0</td>\n",
       "      <td>0</td>\n",
       "      <td>616</td>\n",
       "      <td>3651</td>\n",
       "      <td>0</td>\n",
       "      <td>40</td>\n",
       "      <td>120</td>\n",
       "      <td>97</td>\n",
       "      <td>90</td>\n",
       "      <td>0</td>\n",
       "      <td>120</td>\n",
       "      <td>0</td>\n",
       "      <td>337688</td>\n",
       "      <td>2</td>\n",
       "      <td>1</td>\n",
       "      <td>120</td>\n",
       "      <td>0</td>\n",
       "      <td>3204448256</td>\n",
       "      <td>371979</td>\n",
       "      <td>3</td>\n",
       "      <td>0</td>\n",
       "      <td>0</td>\n",
       "      <td>0</td>\n",
       "    </tr>\n",
       "  </tbody>\n",
       "</table>\n",
       "<p>100000 rows × 35 columns</p>\n",
       "</div>"
      ],
      "text/plain": [
       "                                                    hash  millisecond  \\\n",
       "0      42fb5e2ec009a05ff5143227297074f1e9c6c3ebb9c914...            0   \n",
       "1      42fb5e2ec009a05ff5143227297074f1e9c6c3ebb9c914...            1   \n",
       "2      42fb5e2ec009a05ff5143227297074f1e9c6c3ebb9c914...            2   \n",
       "3      42fb5e2ec009a05ff5143227297074f1e9c6c3ebb9c914...            3   \n",
       "4      42fb5e2ec009a05ff5143227297074f1e9c6c3ebb9c914...            4   \n",
       "...                                                  ...          ...   \n",
       "99995  025c63d266e05d9e3bd57dd9ebd0abe904616f569fe4e2...          995   \n",
       "99996  025c63d266e05d9e3bd57dd9ebd0abe904616f569fe4e2...          996   \n",
       "99997  025c63d266e05d9e3bd57dd9ebd0abe904616f569fe4e2...          997   \n",
       "99998  025c63d266e05d9e3bd57dd9ebd0abe904616f569fe4e2...          998   \n",
       "99999  025c63d266e05d9e3bd57dd9ebd0abe904616f569fe4e2...          999   \n",
       "\n",
       "      classification  state  usage_counter        prio  static_prio  \\\n",
       "0            malware      0              0  3069378560        14274   \n",
       "1            malware      0              0  3069378560        14274   \n",
       "2            malware      0              0  3069378560        14274   \n",
       "3            malware      0              0  3069378560        14274   \n",
       "4            malware      0              0  3069378560        14274   \n",
       "...              ...    ...            ...         ...          ...   \n",
       "99995        malware   4096              0  3070148608        13988   \n",
       "99996        malware   4096              0  3070148608        13988   \n",
       "99997        malware   4096              0  3070148608        13988   \n",
       "99998        malware   4096              0  3070148608        13988   \n",
       "99999        malware   4096              0  3070148608        13988   \n",
       "\n",
       "       normal_prio  policy  vm_pgoff  vm_truncate_count  task_size  \\\n",
       "0                0       0         0              13173          0   \n",
       "1                0       0         0              13173          0   \n",
       "2                0       0         0              13173          0   \n",
       "3                0       0         0              13173          0   \n",
       "4                0       0         0              13173          0   \n",
       "...            ...     ...       ...                ...        ...   \n",
       "99995            0       0         0              10406          0   \n",
       "99996            0       0         0              10406          0   \n",
       "99997            0       0         0              10406          0   \n",
       "99998            0       0         0              10406          0   \n",
       "99999            0       0         0              10406          0   \n",
       "\n",
       "       cached_hole_size  free_area_cache  mm_users  map_count  hiwater_rss  \\\n",
       "0                     0               24       724       6850            0   \n",
       "1                     0               24       724       6850            0   \n",
       "2                     0               24       724       6850            0   \n",
       "3                     0               24       724       6850            0   \n",
       "4                     0               24       724       6850            0   \n",
       "...                 ...              ...       ...        ...          ...   \n",
       "99995                 0                0       616       3651            0   \n",
       "99996                 0                0       616       3651            0   \n",
       "99997                 0                0       616       3651            0   \n",
       "99998                 0                0       616       3651            0   \n",
       "99999                 0                0       616       3651            0   \n",
       "\n",
       "       total_vm  shared_vm  exec_vm  reserved_vm  nr_ptes  end_data  \\\n",
       "0           150        120      124          210        0       120   \n",
       "1           150        120      124          210        0       120   \n",
       "2           150        120      124          210        0       120   \n",
       "3           150        120      124          210        0       120   \n",
       "4           150        120      124          210        0       120   \n",
       "...         ...        ...      ...          ...      ...       ...   \n",
       "99995        40        120       97           90        0       120   \n",
       "99996        40        120       97           90        0       120   \n",
       "99997        40        120       97           90        0       120   \n",
       "99998        40        120       97           90        0       120   \n",
       "99999        40        120       97           90        0       120   \n",
       "\n",
       "       last_interval   nvcsw  nivcsw  min_flt  maj_flt  fs_excl_counter  \\\n",
       "0               3473  341974       0        0      120                0   \n",
       "1               3473  341974       0        0      120                0   \n",
       "2               3473  341974       0        0      120                0   \n",
       "3               3473  341974       0        0      120                0   \n",
       "4               3473  341974       0        0      120                0   \n",
       "...              ...     ...     ...      ...      ...              ...   \n",
       "99995              0  337688       2        1      120                0   \n",
       "99996              0  337688       2        1      120                0   \n",
       "99997              0  337688       2        1      120                0   \n",
       "99998              0  337688       2        1      120                0   \n",
       "99999              0  337688       2        1      120                0   \n",
       "\n",
       "             lock   utime  stime  gtime  cgtime  signal_nvcsw  \n",
       "0      3204448256  380690      4      0       0             0  \n",
       "1      3204448256  380690      4      0       0             0  \n",
       "2      3204448256  380690      4      0       0             0  \n",
       "3      3204448256  380690      4      0       0             0  \n",
       "4      3204448256  380690      4      0       0             0  \n",
       "...           ...     ...    ...    ...     ...           ...  \n",
       "99995  3204448256  371979      3      0       0             0  \n",
       "99996  3204448256  371979      3      0       0             0  \n",
       "99997  3204448256  371979      3      0       0             0  \n",
       "99998  3204448256  371979      3      0       0             0  \n",
       "99999  3204448256  371979      3      0       0             0  \n",
       "\n",
       "[100000 rows x 35 columns]"
      ]
     },
     "execution_count": 169,
     "metadata": {},
     "output_type": "execute_result"
    }
   ],
   "source": [
    "df"
   ]
  },
  {
   "cell_type": "code",
   "execution_count": 170,
   "metadata": {
    "colab": {
     "base_uri": "https://localhost:8080/"
    },
    "id": "n5I4cG-BwRRc",
    "outputId": "468723a3-c98a-4fce-d56c-714658d2ab4c"
   },
   "outputs": [
    {
     "data": {
      "text/plain": [
       "Index(['hash', 'millisecond', 'classification', 'state', 'usage_counter',\n",
       "       'prio', 'static_prio', 'normal_prio', 'policy', 'vm_pgoff',\n",
       "       'vm_truncate_count', 'task_size', 'cached_hole_size', 'free_area_cache',\n",
       "       'mm_users', 'map_count', 'hiwater_rss', 'total_vm', 'shared_vm',\n",
       "       'exec_vm', 'reserved_vm', 'nr_ptes', 'end_data', 'last_interval',\n",
       "       'nvcsw', 'nivcsw', 'min_flt', 'maj_flt', 'fs_excl_counter', 'lock',\n",
       "       'utime', 'stime', 'gtime', 'cgtime', 'signal_nvcsw'],\n",
       "      dtype='object')"
      ]
     },
     "execution_count": 170,
     "metadata": {},
     "output_type": "execute_result"
    }
   ],
   "source": [
    "df.columns"
   ]
  },
  {
   "cell_type": "code",
   "execution_count": 171,
   "metadata": {
    "colab": {
     "base_uri": "https://localhost:8080/"
    },
    "id": "adSDXXjJwv9K",
    "outputId": "954b5e53-d9f9-4b8d-8a9a-362a26d3aa16"
   },
   "outputs": [
    {
     "data": {
      "text/plain": [
       "hash                 object\n",
       "millisecond           int64\n",
       "classification       object\n",
       "state                 int64\n",
       "usage_counter         int64\n",
       "prio                  int64\n",
       "static_prio           int64\n",
       "normal_prio           int64\n",
       "policy                int64\n",
       "vm_pgoff              int64\n",
       "vm_truncate_count     int64\n",
       "task_size             int64\n",
       "cached_hole_size      int64\n",
       "free_area_cache       int64\n",
       "mm_users              int64\n",
       "map_count             int64\n",
       "hiwater_rss           int64\n",
       "total_vm              int64\n",
       "shared_vm             int64\n",
       "exec_vm               int64\n",
       "reserved_vm           int64\n",
       "nr_ptes               int64\n",
       "end_data              int64\n",
       "last_interval         int64\n",
       "nvcsw                 int64\n",
       "nivcsw                int64\n",
       "min_flt               int64\n",
       "maj_flt               int64\n",
       "fs_excl_counter       int64\n",
       "lock                  int64\n",
       "utime                 int64\n",
       "stime                 int64\n",
       "gtime                 int64\n",
       "cgtime                int64\n",
       "signal_nvcsw          int64\n",
       "dtype: object"
      ]
     },
     "execution_count": 171,
     "metadata": {},
     "output_type": "execute_result"
    }
   ],
   "source": [
    "df.dtypes"
   ]
  },
  {
   "cell_type": "code",
   "execution_count": 172,
   "metadata": {
    "colab": {
     "base_uri": "https://localhost:8080/"
    },
    "id": "s2L_b8b6w29J",
    "outputId": "95da4196-3455-4345-da03-cc6d3d4ce877"
   },
   "outputs": [
    {
     "data": {
      "text/plain": [
       "hash                   100\n",
       "millisecond           1000\n",
       "classification           2\n",
       "state                  304\n",
       "usage_counter            1\n",
       "prio                    85\n",
       "static_prio            271\n",
       "normal_prio              1\n",
       "policy                   1\n",
       "vm_pgoff                 1\n",
       "vm_truncate_count     2813\n",
       "task_size                1\n",
       "cached_hole_size         1\n",
       "free_area_cache        310\n",
       "mm_users               373\n",
       "map_count            10578\n",
       "hiwater_rss              1\n",
       "total_vm              1850\n",
       "shared_vm                3\n",
       "exec_vm                105\n",
       "reserved_vm            725\n",
       "nr_ptes                  1\n",
       "end_data                 3\n",
       "last_interval           67\n",
       "nvcsw                 3994\n",
       "nivcsw                 150\n",
       "min_flt                  5\n",
       "maj_flt                  3\n",
       "fs_excl_counter         12\n",
       "lock                     1\n",
       "utime                 5547\n",
       "stime                    5\n",
       "gtime                   16\n",
       "cgtime                   1\n",
       "signal_nvcsw             1\n",
       "dtype: int64"
      ]
     },
     "execution_count": 172,
     "metadata": {},
     "output_type": "execute_result"
    }
   ],
   "source": [
    "df.nunique()"
   ]
  },
  {
   "cell_type": "code",
   "execution_count": 173,
   "metadata": {
    "colab": {
     "base_uri": "https://localhost:8080/"
    },
    "id": "ivGub-u6w9Jl",
    "outputId": "8cfbe5b9-a565-4bd6-840c-22fb5d2349a7"
   },
   "outputs": [
    {
     "data": {
      "text/plain": [
       "hash                 0\n",
       "millisecond          0\n",
       "classification       0\n",
       "state                0\n",
       "usage_counter        0\n",
       "prio                 0\n",
       "static_prio          0\n",
       "normal_prio          0\n",
       "policy               0\n",
       "vm_pgoff             0\n",
       "vm_truncate_count    0\n",
       "task_size            0\n",
       "cached_hole_size     0\n",
       "free_area_cache      0\n",
       "mm_users             0\n",
       "map_count            0\n",
       "hiwater_rss          0\n",
       "total_vm             0\n",
       "shared_vm            0\n",
       "exec_vm              0\n",
       "reserved_vm          0\n",
       "nr_ptes              0\n",
       "end_data             0\n",
       "last_interval        0\n",
       "nvcsw                0\n",
       "nivcsw               0\n",
       "min_flt              0\n",
       "maj_flt              0\n",
       "fs_excl_counter      0\n",
       "lock                 0\n",
       "utime                0\n",
       "stime                0\n",
       "gtime                0\n",
       "cgtime               0\n",
       "signal_nvcsw         0\n",
       "dtype: int64"
      ]
     },
     "execution_count": 173,
     "metadata": {},
     "output_type": "execute_result"
    }
   ],
   "source": [
    "# null values\n",
    "df.isna().sum()"
   ]
  },
  {
   "cell_type": "code",
   "execution_count": 174,
   "metadata": {
    "colab": {
     "base_uri": "https://localhost:8080/",
     "height": 255
    },
    "id": "gZF18HSAx_7G",
    "outputId": "9e48c90d-f35a-4af1-99e5-9e53059c6ec4"
   },
   "outputs": [
    {
     "data": {
      "text/html": [
       "<div>\n",
       "<style scoped>\n",
       "    .dataframe tbody tr th:only-of-type {\n",
       "        vertical-align: middle;\n",
       "    }\n",
       "\n",
       "    .dataframe tbody tr th {\n",
       "        vertical-align: top;\n",
       "    }\n",
       "\n",
       "    .dataframe thead th {\n",
       "        text-align: right;\n",
       "    }\n",
       "</style>\n",
       "<table border=\"1\" class=\"dataframe\">\n",
       "  <thead>\n",
       "    <tr style=\"text-align: right;\">\n",
       "      <th></th>\n",
       "      <th>hash</th>\n",
       "      <th>millisecond</th>\n",
       "      <th>classification</th>\n",
       "      <th>state</th>\n",
       "      <th>usage_counter</th>\n",
       "      <th>prio</th>\n",
       "      <th>static_prio</th>\n",
       "      <th>normal_prio</th>\n",
       "      <th>policy</th>\n",
       "      <th>vm_pgoff</th>\n",
       "      <th>vm_truncate_count</th>\n",
       "      <th>task_size</th>\n",
       "      <th>cached_hole_size</th>\n",
       "      <th>free_area_cache</th>\n",
       "      <th>mm_users</th>\n",
       "      <th>map_count</th>\n",
       "      <th>hiwater_rss</th>\n",
       "      <th>total_vm</th>\n",
       "      <th>shared_vm</th>\n",
       "      <th>exec_vm</th>\n",
       "      <th>reserved_vm</th>\n",
       "      <th>nr_ptes</th>\n",
       "      <th>end_data</th>\n",
       "      <th>last_interval</th>\n",
       "      <th>nvcsw</th>\n",
       "      <th>nivcsw</th>\n",
       "      <th>min_flt</th>\n",
       "      <th>maj_flt</th>\n",
       "      <th>fs_excl_counter</th>\n",
       "      <th>lock</th>\n",
       "      <th>utime</th>\n",
       "      <th>stime</th>\n",
       "      <th>gtime</th>\n",
       "      <th>cgtime</th>\n",
       "      <th>signal_nvcsw</th>\n",
       "    </tr>\n",
       "  </thead>\n",
       "  <tbody>\n",
       "    <tr>\n",
       "      <th>0</th>\n",
       "      <td>42fb5e2ec009a05ff5143227297074f1e9c6c3ebb9c914...</td>\n",
       "      <td>0</td>\n",
       "      <td>malware</td>\n",
       "      <td>0</td>\n",
       "      <td>0</td>\n",
       "      <td>3069378560</td>\n",
       "      <td>14274</td>\n",
       "      <td>0</td>\n",
       "      <td>0</td>\n",
       "      <td>0</td>\n",
       "      <td>13173</td>\n",
       "      <td>0</td>\n",
       "      <td>0</td>\n",
       "      <td>24</td>\n",
       "      <td>724</td>\n",
       "      <td>6850</td>\n",
       "      <td>0</td>\n",
       "      <td>150</td>\n",
       "      <td>120</td>\n",
       "      <td>124</td>\n",
       "      <td>210</td>\n",
       "      <td>0</td>\n",
       "      <td>120</td>\n",
       "      <td>3473</td>\n",
       "      <td>341974</td>\n",
       "      <td>0</td>\n",
       "      <td>0</td>\n",
       "      <td>120</td>\n",
       "      <td>0</td>\n",
       "      <td>3204448256</td>\n",
       "      <td>380690</td>\n",
       "      <td>4</td>\n",
       "      <td>0</td>\n",
       "      <td>0</td>\n",
       "      <td>0</td>\n",
       "    </tr>\n",
       "    <tr>\n",
       "      <th>1</th>\n",
       "      <td>42fb5e2ec009a05ff5143227297074f1e9c6c3ebb9c914...</td>\n",
       "      <td>1</td>\n",
       "      <td>malware</td>\n",
       "      <td>0</td>\n",
       "      <td>0</td>\n",
       "      <td>3069378560</td>\n",
       "      <td>14274</td>\n",
       "      <td>0</td>\n",
       "      <td>0</td>\n",
       "      <td>0</td>\n",
       "      <td>13173</td>\n",
       "      <td>0</td>\n",
       "      <td>0</td>\n",
       "      <td>24</td>\n",
       "      <td>724</td>\n",
       "      <td>6850</td>\n",
       "      <td>0</td>\n",
       "      <td>150</td>\n",
       "      <td>120</td>\n",
       "      <td>124</td>\n",
       "      <td>210</td>\n",
       "      <td>0</td>\n",
       "      <td>120</td>\n",
       "      <td>3473</td>\n",
       "      <td>341974</td>\n",
       "      <td>0</td>\n",
       "      <td>0</td>\n",
       "      <td>120</td>\n",
       "      <td>0</td>\n",
       "      <td>3204448256</td>\n",
       "      <td>380690</td>\n",
       "      <td>4</td>\n",
       "      <td>0</td>\n",
       "      <td>0</td>\n",
       "      <td>0</td>\n",
       "    </tr>\n",
       "    <tr>\n",
       "      <th>2</th>\n",
       "      <td>42fb5e2ec009a05ff5143227297074f1e9c6c3ebb9c914...</td>\n",
       "      <td>2</td>\n",
       "      <td>malware</td>\n",
       "      <td>0</td>\n",
       "      <td>0</td>\n",
       "      <td>3069378560</td>\n",
       "      <td>14274</td>\n",
       "      <td>0</td>\n",
       "      <td>0</td>\n",
       "      <td>0</td>\n",
       "      <td>13173</td>\n",
       "      <td>0</td>\n",
       "      <td>0</td>\n",
       "      <td>24</td>\n",
       "      <td>724</td>\n",
       "      <td>6850</td>\n",
       "      <td>0</td>\n",
       "      <td>150</td>\n",
       "      <td>120</td>\n",
       "      <td>124</td>\n",
       "      <td>210</td>\n",
       "      <td>0</td>\n",
       "      <td>120</td>\n",
       "      <td>3473</td>\n",
       "      <td>341974</td>\n",
       "      <td>0</td>\n",
       "      <td>0</td>\n",
       "      <td>120</td>\n",
       "      <td>0</td>\n",
       "      <td>3204448256</td>\n",
       "      <td>380690</td>\n",
       "      <td>4</td>\n",
       "      <td>0</td>\n",
       "      <td>0</td>\n",
       "      <td>0</td>\n",
       "    </tr>\n",
       "    <tr>\n",
       "      <th>3</th>\n",
       "      <td>42fb5e2ec009a05ff5143227297074f1e9c6c3ebb9c914...</td>\n",
       "      <td>3</td>\n",
       "      <td>malware</td>\n",
       "      <td>0</td>\n",
       "      <td>0</td>\n",
       "      <td>3069378560</td>\n",
       "      <td>14274</td>\n",
       "      <td>0</td>\n",
       "      <td>0</td>\n",
       "      <td>0</td>\n",
       "      <td>13173</td>\n",
       "      <td>0</td>\n",
       "      <td>0</td>\n",
       "      <td>24</td>\n",
       "      <td>724</td>\n",
       "      <td>6850</td>\n",
       "      <td>0</td>\n",
       "      <td>150</td>\n",
       "      <td>120</td>\n",
       "      <td>124</td>\n",
       "      <td>210</td>\n",
       "      <td>0</td>\n",
       "      <td>120</td>\n",
       "      <td>3473</td>\n",
       "      <td>341974</td>\n",
       "      <td>0</td>\n",
       "      <td>0</td>\n",
       "      <td>120</td>\n",
       "      <td>0</td>\n",
       "      <td>3204448256</td>\n",
       "      <td>380690</td>\n",
       "      <td>4</td>\n",
       "      <td>0</td>\n",
       "      <td>0</td>\n",
       "      <td>0</td>\n",
       "    </tr>\n",
       "    <tr>\n",
       "      <th>4</th>\n",
       "      <td>42fb5e2ec009a05ff5143227297074f1e9c6c3ebb9c914...</td>\n",
       "      <td>4</td>\n",
       "      <td>malware</td>\n",
       "      <td>0</td>\n",
       "      <td>0</td>\n",
       "      <td>3069378560</td>\n",
       "      <td>14274</td>\n",
       "      <td>0</td>\n",
       "      <td>0</td>\n",
       "      <td>0</td>\n",
       "      <td>13173</td>\n",
       "      <td>0</td>\n",
       "      <td>0</td>\n",
       "      <td>24</td>\n",
       "      <td>724</td>\n",
       "      <td>6850</td>\n",
       "      <td>0</td>\n",
       "      <td>150</td>\n",
       "      <td>120</td>\n",
       "      <td>124</td>\n",
       "      <td>210</td>\n",
       "      <td>0</td>\n",
       "      <td>120</td>\n",
       "      <td>3473</td>\n",
       "      <td>341974</td>\n",
       "      <td>0</td>\n",
       "      <td>0</td>\n",
       "      <td>120</td>\n",
       "      <td>0</td>\n",
       "      <td>3204448256</td>\n",
       "      <td>380690</td>\n",
       "      <td>4</td>\n",
       "      <td>0</td>\n",
       "      <td>0</td>\n",
       "      <td>0</td>\n",
       "    </tr>\n",
       "  </tbody>\n",
       "</table>\n",
       "</div>"
      ],
      "text/plain": [
       "                                                hash  millisecond  \\\n",
       "0  42fb5e2ec009a05ff5143227297074f1e9c6c3ebb9c914...            0   \n",
       "1  42fb5e2ec009a05ff5143227297074f1e9c6c3ebb9c914...            1   \n",
       "2  42fb5e2ec009a05ff5143227297074f1e9c6c3ebb9c914...            2   \n",
       "3  42fb5e2ec009a05ff5143227297074f1e9c6c3ebb9c914...            3   \n",
       "4  42fb5e2ec009a05ff5143227297074f1e9c6c3ebb9c914...            4   \n",
       "\n",
       "  classification  state  usage_counter        prio  static_prio  normal_prio  \\\n",
       "0        malware      0              0  3069378560        14274            0   \n",
       "1        malware      0              0  3069378560        14274            0   \n",
       "2        malware      0              0  3069378560        14274            0   \n",
       "3        malware      0              0  3069378560        14274            0   \n",
       "4        malware      0              0  3069378560        14274            0   \n",
       "\n",
       "   policy  vm_pgoff  vm_truncate_count  task_size  cached_hole_size  \\\n",
       "0       0         0              13173          0                 0   \n",
       "1       0         0              13173          0                 0   \n",
       "2       0         0              13173          0                 0   \n",
       "3       0         0              13173          0                 0   \n",
       "4       0         0              13173          0                 0   \n",
       "\n",
       "   free_area_cache  mm_users  map_count  hiwater_rss  total_vm  shared_vm  \\\n",
       "0               24       724       6850            0       150        120   \n",
       "1               24       724       6850            0       150        120   \n",
       "2               24       724       6850            0       150        120   \n",
       "3               24       724       6850            0       150        120   \n",
       "4               24       724       6850            0       150        120   \n",
       "\n",
       "   exec_vm  reserved_vm  nr_ptes  end_data  last_interval   nvcsw  nivcsw  \\\n",
       "0      124          210        0       120           3473  341974       0   \n",
       "1      124          210        0       120           3473  341974       0   \n",
       "2      124          210        0       120           3473  341974       0   \n",
       "3      124          210        0       120           3473  341974       0   \n",
       "4      124          210        0       120           3473  341974       0   \n",
       "\n",
       "   min_flt  maj_flt  fs_excl_counter        lock   utime  stime  gtime  \\\n",
       "0        0      120                0  3204448256  380690      4      0   \n",
       "1        0      120                0  3204448256  380690      4      0   \n",
       "2        0      120                0  3204448256  380690      4      0   \n",
       "3        0      120                0  3204448256  380690      4      0   \n",
       "4        0      120                0  3204448256  380690      4      0   \n",
       "\n",
       "   cgtime  signal_nvcsw  \n",
       "0       0             0  \n",
       "1       0             0  \n",
       "2       0             0  \n",
       "3       0             0  \n",
       "4       0             0  "
      ]
     },
     "execution_count": 174,
     "metadata": {},
     "output_type": "execute_result"
    }
   ],
   "source": [
    "# label encoding\n",
    "df.head()"
   ]
  },
  {
   "cell_type": "code",
   "execution_count": 175,
   "metadata": {
    "colab": {
     "base_uri": "https://localhost:8080/"
    },
    "id": "zD2Hqi_TyOC4",
    "outputId": "946d56a9-f06f-4753-ab22-92bbccfa7ee7"
   },
   "outputs": [
    {
     "data": {
      "text/plain": [
       "hash                   100\n",
       "millisecond           1000\n",
       "classification           2\n",
       "state                  304\n",
       "usage_counter            1\n",
       "prio                    85\n",
       "static_prio            271\n",
       "normal_prio              1\n",
       "policy                   1\n",
       "vm_pgoff                 1\n",
       "vm_truncate_count     2813\n",
       "task_size                1\n",
       "cached_hole_size         1\n",
       "free_area_cache        310\n",
       "mm_users               373\n",
       "map_count            10578\n",
       "hiwater_rss              1\n",
       "total_vm              1850\n",
       "shared_vm                3\n",
       "exec_vm                105\n",
       "reserved_vm            725\n",
       "nr_ptes                  1\n",
       "end_data                 3\n",
       "last_interval           67\n",
       "nvcsw                 3994\n",
       "nivcsw                 150\n",
       "min_flt                  5\n",
       "maj_flt                  3\n",
       "fs_excl_counter         12\n",
       "lock                     1\n",
       "utime                 5547\n",
       "stime                    5\n",
       "gtime                   16\n",
       "cgtime                   1\n",
       "signal_nvcsw             1\n",
       "dtype: int64"
      ]
     },
     "execution_count": 175,
     "metadata": {},
     "output_type": "execute_result"
    }
   ],
   "source": [
    "df.nunique()"
   ]
  },
  {
   "cell_type": "code",
   "execution_count": 176,
   "metadata": {
    "id": "1gm59IgYyPxu"
   },
   "outputs": [],
   "source": [
    "df.drop('hash',axis=1,inplace=True)"
   ]
  },
  {
   "cell_type": "code",
   "execution_count": 177,
   "metadata": {
    "colab": {
     "base_uri": "https://localhost:8080/"
    },
    "id": "mQw1o562yWkn",
    "outputId": "f9835ba7-c6c4-415f-eb3a-a2100d290e0f"
   },
   "outputs": [
    {
     "data": {
      "text/plain": [
       "10578"
      ]
     },
     "execution_count": 177,
     "metadata": {},
     "output_type": "execute_result"
    }
   ],
   "source": [
    "df.map_count.nunique()"
   ]
  },
  {
   "cell_type": "code",
   "execution_count": 178,
   "metadata": {
    "id": "JEj904HeyeXn"
   },
   "outputs": [],
   "source": [
    "df.drop('map_count',axis=1,inplace=True)"
   ]
  },
  {
   "cell_type": "code",
   "execution_count": 179,
   "metadata": {
    "colab": {
     "base_uri": "https://localhost:8080/"
    },
    "id": "6bzWdMr8yu6U",
    "outputId": "11bc6a30-b956-4aa4-89e5-f89672c0b663"
   },
   "outputs": [
    {
     "data": {
      "text/plain": [
       "millisecond           int64\n",
       "classification       object\n",
       "state                 int64\n",
       "usage_counter         int64\n",
       "prio                  int64\n",
       "static_prio           int64\n",
       "normal_prio           int64\n",
       "policy                int64\n",
       "vm_pgoff              int64\n",
       "vm_truncate_count     int64\n",
       "task_size             int64\n",
       "cached_hole_size      int64\n",
       "free_area_cache       int64\n",
       "mm_users              int64\n",
       "hiwater_rss           int64\n",
       "total_vm              int64\n",
       "shared_vm             int64\n",
       "exec_vm               int64\n",
       "reserved_vm           int64\n",
       "nr_ptes               int64\n",
       "end_data              int64\n",
       "last_interval         int64\n",
       "nvcsw                 int64\n",
       "nivcsw                int64\n",
       "min_flt               int64\n",
       "maj_flt               int64\n",
       "fs_excl_counter       int64\n",
       "lock                  int64\n",
       "utime                 int64\n",
       "stime                 int64\n",
       "gtime                 int64\n",
       "cgtime                int64\n",
       "signal_nvcsw          int64\n",
       "dtype: object"
      ]
     },
     "execution_count": 179,
     "metadata": {},
     "output_type": "execute_result"
    }
   ],
   "source": [
    "df.dtypes"
   ]
  },
  {
   "cell_type": "code",
   "execution_count": 180,
   "metadata": {
    "id": "uQrq9XrMy0J5"
   },
   "outputs": [],
   "source": [
    "from sklearn.preprocessing import LabelEncoder\n",
    "le = LabelEncoder()"
   ]
  },
  {
   "cell_type": "code",
   "execution_count": 181,
   "metadata": {
    "id": "ZDjQta2qy-5m"
   },
   "outputs": [],
   "source": [
    "df['classification'] = le.fit_transform(df['classification'])"
   ]
  },
  {
   "cell_type": "code",
   "execution_count": 182,
   "metadata": {
    "colab": {
     "base_uri": "https://localhost:8080/",
     "height": 255
    },
    "id": "Y0Nx-oq-zHLH",
    "outputId": "ea928b82-90f4-4bce-809d-f53e9ab8a838"
   },
   "outputs": [
    {
     "data": {
      "text/html": [
       "<div>\n",
       "<style scoped>\n",
       "    .dataframe tbody tr th:only-of-type {\n",
       "        vertical-align: middle;\n",
       "    }\n",
       "\n",
       "    .dataframe tbody tr th {\n",
       "        vertical-align: top;\n",
       "    }\n",
       "\n",
       "    .dataframe thead th {\n",
       "        text-align: right;\n",
       "    }\n",
       "</style>\n",
       "<table border=\"1\" class=\"dataframe\">\n",
       "  <thead>\n",
       "    <tr style=\"text-align: right;\">\n",
       "      <th></th>\n",
       "      <th>millisecond</th>\n",
       "      <th>classification</th>\n",
       "      <th>state</th>\n",
       "      <th>usage_counter</th>\n",
       "      <th>prio</th>\n",
       "      <th>static_prio</th>\n",
       "      <th>normal_prio</th>\n",
       "      <th>policy</th>\n",
       "      <th>vm_pgoff</th>\n",
       "      <th>vm_truncate_count</th>\n",
       "      <th>task_size</th>\n",
       "      <th>cached_hole_size</th>\n",
       "      <th>free_area_cache</th>\n",
       "      <th>mm_users</th>\n",
       "      <th>hiwater_rss</th>\n",
       "      <th>total_vm</th>\n",
       "      <th>shared_vm</th>\n",
       "      <th>exec_vm</th>\n",
       "      <th>reserved_vm</th>\n",
       "      <th>nr_ptes</th>\n",
       "      <th>end_data</th>\n",
       "      <th>last_interval</th>\n",
       "      <th>nvcsw</th>\n",
       "      <th>nivcsw</th>\n",
       "      <th>min_flt</th>\n",
       "      <th>maj_flt</th>\n",
       "      <th>fs_excl_counter</th>\n",
       "      <th>lock</th>\n",
       "      <th>utime</th>\n",
       "      <th>stime</th>\n",
       "      <th>gtime</th>\n",
       "      <th>cgtime</th>\n",
       "      <th>signal_nvcsw</th>\n",
       "    </tr>\n",
       "  </thead>\n",
       "  <tbody>\n",
       "    <tr>\n",
       "      <th>0</th>\n",
       "      <td>0</td>\n",
       "      <td>1</td>\n",
       "      <td>0</td>\n",
       "      <td>0</td>\n",
       "      <td>3069378560</td>\n",
       "      <td>14274</td>\n",
       "      <td>0</td>\n",
       "      <td>0</td>\n",
       "      <td>0</td>\n",
       "      <td>13173</td>\n",
       "      <td>0</td>\n",
       "      <td>0</td>\n",
       "      <td>24</td>\n",
       "      <td>724</td>\n",
       "      <td>0</td>\n",
       "      <td>150</td>\n",
       "      <td>120</td>\n",
       "      <td>124</td>\n",
       "      <td>210</td>\n",
       "      <td>0</td>\n",
       "      <td>120</td>\n",
       "      <td>3473</td>\n",
       "      <td>341974</td>\n",
       "      <td>0</td>\n",
       "      <td>0</td>\n",
       "      <td>120</td>\n",
       "      <td>0</td>\n",
       "      <td>3204448256</td>\n",
       "      <td>380690</td>\n",
       "      <td>4</td>\n",
       "      <td>0</td>\n",
       "      <td>0</td>\n",
       "      <td>0</td>\n",
       "    </tr>\n",
       "    <tr>\n",
       "      <th>1</th>\n",
       "      <td>1</td>\n",
       "      <td>1</td>\n",
       "      <td>0</td>\n",
       "      <td>0</td>\n",
       "      <td>3069378560</td>\n",
       "      <td>14274</td>\n",
       "      <td>0</td>\n",
       "      <td>0</td>\n",
       "      <td>0</td>\n",
       "      <td>13173</td>\n",
       "      <td>0</td>\n",
       "      <td>0</td>\n",
       "      <td>24</td>\n",
       "      <td>724</td>\n",
       "      <td>0</td>\n",
       "      <td>150</td>\n",
       "      <td>120</td>\n",
       "      <td>124</td>\n",
       "      <td>210</td>\n",
       "      <td>0</td>\n",
       "      <td>120</td>\n",
       "      <td>3473</td>\n",
       "      <td>341974</td>\n",
       "      <td>0</td>\n",
       "      <td>0</td>\n",
       "      <td>120</td>\n",
       "      <td>0</td>\n",
       "      <td>3204448256</td>\n",
       "      <td>380690</td>\n",
       "      <td>4</td>\n",
       "      <td>0</td>\n",
       "      <td>0</td>\n",
       "      <td>0</td>\n",
       "    </tr>\n",
       "    <tr>\n",
       "      <th>2</th>\n",
       "      <td>2</td>\n",
       "      <td>1</td>\n",
       "      <td>0</td>\n",
       "      <td>0</td>\n",
       "      <td>3069378560</td>\n",
       "      <td>14274</td>\n",
       "      <td>0</td>\n",
       "      <td>0</td>\n",
       "      <td>0</td>\n",
       "      <td>13173</td>\n",
       "      <td>0</td>\n",
       "      <td>0</td>\n",
       "      <td>24</td>\n",
       "      <td>724</td>\n",
       "      <td>0</td>\n",
       "      <td>150</td>\n",
       "      <td>120</td>\n",
       "      <td>124</td>\n",
       "      <td>210</td>\n",
       "      <td>0</td>\n",
       "      <td>120</td>\n",
       "      <td>3473</td>\n",
       "      <td>341974</td>\n",
       "      <td>0</td>\n",
       "      <td>0</td>\n",
       "      <td>120</td>\n",
       "      <td>0</td>\n",
       "      <td>3204448256</td>\n",
       "      <td>380690</td>\n",
       "      <td>4</td>\n",
       "      <td>0</td>\n",
       "      <td>0</td>\n",
       "      <td>0</td>\n",
       "    </tr>\n",
       "    <tr>\n",
       "      <th>3</th>\n",
       "      <td>3</td>\n",
       "      <td>1</td>\n",
       "      <td>0</td>\n",
       "      <td>0</td>\n",
       "      <td>3069378560</td>\n",
       "      <td>14274</td>\n",
       "      <td>0</td>\n",
       "      <td>0</td>\n",
       "      <td>0</td>\n",
       "      <td>13173</td>\n",
       "      <td>0</td>\n",
       "      <td>0</td>\n",
       "      <td>24</td>\n",
       "      <td>724</td>\n",
       "      <td>0</td>\n",
       "      <td>150</td>\n",
       "      <td>120</td>\n",
       "      <td>124</td>\n",
       "      <td>210</td>\n",
       "      <td>0</td>\n",
       "      <td>120</td>\n",
       "      <td>3473</td>\n",
       "      <td>341974</td>\n",
       "      <td>0</td>\n",
       "      <td>0</td>\n",
       "      <td>120</td>\n",
       "      <td>0</td>\n",
       "      <td>3204448256</td>\n",
       "      <td>380690</td>\n",
       "      <td>4</td>\n",
       "      <td>0</td>\n",
       "      <td>0</td>\n",
       "      <td>0</td>\n",
       "    </tr>\n",
       "    <tr>\n",
       "      <th>4</th>\n",
       "      <td>4</td>\n",
       "      <td>1</td>\n",
       "      <td>0</td>\n",
       "      <td>0</td>\n",
       "      <td>3069378560</td>\n",
       "      <td>14274</td>\n",
       "      <td>0</td>\n",
       "      <td>0</td>\n",
       "      <td>0</td>\n",
       "      <td>13173</td>\n",
       "      <td>0</td>\n",
       "      <td>0</td>\n",
       "      <td>24</td>\n",
       "      <td>724</td>\n",
       "      <td>0</td>\n",
       "      <td>150</td>\n",
       "      <td>120</td>\n",
       "      <td>124</td>\n",
       "      <td>210</td>\n",
       "      <td>0</td>\n",
       "      <td>120</td>\n",
       "      <td>3473</td>\n",
       "      <td>341974</td>\n",
       "      <td>0</td>\n",
       "      <td>0</td>\n",
       "      <td>120</td>\n",
       "      <td>0</td>\n",
       "      <td>3204448256</td>\n",
       "      <td>380690</td>\n",
       "      <td>4</td>\n",
       "      <td>0</td>\n",
       "      <td>0</td>\n",
       "      <td>0</td>\n",
       "    </tr>\n",
       "  </tbody>\n",
       "</table>\n",
       "</div>"
      ],
      "text/plain": [
       "   millisecond  classification  state  usage_counter        prio  static_prio  \\\n",
       "0            0               1      0              0  3069378560        14274   \n",
       "1            1               1      0              0  3069378560        14274   \n",
       "2            2               1      0              0  3069378560        14274   \n",
       "3            3               1      0              0  3069378560        14274   \n",
       "4            4               1      0              0  3069378560        14274   \n",
       "\n",
       "   normal_prio  policy  vm_pgoff  vm_truncate_count  task_size  \\\n",
       "0            0       0         0              13173          0   \n",
       "1            0       0         0              13173          0   \n",
       "2            0       0         0              13173          0   \n",
       "3            0       0         0              13173          0   \n",
       "4            0       0         0              13173          0   \n",
       "\n",
       "   cached_hole_size  free_area_cache  mm_users  hiwater_rss  total_vm  \\\n",
       "0                 0               24       724            0       150   \n",
       "1                 0               24       724            0       150   \n",
       "2                 0               24       724            0       150   \n",
       "3                 0               24       724            0       150   \n",
       "4                 0               24       724            0       150   \n",
       "\n",
       "   shared_vm  exec_vm  reserved_vm  nr_ptes  end_data  last_interval   nvcsw  \\\n",
       "0        120      124          210        0       120           3473  341974   \n",
       "1        120      124          210        0       120           3473  341974   \n",
       "2        120      124          210        0       120           3473  341974   \n",
       "3        120      124          210        0       120           3473  341974   \n",
       "4        120      124          210        0       120           3473  341974   \n",
       "\n",
       "   nivcsw  min_flt  maj_flt  fs_excl_counter        lock   utime  stime  \\\n",
       "0       0        0      120                0  3204448256  380690      4   \n",
       "1       0        0      120                0  3204448256  380690      4   \n",
       "2       0        0      120                0  3204448256  380690      4   \n",
       "3       0        0      120                0  3204448256  380690      4   \n",
       "4       0        0      120                0  3204448256  380690      4   \n",
       "\n",
       "   gtime  cgtime  signal_nvcsw  \n",
       "0      0       0             0  \n",
       "1      0       0             0  \n",
       "2      0       0             0  \n",
       "3      0       0             0  \n",
       "4      0       0             0  "
      ]
     },
     "execution_count": 182,
     "metadata": {},
     "output_type": "execute_result"
    }
   ],
   "source": [
    "df.head()"
   ]
  },
  {
   "cell_type": "code",
   "execution_count": 183,
   "metadata": {
    "colab": {
     "base_uri": "https://localhost:8080/",
     "height": 255
    },
    "id": "-fGA7gGTzJ6z",
    "outputId": "27ece610-f66a-4cb8-a039-d88dfc38924f"
   },
   "outputs": [
    {
     "data": {
      "text/html": [
       "<div>\n",
       "<style scoped>\n",
       "    .dataframe tbody tr th:only-of-type {\n",
       "        vertical-align: middle;\n",
       "    }\n",
       "\n",
       "    .dataframe tbody tr th {\n",
       "        vertical-align: top;\n",
       "    }\n",
       "\n",
       "    .dataframe thead th {\n",
       "        text-align: right;\n",
       "    }\n",
       "</style>\n",
       "<table border=\"1\" class=\"dataframe\">\n",
       "  <thead>\n",
       "    <tr style=\"text-align: right;\">\n",
       "      <th></th>\n",
       "      <th>millisecond</th>\n",
       "      <th>classification</th>\n",
       "      <th>state</th>\n",
       "      <th>usage_counter</th>\n",
       "      <th>prio</th>\n",
       "      <th>static_prio</th>\n",
       "      <th>normal_prio</th>\n",
       "      <th>policy</th>\n",
       "      <th>vm_pgoff</th>\n",
       "      <th>vm_truncate_count</th>\n",
       "      <th>task_size</th>\n",
       "      <th>cached_hole_size</th>\n",
       "      <th>free_area_cache</th>\n",
       "      <th>mm_users</th>\n",
       "      <th>hiwater_rss</th>\n",
       "      <th>total_vm</th>\n",
       "      <th>shared_vm</th>\n",
       "      <th>exec_vm</th>\n",
       "      <th>reserved_vm</th>\n",
       "      <th>nr_ptes</th>\n",
       "      <th>end_data</th>\n",
       "      <th>last_interval</th>\n",
       "      <th>nvcsw</th>\n",
       "      <th>nivcsw</th>\n",
       "      <th>min_flt</th>\n",
       "      <th>maj_flt</th>\n",
       "      <th>fs_excl_counter</th>\n",
       "      <th>lock</th>\n",
       "      <th>utime</th>\n",
       "      <th>stime</th>\n",
       "      <th>gtime</th>\n",
       "      <th>cgtime</th>\n",
       "      <th>signal_nvcsw</th>\n",
       "    </tr>\n",
       "  </thead>\n",
       "  <tbody>\n",
       "    <tr>\n",
       "      <th>99995</th>\n",
       "      <td>995</td>\n",
       "      <td>1</td>\n",
       "      <td>4096</td>\n",
       "      <td>0</td>\n",
       "      <td>3070148608</td>\n",
       "      <td>13988</td>\n",
       "      <td>0</td>\n",
       "      <td>0</td>\n",
       "      <td>0</td>\n",
       "      <td>10406</td>\n",
       "      <td>0</td>\n",
       "      <td>0</td>\n",
       "      <td>0</td>\n",
       "      <td>616</td>\n",
       "      <td>0</td>\n",
       "      <td>40</td>\n",
       "      <td>120</td>\n",
       "      <td>97</td>\n",
       "      <td>90</td>\n",
       "      <td>0</td>\n",
       "      <td>120</td>\n",
       "      <td>0</td>\n",
       "      <td>337688</td>\n",
       "      <td>2</td>\n",
       "      <td>1</td>\n",
       "      <td>120</td>\n",
       "      <td>0</td>\n",
       "      <td>3204448256</td>\n",
       "      <td>371979</td>\n",
       "      <td>3</td>\n",
       "      <td>0</td>\n",
       "      <td>0</td>\n",
       "      <td>0</td>\n",
       "    </tr>\n",
       "    <tr>\n",
       "      <th>99996</th>\n",
       "      <td>996</td>\n",
       "      <td>1</td>\n",
       "      <td>4096</td>\n",
       "      <td>0</td>\n",
       "      <td>3070148608</td>\n",
       "      <td>13988</td>\n",
       "      <td>0</td>\n",
       "      <td>0</td>\n",
       "      <td>0</td>\n",
       "      <td>10406</td>\n",
       "      <td>0</td>\n",
       "      <td>0</td>\n",
       "      <td>0</td>\n",
       "      <td>616</td>\n",
       "      <td>0</td>\n",
       "      <td>40</td>\n",
       "      <td>120</td>\n",
       "      <td>97</td>\n",
       "      <td>90</td>\n",
       "      <td>0</td>\n",
       "      <td>120</td>\n",
       "      <td>0</td>\n",
       "      <td>337688</td>\n",
       "      <td>2</td>\n",
       "      <td>1</td>\n",
       "      <td>120</td>\n",
       "      <td>0</td>\n",
       "      <td>3204448256</td>\n",
       "      <td>371979</td>\n",
       "      <td>3</td>\n",
       "      <td>0</td>\n",
       "      <td>0</td>\n",
       "      <td>0</td>\n",
       "    </tr>\n",
       "    <tr>\n",
       "      <th>99997</th>\n",
       "      <td>997</td>\n",
       "      <td>1</td>\n",
       "      <td>4096</td>\n",
       "      <td>0</td>\n",
       "      <td>3070148608</td>\n",
       "      <td>13988</td>\n",
       "      <td>0</td>\n",
       "      <td>0</td>\n",
       "      <td>0</td>\n",
       "      <td>10406</td>\n",
       "      <td>0</td>\n",
       "      <td>0</td>\n",
       "      <td>0</td>\n",
       "      <td>616</td>\n",
       "      <td>0</td>\n",
       "      <td>40</td>\n",
       "      <td>120</td>\n",
       "      <td>97</td>\n",
       "      <td>90</td>\n",
       "      <td>0</td>\n",
       "      <td>120</td>\n",
       "      <td>0</td>\n",
       "      <td>337688</td>\n",
       "      <td>2</td>\n",
       "      <td>1</td>\n",
       "      <td>120</td>\n",
       "      <td>0</td>\n",
       "      <td>3204448256</td>\n",
       "      <td>371979</td>\n",
       "      <td>3</td>\n",
       "      <td>0</td>\n",
       "      <td>0</td>\n",
       "      <td>0</td>\n",
       "    </tr>\n",
       "    <tr>\n",
       "      <th>99998</th>\n",
       "      <td>998</td>\n",
       "      <td>1</td>\n",
       "      <td>4096</td>\n",
       "      <td>0</td>\n",
       "      <td>3070148608</td>\n",
       "      <td>13988</td>\n",
       "      <td>0</td>\n",
       "      <td>0</td>\n",
       "      <td>0</td>\n",
       "      <td>10406</td>\n",
       "      <td>0</td>\n",
       "      <td>0</td>\n",
       "      <td>0</td>\n",
       "      <td>616</td>\n",
       "      <td>0</td>\n",
       "      <td>40</td>\n",
       "      <td>120</td>\n",
       "      <td>97</td>\n",
       "      <td>90</td>\n",
       "      <td>0</td>\n",
       "      <td>120</td>\n",
       "      <td>0</td>\n",
       "      <td>337688</td>\n",
       "      <td>2</td>\n",
       "      <td>1</td>\n",
       "      <td>120</td>\n",
       "      <td>0</td>\n",
       "      <td>3204448256</td>\n",
       "      <td>371979</td>\n",
       "      <td>3</td>\n",
       "      <td>0</td>\n",
       "      <td>0</td>\n",
       "      <td>0</td>\n",
       "    </tr>\n",
       "    <tr>\n",
       "      <th>99999</th>\n",
       "      <td>999</td>\n",
       "      <td>1</td>\n",
       "      <td>4096</td>\n",
       "      <td>0</td>\n",
       "      <td>3070148608</td>\n",
       "      <td>13988</td>\n",
       "      <td>0</td>\n",
       "      <td>0</td>\n",
       "      <td>0</td>\n",
       "      <td>10406</td>\n",
       "      <td>0</td>\n",
       "      <td>0</td>\n",
       "      <td>0</td>\n",
       "      <td>616</td>\n",
       "      <td>0</td>\n",
       "      <td>40</td>\n",
       "      <td>120</td>\n",
       "      <td>97</td>\n",
       "      <td>90</td>\n",
       "      <td>0</td>\n",
       "      <td>120</td>\n",
       "      <td>0</td>\n",
       "      <td>337688</td>\n",
       "      <td>2</td>\n",
       "      <td>1</td>\n",
       "      <td>120</td>\n",
       "      <td>0</td>\n",
       "      <td>3204448256</td>\n",
       "      <td>371979</td>\n",
       "      <td>3</td>\n",
       "      <td>0</td>\n",
       "      <td>0</td>\n",
       "      <td>0</td>\n",
       "    </tr>\n",
       "  </tbody>\n",
       "</table>\n",
       "</div>"
      ],
      "text/plain": [
       "       millisecond  classification  state  usage_counter        prio  \\\n",
       "99995          995               1   4096              0  3070148608   \n",
       "99996          996               1   4096              0  3070148608   \n",
       "99997          997               1   4096              0  3070148608   \n",
       "99998          998               1   4096              0  3070148608   \n",
       "99999          999               1   4096              0  3070148608   \n",
       "\n",
       "       static_prio  normal_prio  policy  vm_pgoff  vm_truncate_count  \\\n",
       "99995        13988            0       0         0              10406   \n",
       "99996        13988            0       0         0              10406   \n",
       "99997        13988            0       0         0              10406   \n",
       "99998        13988            0       0         0              10406   \n",
       "99999        13988            0       0         0              10406   \n",
       "\n",
       "       task_size  cached_hole_size  free_area_cache  mm_users  hiwater_rss  \\\n",
       "99995          0                 0                0       616            0   \n",
       "99996          0                 0                0       616            0   \n",
       "99997          0                 0                0       616            0   \n",
       "99998          0                 0                0       616            0   \n",
       "99999          0                 0                0       616            0   \n",
       "\n",
       "       total_vm  shared_vm  exec_vm  reserved_vm  nr_ptes  end_data  \\\n",
       "99995        40        120       97           90        0       120   \n",
       "99996        40        120       97           90        0       120   \n",
       "99997        40        120       97           90        0       120   \n",
       "99998        40        120       97           90        0       120   \n",
       "99999        40        120       97           90        0       120   \n",
       "\n",
       "       last_interval   nvcsw  nivcsw  min_flt  maj_flt  fs_excl_counter  \\\n",
       "99995              0  337688       2        1      120                0   \n",
       "99996              0  337688       2        1      120                0   \n",
       "99997              0  337688       2        1      120                0   \n",
       "99998              0  337688       2        1      120                0   \n",
       "99999              0  337688       2        1      120                0   \n",
       "\n",
       "             lock   utime  stime  gtime  cgtime  signal_nvcsw  \n",
       "99995  3204448256  371979      3      0       0             0  \n",
       "99996  3204448256  371979      3      0       0             0  \n",
       "99997  3204448256  371979      3      0       0             0  \n",
       "99998  3204448256  371979      3      0       0             0  \n",
       "99999  3204448256  371979      3      0       0             0  "
      ]
     },
     "execution_count": 183,
     "metadata": {},
     "output_type": "execute_result"
    }
   ],
   "source": [
    "df.tail()"
   ]
  },
  {
   "cell_type": "code",
   "execution_count": 184,
   "metadata": {
    "id": "AAley8lczV46"
   },
   "outputs": [],
   "source": [
    "df.drop('millisecond',axis=1,inplace=True)"
   ]
  },
  {
   "cell_type": "code",
   "execution_count": 185,
   "metadata": {
    "colab": {
     "base_uri": "https://localhost:8080/",
     "height": 255
    },
    "id": "TpNKJ_-xzoPh",
    "outputId": "bece66bc-aa93-4209-c5ab-a2fd458ea747"
   },
   "outputs": [
    {
     "data": {
      "text/html": [
       "<div>\n",
       "<style scoped>\n",
       "    .dataframe tbody tr th:only-of-type {\n",
       "        vertical-align: middle;\n",
       "    }\n",
       "\n",
       "    .dataframe tbody tr th {\n",
       "        vertical-align: top;\n",
       "    }\n",
       "\n",
       "    .dataframe thead th {\n",
       "        text-align: right;\n",
       "    }\n",
       "</style>\n",
       "<table border=\"1\" class=\"dataframe\">\n",
       "  <thead>\n",
       "    <tr style=\"text-align: right;\">\n",
       "      <th></th>\n",
       "      <th>classification</th>\n",
       "      <th>state</th>\n",
       "      <th>usage_counter</th>\n",
       "      <th>prio</th>\n",
       "      <th>static_prio</th>\n",
       "      <th>normal_prio</th>\n",
       "      <th>policy</th>\n",
       "      <th>vm_pgoff</th>\n",
       "      <th>vm_truncate_count</th>\n",
       "      <th>task_size</th>\n",
       "      <th>cached_hole_size</th>\n",
       "      <th>free_area_cache</th>\n",
       "      <th>mm_users</th>\n",
       "      <th>hiwater_rss</th>\n",
       "      <th>total_vm</th>\n",
       "      <th>shared_vm</th>\n",
       "      <th>exec_vm</th>\n",
       "      <th>reserved_vm</th>\n",
       "      <th>nr_ptes</th>\n",
       "      <th>end_data</th>\n",
       "      <th>last_interval</th>\n",
       "      <th>nvcsw</th>\n",
       "      <th>nivcsw</th>\n",
       "      <th>min_flt</th>\n",
       "      <th>maj_flt</th>\n",
       "      <th>fs_excl_counter</th>\n",
       "      <th>lock</th>\n",
       "      <th>utime</th>\n",
       "      <th>stime</th>\n",
       "      <th>gtime</th>\n",
       "      <th>cgtime</th>\n",
       "      <th>signal_nvcsw</th>\n",
       "    </tr>\n",
       "  </thead>\n",
       "  <tbody>\n",
       "    <tr>\n",
       "      <th>0</th>\n",
       "      <td>1</td>\n",
       "      <td>0</td>\n",
       "      <td>0</td>\n",
       "      <td>3069378560</td>\n",
       "      <td>14274</td>\n",
       "      <td>0</td>\n",
       "      <td>0</td>\n",
       "      <td>0</td>\n",
       "      <td>13173</td>\n",
       "      <td>0</td>\n",
       "      <td>0</td>\n",
       "      <td>24</td>\n",
       "      <td>724</td>\n",
       "      <td>0</td>\n",
       "      <td>150</td>\n",
       "      <td>120</td>\n",
       "      <td>124</td>\n",
       "      <td>210</td>\n",
       "      <td>0</td>\n",
       "      <td>120</td>\n",
       "      <td>3473</td>\n",
       "      <td>341974</td>\n",
       "      <td>0</td>\n",
       "      <td>0</td>\n",
       "      <td>120</td>\n",
       "      <td>0</td>\n",
       "      <td>3204448256</td>\n",
       "      <td>380690</td>\n",
       "      <td>4</td>\n",
       "      <td>0</td>\n",
       "      <td>0</td>\n",
       "      <td>0</td>\n",
       "    </tr>\n",
       "    <tr>\n",
       "      <th>1</th>\n",
       "      <td>1</td>\n",
       "      <td>0</td>\n",
       "      <td>0</td>\n",
       "      <td>3069378560</td>\n",
       "      <td>14274</td>\n",
       "      <td>0</td>\n",
       "      <td>0</td>\n",
       "      <td>0</td>\n",
       "      <td>13173</td>\n",
       "      <td>0</td>\n",
       "      <td>0</td>\n",
       "      <td>24</td>\n",
       "      <td>724</td>\n",
       "      <td>0</td>\n",
       "      <td>150</td>\n",
       "      <td>120</td>\n",
       "      <td>124</td>\n",
       "      <td>210</td>\n",
       "      <td>0</td>\n",
       "      <td>120</td>\n",
       "      <td>3473</td>\n",
       "      <td>341974</td>\n",
       "      <td>0</td>\n",
       "      <td>0</td>\n",
       "      <td>120</td>\n",
       "      <td>0</td>\n",
       "      <td>3204448256</td>\n",
       "      <td>380690</td>\n",
       "      <td>4</td>\n",
       "      <td>0</td>\n",
       "      <td>0</td>\n",
       "      <td>0</td>\n",
       "    </tr>\n",
       "    <tr>\n",
       "      <th>2</th>\n",
       "      <td>1</td>\n",
       "      <td>0</td>\n",
       "      <td>0</td>\n",
       "      <td>3069378560</td>\n",
       "      <td>14274</td>\n",
       "      <td>0</td>\n",
       "      <td>0</td>\n",
       "      <td>0</td>\n",
       "      <td>13173</td>\n",
       "      <td>0</td>\n",
       "      <td>0</td>\n",
       "      <td>24</td>\n",
       "      <td>724</td>\n",
       "      <td>0</td>\n",
       "      <td>150</td>\n",
       "      <td>120</td>\n",
       "      <td>124</td>\n",
       "      <td>210</td>\n",
       "      <td>0</td>\n",
       "      <td>120</td>\n",
       "      <td>3473</td>\n",
       "      <td>341974</td>\n",
       "      <td>0</td>\n",
       "      <td>0</td>\n",
       "      <td>120</td>\n",
       "      <td>0</td>\n",
       "      <td>3204448256</td>\n",
       "      <td>380690</td>\n",
       "      <td>4</td>\n",
       "      <td>0</td>\n",
       "      <td>0</td>\n",
       "      <td>0</td>\n",
       "    </tr>\n",
       "    <tr>\n",
       "      <th>3</th>\n",
       "      <td>1</td>\n",
       "      <td>0</td>\n",
       "      <td>0</td>\n",
       "      <td>3069378560</td>\n",
       "      <td>14274</td>\n",
       "      <td>0</td>\n",
       "      <td>0</td>\n",
       "      <td>0</td>\n",
       "      <td>13173</td>\n",
       "      <td>0</td>\n",
       "      <td>0</td>\n",
       "      <td>24</td>\n",
       "      <td>724</td>\n",
       "      <td>0</td>\n",
       "      <td>150</td>\n",
       "      <td>120</td>\n",
       "      <td>124</td>\n",
       "      <td>210</td>\n",
       "      <td>0</td>\n",
       "      <td>120</td>\n",
       "      <td>3473</td>\n",
       "      <td>341974</td>\n",
       "      <td>0</td>\n",
       "      <td>0</td>\n",
       "      <td>120</td>\n",
       "      <td>0</td>\n",
       "      <td>3204448256</td>\n",
       "      <td>380690</td>\n",
       "      <td>4</td>\n",
       "      <td>0</td>\n",
       "      <td>0</td>\n",
       "      <td>0</td>\n",
       "    </tr>\n",
       "    <tr>\n",
       "      <th>4</th>\n",
       "      <td>1</td>\n",
       "      <td>0</td>\n",
       "      <td>0</td>\n",
       "      <td>3069378560</td>\n",
       "      <td>14274</td>\n",
       "      <td>0</td>\n",
       "      <td>0</td>\n",
       "      <td>0</td>\n",
       "      <td>13173</td>\n",
       "      <td>0</td>\n",
       "      <td>0</td>\n",
       "      <td>24</td>\n",
       "      <td>724</td>\n",
       "      <td>0</td>\n",
       "      <td>150</td>\n",
       "      <td>120</td>\n",
       "      <td>124</td>\n",
       "      <td>210</td>\n",
       "      <td>0</td>\n",
       "      <td>120</td>\n",
       "      <td>3473</td>\n",
       "      <td>341974</td>\n",
       "      <td>0</td>\n",
       "      <td>0</td>\n",
       "      <td>120</td>\n",
       "      <td>0</td>\n",
       "      <td>3204448256</td>\n",
       "      <td>380690</td>\n",
       "      <td>4</td>\n",
       "      <td>0</td>\n",
       "      <td>0</td>\n",
       "      <td>0</td>\n",
       "    </tr>\n",
       "  </tbody>\n",
       "</table>\n",
       "</div>"
      ],
      "text/plain": [
       "   classification  state  usage_counter        prio  static_prio  normal_prio  \\\n",
       "0               1      0              0  3069378560        14274            0   \n",
       "1               1      0              0  3069378560        14274            0   \n",
       "2               1      0              0  3069378560        14274            0   \n",
       "3               1      0              0  3069378560        14274            0   \n",
       "4               1      0              0  3069378560        14274            0   \n",
       "\n",
       "   policy  vm_pgoff  vm_truncate_count  task_size  cached_hole_size  \\\n",
       "0       0         0              13173          0                 0   \n",
       "1       0         0              13173          0                 0   \n",
       "2       0         0              13173          0                 0   \n",
       "3       0         0              13173          0                 0   \n",
       "4       0         0              13173          0                 0   \n",
       "\n",
       "   free_area_cache  mm_users  hiwater_rss  total_vm  shared_vm  exec_vm  \\\n",
       "0               24       724            0       150        120      124   \n",
       "1               24       724            0       150        120      124   \n",
       "2               24       724            0       150        120      124   \n",
       "3               24       724            0       150        120      124   \n",
       "4               24       724            0       150        120      124   \n",
       "\n",
       "   reserved_vm  nr_ptes  end_data  last_interval   nvcsw  nivcsw  min_flt  \\\n",
       "0          210        0       120           3473  341974       0        0   \n",
       "1          210        0       120           3473  341974       0        0   \n",
       "2          210        0       120           3473  341974       0        0   \n",
       "3          210        0       120           3473  341974       0        0   \n",
       "4          210        0       120           3473  341974       0        0   \n",
       "\n",
       "   maj_flt  fs_excl_counter        lock   utime  stime  gtime  cgtime  \\\n",
       "0      120                0  3204448256  380690      4      0       0   \n",
       "1      120                0  3204448256  380690      4      0       0   \n",
       "2      120                0  3204448256  380690      4      0       0   \n",
       "3      120                0  3204448256  380690      4      0       0   \n",
       "4      120                0  3204448256  380690      4      0       0   \n",
       "\n",
       "   signal_nvcsw  \n",
       "0             0  \n",
       "1             0  \n",
       "2             0  \n",
       "3             0  \n",
       "4             0  "
      ]
     },
     "execution_count": 185,
     "metadata": {},
     "output_type": "execute_result"
    }
   ],
   "source": [
    "df.head()"
   ]
  },
  {
   "cell_type": "code",
   "execution_count": 186,
   "metadata": {
    "id": "_XtzPErDzpzi"
   },
   "outputs": [],
   "source": [
    "x = df.drop('classification',axis=1)\n",
    "y = df['classification']"
   ]
  },
  {
   "cell_type": "code",
   "execution_count": 187,
   "metadata": {
    "id": "JEm75XrGz5nm"
   },
   "outputs": [],
   "source": [
    "from sklearn.preprocessing import MinMaxScaler\n",
    "minmax = MinMaxScaler()"
   ]
  },
  {
   "cell_type": "code",
   "execution_count": 188,
   "metadata": {
    "colab": {
     "base_uri": "https://localhost:8080/",
     "height": 255
    },
    "id": "61TYHuDR0Gw0",
    "outputId": "1b5051fd-5251-423e-bfa3-c0fb4db054de"
   },
   "outputs": [
    {
     "data": {
      "text/html": [
       "<div>\n",
       "<style scoped>\n",
       "    .dataframe tbody tr th:only-of-type {\n",
       "        vertical-align: middle;\n",
       "    }\n",
       "\n",
       "    .dataframe tbody tr th {\n",
       "        vertical-align: top;\n",
       "    }\n",
       "\n",
       "    .dataframe thead th {\n",
       "        text-align: right;\n",
       "    }\n",
       "</style>\n",
       "<table border=\"1\" class=\"dataframe\">\n",
       "  <thead>\n",
       "    <tr style=\"text-align: right;\">\n",
       "      <th></th>\n",
       "      <th>state</th>\n",
       "      <th>usage_counter</th>\n",
       "      <th>prio</th>\n",
       "      <th>static_prio</th>\n",
       "      <th>normal_prio</th>\n",
       "      <th>policy</th>\n",
       "      <th>vm_pgoff</th>\n",
       "      <th>vm_truncate_count</th>\n",
       "      <th>task_size</th>\n",
       "      <th>cached_hole_size</th>\n",
       "      <th>free_area_cache</th>\n",
       "      <th>mm_users</th>\n",
       "      <th>hiwater_rss</th>\n",
       "      <th>total_vm</th>\n",
       "      <th>shared_vm</th>\n",
       "      <th>exec_vm</th>\n",
       "      <th>reserved_vm</th>\n",
       "      <th>nr_ptes</th>\n",
       "      <th>end_data</th>\n",
       "      <th>last_interval</th>\n",
       "      <th>nvcsw</th>\n",
       "      <th>nivcsw</th>\n",
       "      <th>min_flt</th>\n",
       "      <th>maj_flt</th>\n",
       "      <th>fs_excl_counter</th>\n",
       "      <th>lock</th>\n",
       "      <th>utime</th>\n",
       "      <th>stime</th>\n",
       "      <th>gtime</th>\n",
       "      <th>cgtime</th>\n",
       "      <th>signal_nvcsw</th>\n",
       "    </tr>\n",
       "  </thead>\n",
       "  <tbody>\n",
       "    <tr>\n",
       "      <th>0</th>\n",
       "      <td>0</td>\n",
       "      <td>0</td>\n",
       "      <td>3069378560</td>\n",
       "      <td>14274</td>\n",
       "      <td>0</td>\n",
       "      <td>0</td>\n",
       "      <td>0</td>\n",
       "      <td>13173</td>\n",
       "      <td>0</td>\n",
       "      <td>0</td>\n",
       "      <td>24</td>\n",
       "      <td>724</td>\n",
       "      <td>0</td>\n",
       "      <td>150</td>\n",
       "      <td>120</td>\n",
       "      <td>124</td>\n",
       "      <td>210</td>\n",
       "      <td>0</td>\n",
       "      <td>120</td>\n",
       "      <td>3473</td>\n",
       "      <td>341974</td>\n",
       "      <td>0</td>\n",
       "      <td>0</td>\n",
       "      <td>120</td>\n",
       "      <td>0</td>\n",
       "      <td>3204448256</td>\n",
       "      <td>380690</td>\n",
       "      <td>4</td>\n",
       "      <td>0</td>\n",
       "      <td>0</td>\n",
       "      <td>0</td>\n",
       "    </tr>\n",
       "    <tr>\n",
       "      <th>1</th>\n",
       "      <td>0</td>\n",
       "      <td>0</td>\n",
       "      <td>3069378560</td>\n",
       "      <td>14274</td>\n",
       "      <td>0</td>\n",
       "      <td>0</td>\n",
       "      <td>0</td>\n",
       "      <td>13173</td>\n",
       "      <td>0</td>\n",
       "      <td>0</td>\n",
       "      <td>24</td>\n",
       "      <td>724</td>\n",
       "      <td>0</td>\n",
       "      <td>150</td>\n",
       "      <td>120</td>\n",
       "      <td>124</td>\n",
       "      <td>210</td>\n",
       "      <td>0</td>\n",
       "      <td>120</td>\n",
       "      <td>3473</td>\n",
       "      <td>341974</td>\n",
       "      <td>0</td>\n",
       "      <td>0</td>\n",
       "      <td>120</td>\n",
       "      <td>0</td>\n",
       "      <td>3204448256</td>\n",
       "      <td>380690</td>\n",
       "      <td>4</td>\n",
       "      <td>0</td>\n",
       "      <td>0</td>\n",
       "      <td>0</td>\n",
       "    </tr>\n",
       "    <tr>\n",
       "      <th>2</th>\n",
       "      <td>0</td>\n",
       "      <td>0</td>\n",
       "      <td>3069378560</td>\n",
       "      <td>14274</td>\n",
       "      <td>0</td>\n",
       "      <td>0</td>\n",
       "      <td>0</td>\n",
       "      <td>13173</td>\n",
       "      <td>0</td>\n",
       "      <td>0</td>\n",
       "      <td>24</td>\n",
       "      <td>724</td>\n",
       "      <td>0</td>\n",
       "      <td>150</td>\n",
       "      <td>120</td>\n",
       "      <td>124</td>\n",
       "      <td>210</td>\n",
       "      <td>0</td>\n",
       "      <td>120</td>\n",
       "      <td>3473</td>\n",
       "      <td>341974</td>\n",
       "      <td>0</td>\n",
       "      <td>0</td>\n",
       "      <td>120</td>\n",
       "      <td>0</td>\n",
       "      <td>3204448256</td>\n",
       "      <td>380690</td>\n",
       "      <td>4</td>\n",
       "      <td>0</td>\n",
       "      <td>0</td>\n",
       "      <td>0</td>\n",
       "    </tr>\n",
       "    <tr>\n",
       "      <th>3</th>\n",
       "      <td>0</td>\n",
       "      <td>0</td>\n",
       "      <td>3069378560</td>\n",
       "      <td>14274</td>\n",
       "      <td>0</td>\n",
       "      <td>0</td>\n",
       "      <td>0</td>\n",
       "      <td>13173</td>\n",
       "      <td>0</td>\n",
       "      <td>0</td>\n",
       "      <td>24</td>\n",
       "      <td>724</td>\n",
       "      <td>0</td>\n",
       "      <td>150</td>\n",
       "      <td>120</td>\n",
       "      <td>124</td>\n",
       "      <td>210</td>\n",
       "      <td>0</td>\n",
       "      <td>120</td>\n",
       "      <td>3473</td>\n",
       "      <td>341974</td>\n",
       "      <td>0</td>\n",
       "      <td>0</td>\n",
       "      <td>120</td>\n",
       "      <td>0</td>\n",
       "      <td>3204448256</td>\n",
       "      <td>380690</td>\n",
       "      <td>4</td>\n",
       "      <td>0</td>\n",
       "      <td>0</td>\n",
       "      <td>0</td>\n",
       "    </tr>\n",
       "    <tr>\n",
       "      <th>4</th>\n",
       "      <td>0</td>\n",
       "      <td>0</td>\n",
       "      <td>3069378560</td>\n",
       "      <td>14274</td>\n",
       "      <td>0</td>\n",
       "      <td>0</td>\n",
       "      <td>0</td>\n",
       "      <td>13173</td>\n",
       "      <td>0</td>\n",
       "      <td>0</td>\n",
       "      <td>24</td>\n",
       "      <td>724</td>\n",
       "      <td>0</td>\n",
       "      <td>150</td>\n",
       "      <td>120</td>\n",
       "      <td>124</td>\n",
       "      <td>210</td>\n",
       "      <td>0</td>\n",
       "      <td>120</td>\n",
       "      <td>3473</td>\n",
       "      <td>341974</td>\n",
       "      <td>0</td>\n",
       "      <td>0</td>\n",
       "      <td>120</td>\n",
       "      <td>0</td>\n",
       "      <td>3204448256</td>\n",
       "      <td>380690</td>\n",
       "      <td>4</td>\n",
       "      <td>0</td>\n",
       "      <td>0</td>\n",
       "      <td>0</td>\n",
       "    </tr>\n",
       "  </tbody>\n",
       "</table>\n",
       "</div>"
      ],
      "text/plain": [
       "   state  usage_counter        prio  static_prio  normal_prio  policy  \\\n",
       "0      0              0  3069378560        14274            0       0   \n",
       "1      0              0  3069378560        14274            0       0   \n",
       "2      0              0  3069378560        14274            0       0   \n",
       "3      0              0  3069378560        14274            0       0   \n",
       "4      0              0  3069378560        14274            0       0   \n",
       "\n",
       "   vm_pgoff  vm_truncate_count  task_size  cached_hole_size  free_area_cache  \\\n",
       "0         0              13173          0                 0               24   \n",
       "1         0              13173          0                 0               24   \n",
       "2         0              13173          0                 0               24   \n",
       "3         0              13173          0                 0               24   \n",
       "4         0              13173          0                 0               24   \n",
       "\n",
       "   mm_users  hiwater_rss  total_vm  shared_vm  exec_vm  reserved_vm  nr_ptes  \\\n",
       "0       724            0       150        120      124          210        0   \n",
       "1       724            0       150        120      124          210        0   \n",
       "2       724            0       150        120      124          210        0   \n",
       "3       724            0       150        120      124          210        0   \n",
       "4       724            0       150        120      124          210        0   \n",
       "\n",
       "   end_data  last_interval   nvcsw  nivcsw  min_flt  maj_flt  fs_excl_counter  \\\n",
       "0       120           3473  341974       0        0      120                0   \n",
       "1       120           3473  341974       0        0      120                0   \n",
       "2       120           3473  341974       0        0      120                0   \n",
       "3       120           3473  341974       0        0      120                0   \n",
       "4       120           3473  341974       0        0      120                0   \n",
       "\n",
       "         lock   utime  stime  gtime  cgtime  signal_nvcsw  \n",
       "0  3204448256  380690      4      0       0             0  \n",
       "1  3204448256  380690      4      0       0             0  \n",
       "2  3204448256  380690      4      0       0             0  \n",
       "3  3204448256  380690      4      0       0             0  \n",
       "4  3204448256  380690      4      0       0             0  "
      ]
     },
     "execution_count": 188,
     "metadata": {},
     "output_type": "execute_result"
    }
   ],
   "source": [
    "x.head()"
   ]
  },
  {
   "cell_type": "code",
   "execution_count": 189,
   "metadata": {
    "colab": {
     "base_uri": "https://localhost:8080/"
    },
    "id": "czy-IEIy0Hz-",
    "outputId": "fb7db2c3-3192-4f0c-f48e-47b77612102d"
   },
   "outputs": [
    {
     "name": "stdout",
     "output_type": "stream",
     "text": [
      "       classification  state  usage_counter        prio  static_prio  \\\n",
      "0                   1      0              0  3069378560        14274   \n",
      "1                   1      0              0  3069378560        14274   \n",
      "2                   1      0              0  3069378560        14274   \n",
      "3                   1      0              0  3069378560        14274   \n",
      "4                   1      0              0  3069378560        14274   \n",
      "...               ...    ...            ...         ...          ...   \n",
      "99995               1   4096              0  3070148608        13988   \n",
      "99996               1   4096              0  3070148608        13988   \n",
      "99997               1   4096              0  3070148608        13988   \n",
      "99998               1   4096              0  3070148608        13988   \n",
      "99999               1   4096              0  3070148608        13988   \n",
      "\n",
      "       normal_prio  policy  vm_pgoff  vm_truncate_count  task_size  \\\n",
      "0                0       0         0              13173          0   \n",
      "1                0       0         0              13173          0   \n",
      "2                0       0         0              13173          0   \n",
      "3                0       0         0              13173          0   \n",
      "4                0       0         0              13173          0   \n",
      "...            ...     ...       ...                ...        ...   \n",
      "99995            0       0         0              10406          0   \n",
      "99996            0       0         0              10406          0   \n",
      "99997            0       0         0              10406          0   \n",
      "99998            0       0         0              10406          0   \n",
      "99999            0       0         0              10406          0   \n",
      "\n",
      "       cached_hole_size  free_area_cache  mm_users  hiwater_rss  total_vm  \\\n",
      "0                     0               24       724            0       150   \n",
      "1                     0               24       724            0       150   \n",
      "2                     0               24       724            0       150   \n",
      "3                     0               24       724            0       150   \n",
      "4                     0               24       724            0       150   \n",
      "...                 ...              ...       ...          ...       ...   \n",
      "99995                 0                0       616            0        40   \n",
      "99996                 0                0       616            0        40   \n",
      "99997                 0                0       616            0        40   \n",
      "99998                 0                0       616            0        40   \n",
      "99999                 0                0       616            0        40   \n",
      "\n",
      "       shared_vm  exec_vm  reserved_vm  nr_ptes  end_data  last_interval  \\\n",
      "0            120      124          210        0       120           3473   \n",
      "1            120      124          210        0       120           3473   \n",
      "2            120      124          210        0       120           3473   \n",
      "3            120      124          210        0       120           3473   \n",
      "4            120      124          210        0       120           3473   \n",
      "...          ...      ...          ...      ...       ...            ...   \n",
      "99995        120       97           90        0       120              0   \n",
      "99996        120       97           90        0       120              0   \n",
      "99997        120       97           90        0       120              0   \n",
      "99998        120       97           90        0       120              0   \n",
      "99999        120       97           90        0       120              0   \n",
      "\n",
      "        nvcsw  nivcsw  min_flt  maj_flt  fs_excl_counter        lock   utime  \\\n",
      "0      341974       0        0      120                0  3204448256  380690   \n",
      "1      341974       0        0      120                0  3204448256  380690   \n",
      "2      341974       0        0      120                0  3204448256  380690   \n",
      "3      341974       0        0      120                0  3204448256  380690   \n",
      "4      341974       0        0      120                0  3204448256  380690   \n",
      "...       ...     ...      ...      ...              ...         ...     ...   \n",
      "99995  337688       2        1      120                0  3204448256  371979   \n",
      "99996  337688       2        1      120                0  3204448256  371979   \n",
      "99997  337688       2        1      120                0  3204448256  371979   \n",
      "99998  337688       2        1      120                0  3204448256  371979   \n",
      "99999  337688       2        1      120                0  3204448256  371979   \n",
      "\n",
      "       stime  gtime  cgtime  signal_nvcsw  \n",
      "0          4      0       0             0  \n",
      "1          4      0       0             0  \n",
      "2          4      0       0             0  \n",
      "3          4      0       0             0  \n",
      "4          4      0       0             0  \n",
      "...      ...    ...     ...           ...  \n",
      "99995      3      0       0             0  \n",
      "99996      3      0       0             0  \n",
      "99997      3      0       0             0  \n",
      "99998      3      0       0             0  \n",
      "99999      3      0       0             0  \n",
      "\n",
      "[100000 rows x 32 columns]\n"
     ]
    }
   ],
   "source": [
    "pd.set_option('display.max_columns', None)\n",
    "print(df)"
   ]
  },
  {
   "cell_type": "code",
   "execution_count": 190,
   "metadata": {
    "id": "1ypSU6200ry_"
   },
   "outputs": [],
   "source": [
    "newx = minmax.fit_transform(x)"
   ]
  },
  {
   "cell_type": "code",
   "execution_count": 191,
   "metadata": {
    "colab": {
     "base_uri": "https://localhost:8080/"
    },
    "id": "X3px1_a21E6G",
    "outputId": "5f7cbb3e-e1e8-42d7-fb77-b4f4fd3db5c1"
   },
   "outputs": [
    {
     "data": {
      "text/plain": [
       "Index(['classification', 'state', 'usage_counter', 'prio', 'static_prio',\n",
       "       'normal_prio', 'policy', 'vm_pgoff', 'vm_truncate_count', 'task_size',\n",
       "       'cached_hole_size', 'free_area_cache', 'mm_users', 'hiwater_rss',\n",
       "       'total_vm', 'shared_vm', 'exec_vm', 'reserved_vm', 'nr_ptes',\n",
       "       'end_data', 'last_interval', 'nvcsw', 'nivcsw', 'min_flt', 'maj_flt',\n",
       "       'fs_excl_counter', 'lock', 'utime', 'stime', 'gtime', 'cgtime',\n",
       "       'signal_nvcsw'],\n",
       "      dtype='object')"
      ]
     },
     "execution_count": 191,
     "metadata": {},
     "output_type": "execute_result"
    }
   ],
   "source": [
    "df.columns"
   ]
  },
  {
   "cell_type": "code",
   "execution_count": 192,
   "metadata": {
    "id": "NyXpA0DM07v3"
   },
   "outputs": [],
   "source": [
    "x = pd.DataFrame(newx,columns=['state', 'usage_counter', 'prio', 'static_prio',\n",
    "       'normal_prio', 'policy', 'vm_pgoff', 'vm_truncate_count', 'task_size',\n",
    "       'cached_hole_size', 'free_area_cache', 'mm_users', 'hiwater_rss',\n",
    "       'total_vm', 'shared_vm', 'exec_vm', 'reserved_vm', 'nr_ptes',\n",
    "       'end_data', 'last_interval', 'nvcsw', 'nivcsw', 'min_flt', 'maj_flt',\n",
    "       'fs_excl_counter', 'lock', 'utime', 'stime', 'gtime', 'cgtime',\n",
    "       'signal_nvcsw'])"
   ]
  },
  {
   "cell_type": "code",
   "execution_count": 193,
   "metadata": {
    "id": "7BhOS58J1RE4"
   },
   "outputs": [],
   "source": [
    "df = pd.concat([x,y],axis=1)"
   ]
  },
  {
   "cell_type": "code",
   "execution_count": 194,
   "metadata": {
    "colab": {
     "base_uri": "https://localhost:8080/",
     "height": 226
    },
    "id": "zTsOFWz81Xdb",
    "outputId": "88021ae8-c293-4560-baa3-1eaa3259e5a4"
   },
   "outputs": [
    {
     "data": {
      "text/html": [
       "<div>\n",
       "<style scoped>\n",
       "    .dataframe tbody tr th:only-of-type {\n",
       "        vertical-align: middle;\n",
       "    }\n",
       "\n",
       "    .dataframe tbody tr th {\n",
       "        vertical-align: top;\n",
       "    }\n",
       "\n",
       "    .dataframe thead th {\n",
       "        text-align: right;\n",
       "    }\n",
       "</style>\n",
       "<table border=\"1\" class=\"dataframe\">\n",
       "  <thead>\n",
       "    <tr style=\"text-align: right;\">\n",
       "      <th></th>\n",
       "      <th>state</th>\n",
       "      <th>usage_counter</th>\n",
       "      <th>prio</th>\n",
       "      <th>static_prio</th>\n",
       "      <th>normal_prio</th>\n",
       "      <th>policy</th>\n",
       "      <th>vm_pgoff</th>\n",
       "      <th>vm_truncate_count</th>\n",
       "      <th>task_size</th>\n",
       "      <th>cached_hole_size</th>\n",
       "      <th>free_area_cache</th>\n",
       "      <th>mm_users</th>\n",
       "      <th>hiwater_rss</th>\n",
       "      <th>total_vm</th>\n",
       "      <th>shared_vm</th>\n",
       "      <th>exec_vm</th>\n",
       "      <th>reserved_vm</th>\n",
       "      <th>nr_ptes</th>\n",
       "      <th>end_data</th>\n",
       "      <th>last_interval</th>\n",
       "      <th>nvcsw</th>\n",
       "      <th>nivcsw</th>\n",
       "      <th>min_flt</th>\n",
       "      <th>maj_flt</th>\n",
       "      <th>fs_excl_counter</th>\n",
       "      <th>lock</th>\n",
       "      <th>utime</th>\n",
       "      <th>stime</th>\n",
       "      <th>gtime</th>\n",
       "      <th>cgtime</th>\n",
       "      <th>signal_nvcsw</th>\n",
       "      <th>classification</th>\n",
       "    </tr>\n",
       "  </thead>\n",
       "  <tbody>\n",
       "    <tr>\n",
       "      <th>0</th>\n",
       "      <td>0.0</td>\n",
       "      <td>0.0</td>\n",
       "      <td>0.18254</td>\n",
       "      <td>0.016007</td>\n",
       "      <td>0.0</td>\n",
       "      <td>0.0</td>\n",
       "      <td>0.0</td>\n",
       "      <td>0.199175</td>\n",
       "      <td>0.0</td>\n",
       "      <td>0.0</td>\n",
       "      <td>0.046602</td>\n",
       "      <td>0.292428</td>\n",
       "      <td>0.0</td>\n",
       "      <td>0.052031</td>\n",
       "      <td>1.0</td>\n",
       "      <td>0.307692</td>\n",
       "      <td>0.249311</td>\n",
       "      <td>0.0</td>\n",
       "      <td>1.0</td>\n",
       "      <td>0.364581</td>\n",
       "      <td>0.091519</td>\n",
       "      <td>0.0</td>\n",
       "      <td>0.0</td>\n",
       "      <td>1.0</td>\n",
       "      <td>0.0</td>\n",
       "      <td>0.0</td>\n",
       "      <td>0.177694</td>\n",
       "      <td>0.25</td>\n",
       "      <td>0.0</td>\n",
       "      <td>0.0</td>\n",
       "      <td>0.0</td>\n",
       "      <td>1</td>\n",
       "    </tr>\n",
       "    <tr>\n",
       "      <th>1</th>\n",
       "      <td>0.0</td>\n",
       "      <td>0.0</td>\n",
       "      <td>0.18254</td>\n",
       "      <td>0.016007</td>\n",
       "      <td>0.0</td>\n",
       "      <td>0.0</td>\n",
       "      <td>0.0</td>\n",
       "      <td>0.199175</td>\n",
       "      <td>0.0</td>\n",
       "      <td>0.0</td>\n",
       "      <td>0.046602</td>\n",
       "      <td>0.292428</td>\n",
       "      <td>0.0</td>\n",
       "      <td>0.052031</td>\n",
       "      <td>1.0</td>\n",
       "      <td>0.307692</td>\n",
       "      <td>0.249311</td>\n",
       "      <td>0.0</td>\n",
       "      <td>1.0</td>\n",
       "      <td>0.364581</td>\n",
       "      <td>0.091519</td>\n",
       "      <td>0.0</td>\n",
       "      <td>0.0</td>\n",
       "      <td>1.0</td>\n",
       "      <td>0.0</td>\n",
       "      <td>0.0</td>\n",
       "      <td>0.177694</td>\n",
       "      <td>0.25</td>\n",
       "      <td>0.0</td>\n",
       "      <td>0.0</td>\n",
       "      <td>0.0</td>\n",
       "      <td>1</td>\n",
       "    </tr>\n",
       "    <tr>\n",
       "      <th>2</th>\n",
       "      <td>0.0</td>\n",
       "      <td>0.0</td>\n",
       "      <td>0.18254</td>\n",
       "      <td>0.016007</td>\n",
       "      <td>0.0</td>\n",
       "      <td>0.0</td>\n",
       "      <td>0.0</td>\n",
       "      <td>0.199175</td>\n",
       "      <td>0.0</td>\n",
       "      <td>0.0</td>\n",
       "      <td>0.046602</td>\n",
       "      <td>0.292428</td>\n",
       "      <td>0.0</td>\n",
       "      <td>0.052031</td>\n",
       "      <td>1.0</td>\n",
       "      <td>0.307692</td>\n",
       "      <td>0.249311</td>\n",
       "      <td>0.0</td>\n",
       "      <td>1.0</td>\n",
       "      <td>0.364581</td>\n",
       "      <td>0.091519</td>\n",
       "      <td>0.0</td>\n",
       "      <td>0.0</td>\n",
       "      <td>1.0</td>\n",
       "      <td>0.0</td>\n",
       "      <td>0.0</td>\n",
       "      <td>0.177694</td>\n",
       "      <td>0.25</td>\n",
       "      <td>0.0</td>\n",
       "      <td>0.0</td>\n",
       "      <td>0.0</td>\n",
       "      <td>1</td>\n",
       "    </tr>\n",
       "    <tr>\n",
       "      <th>3</th>\n",
       "      <td>0.0</td>\n",
       "      <td>0.0</td>\n",
       "      <td>0.18254</td>\n",
       "      <td>0.016007</td>\n",
       "      <td>0.0</td>\n",
       "      <td>0.0</td>\n",
       "      <td>0.0</td>\n",
       "      <td>0.199175</td>\n",
       "      <td>0.0</td>\n",
       "      <td>0.0</td>\n",
       "      <td>0.046602</td>\n",
       "      <td>0.292428</td>\n",
       "      <td>0.0</td>\n",
       "      <td>0.052031</td>\n",
       "      <td>1.0</td>\n",
       "      <td>0.307692</td>\n",
       "      <td>0.249311</td>\n",
       "      <td>0.0</td>\n",
       "      <td>1.0</td>\n",
       "      <td>0.364581</td>\n",
       "      <td>0.091519</td>\n",
       "      <td>0.0</td>\n",
       "      <td>0.0</td>\n",
       "      <td>1.0</td>\n",
       "      <td>0.0</td>\n",
       "      <td>0.0</td>\n",
       "      <td>0.177694</td>\n",
       "      <td>0.25</td>\n",
       "      <td>0.0</td>\n",
       "      <td>0.0</td>\n",
       "      <td>0.0</td>\n",
       "      <td>1</td>\n",
       "    </tr>\n",
       "    <tr>\n",
       "      <th>4</th>\n",
       "      <td>0.0</td>\n",
       "      <td>0.0</td>\n",
       "      <td>0.18254</td>\n",
       "      <td>0.016007</td>\n",
       "      <td>0.0</td>\n",
       "      <td>0.0</td>\n",
       "      <td>0.0</td>\n",
       "      <td>0.199175</td>\n",
       "      <td>0.0</td>\n",
       "      <td>0.0</td>\n",
       "      <td>0.046602</td>\n",
       "      <td>0.292428</td>\n",
       "      <td>0.0</td>\n",
       "      <td>0.052031</td>\n",
       "      <td>1.0</td>\n",
       "      <td>0.307692</td>\n",
       "      <td>0.249311</td>\n",
       "      <td>0.0</td>\n",
       "      <td>1.0</td>\n",
       "      <td>0.364581</td>\n",
       "      <td>0.091519</td>\n",
       "      <td>0.0</td>\n",
       "      <td>0.0</td>\n",
       "      <td>1.0</td>\n",
       "      <td>0.0</td>\n",
       "      <td>0.0</td>\n",
       "      <td>0.177694</td>\n",
       "      <td>0.25</td>\n",
       "      <td>0.0</td>\n",
       "      <td>0.0</td>\n",
       "      <td>0.0</td>\n",
       "      <td>1</td>\n",
       "    </tr>\n",
       "  </tbody>\n",
       "</table>\n",
       "</div>"
      ],
      "text/plain": [
       "   state  usage_counter     prio  static_prio  normal_prio  policy  vm_pgoff  \\\n",
       "0    0.0            0.0  0.18254     0.016007          0.0     0.0       0.0   \n",
       "1    0.0            0.0  0.18254     0.016007          0.0     0.0       0.0   \n",
       "2    0.0            0.0  0.18254     0.016007          0.0     0.0       0.0   \n",
       "3    0.0            0.0  0.18254     0.016007          0.0     0.0       0.0   \n",
       "4    0.0            0.0  0.18254     0.016007          0.0     0.0       0.0   \n",
       "\n",
       "   vm_truncate_count  task_size  cached_hole_size  free_area_cache  mm_users  \\\n",
       "0           0.199175        0.0               0.0         0.046602  0.292428   \n",
       "1           0.199175        0.0               0.0         0.046602  0.292428   \n",
       "2           0.199175        0.0               0.0         0.046602  0.292428   \n",
       "3           0.199175        0.0               0.0         0.046602  0.292428   \n",
       "4           0.199175        0.0               0.0         0.046602  0.292428   \n",
       "\n",
       "   hiwater_rss  total_vm  shared_vm   exec_vm  reserved_vm  nr_ptes  end_data  \\\n",
       "0          0.0  0.052031        1.0  0.307692     0.249311      0.0       1.0   \n",
       "1          0.0  0.052031        1.0  0.307692     0.249311      0.0       1.0   \n",
       "2          0.0  0.052031        1.0  0.307692     0.249311      0.0       1.0   \n",
       "3          0.0  0.052031        1.0  0.307692     0.249311      0.0       1.0   \n",
       "4          0.0  0.052031        1.0  0.307692     0.249311      0.0       1.0   \n",
       "\n",
       "   last_interval     nvcsw  nivcsw  min_flt  maj_flt  fs_excl_counter  lock  \\\n",
       "0       0.364581  0.091519     0.0      0.0      1.0              0.0   0.0   \n",
       "1       0.364581  0.091519     0.0      0.0      1.0              0.0   0.0   \n",
       "2       0.364581  0.091519     0.0      0.0      1.0              0.0   0.0   \n",
       "3       0.364581  0.091519     0.0      0.0      1.0              0.0   0.0   \n",
       "4       0.364581  0.091519     0.0      0.0      1.0              0.0   0.0   \n",
       "\n",
       "      utime  stime  gtime  cgtime  signal_nvcsw  classification  \n",
       "0  0.177694   0.25    0.0     0.0           0.0               1  \n",
       "1  0.177694   0.25    0.0     0.0           0.0               1  \n",
       "2  0.177694   0.25    0.0     0.0           0.0               1  \n",
       "3  0.177694   0.25    0.0     0.0           0.0               1  \n",
       "4  0.177694   0.25    0.0     0.0           0.0               1  "
      ]
     },
     "execution_count": 194,
     "metadata": {},
     "output_type": "execute_result"
    }
   ],
   "source": [
    "df.head()"
   ]
  },
  {
   "cell_type": "markdown",
   "metadata": {
    "id": "1kS6QCkd1yYE"
   },
   "source": [
    "# MACHINE LEARNING ALGORITHMS"
   ]
  },
  {
   "cell_type": "code",
   "execution_count": 195,
   "metadata": {
    "id": "pGSHX8hs1Zgg"
   },
   "outputs": [],
   "source": [
    "x = df.drop('classification',axis=1)\n",
    "x1 = pd.DataFrame(x)\n",
    "y = df['classification']\n",
    "y1 = pd.DataFrame(y)"
   ]
  },
  {
   "cell_type": "code",
   "execution_count": 196,
   "metadata": {
    "id": "uvBWaKlA2Gn1"
   },
   "outputs": [],
   "source": [
    "from sklearn.model_selection import train_test_split\n",
    "x1_train,x1_test,y1_train,y1_test = train_test_split(x1,y1,test_size=0.20,random_state=42)"
   ]
  },
  {
   "cell_type": "code",
   "execution_count": 197,
   "metadata": {
    "id": "nj01Ln6c33Cz"
   },
   "outputs": [],
   "source": [
    "from sklearn.metrics import accuracy_score"
   ]
  },
  {
   "cell_type": "markdown",
   "metadata": {
    "id": "F9_aTpwM2neh"
   },
   "source": [
    "# Logistic Regression"
   ]
  },
  {
   "cell_type": "code",
   "execution_count": 198,
   "metadata": {
    "id": "r3K0TXUD2O1J"
   },
   "outputs": [],
   "source": [
    "from sklearn.linear_model import LogisticRegression\n",
    "lr = LogisticRegression()"
   ]
  },
  {
   "cell_type": "code",
   "execution_count": 199,
   "metadata": {
    "colab": {
     "base_uri": "https://localhost:8080/"
    },
    "id": "8JlPvLKr2mNu",
    "outputId": "4ca9d904-bc6d-45e8-d909-902014459d7b"
   },
   "outputs": [
    {
     "name": "stderr",
     "output_type": "stream",
     "text": [
      "C:\\Users\\dell\\anaconda3\\Lib\\site-packages\\sklearn\\utils\\validation.py:1184: DataConversionWarning: A column-vector y was passed when a 1d array was expected. Please change the shape of y to (n_samples, ), for example using ravel().\n",
      "  y = column_or_1d(y, warn=True)\n",
      "C:\\Users\\dell\\anaconda3\\Lib\\site-packages\\sklearn\\linear_model\\_logistic.py:460: ConvergenceWarning: lbfgs failed to converge (status=1):\n",
      "STOP: TOTAL NO. of ITERATIONS REACHED LIMIT.\n",
      "\n",
      "Increase the number of iterations (max_iter) or scale the data as shown in:\n",
      "    https://scikit-learn.org/stable/modules/preprocessing.html\n",
      "Please also refer to the documentation for alternative solver options:\n",
      "    https://scikit-learn.org/stable/modules/linear_model.html#logistic-regression\n",
      "  n_iter_i = _check_optimize_result(\n"
     ]
    }
   ],
   "source": [
    "model1 = lr.fit(x1_train,y1_train)\n",
    "y1_pred1 = model1.predict(x1_test)"
   ]
  },
  {
   "cell_type": "code",
   "execution_count": 200,
   "metadata": {
    "colab": {
     "base_uri": "https://localhost:8080/"
    },
    "id": "GkciGxj93tHB",
    "outputId": "5faf440b-662c-44ef-e6ea-6ab3be692ee6"
   },
   "outputs": [
    {
     "name": "stdout",
     "output_type": "stream",
     "text": [
      "the acc score of model logistic regression is: 0.9333\n"
     ]
    }
   ],
   "source": [
    "print(\"the acc score of model logistic regression is:\", accuracy_score(y1_test,y1_pred1))"
   ]
  },
  {
   "cell_type": "code",
   "execution_count": 201,
   "metadata": {
    "colab": {
     "base_uri": "https://localhost:8080/"
    },
    "id": "I3tTpe-G4SKd",
    "outputId": "8eb6fd6e-a11c-460c-f053-8b20ed01e5f4"
   },
   "outputs": [
    {
     "name": "stderr",
     "output_type": "stream",
     "text": [
      "C:\\Users\\dell\\anaconda3\\Lib\\site-packages\\sklearn\\base.py:464: UserWarning: X does not have valid feature names, but LogisticRegression was fitted with feature names\n",
      "  warnings.warn(\n"
     ]
    },
    {
     "data": {
      "text/plain": [
       "array([1])"
      ]
     },
     "execution_count": 201,
     "metadata": {},
     "output_type": "execute_result"
    }
   ],
   "source": [
    "model1.predict([[0.0,\t0.0,\t0.18254,\t0.016007,\t0.0,\t0.0,\t0.0,\t0.199175,\t0.0,\t0.0,\t0.046602,\t0.292428,\t0.0,\t0.052031,\t1.0,\t0.307692,\t0.249311,\t0.0,\t1.0,\t0.364581,\t0.091519,\t0.0,\t0.0,\t1.0,\t0.0,\t0.0,\t0.177694,\t0.25,\t0.0,\t0.0,\t0.0]])"
   ]
  },
  {
   "cell_type": "markdown",
   "metadata": {
    "id": "QV_N0tXh43Ch"
   },
   "source": [
    "# KNNeighbors algorithm"
   ]
  },
  {
   "cell_type": "code",
   "execution_count": 202,
   "metadata": {
    "colab": {
     "base_uri": "https://localhost:8080/"
    },
    "id": "OdmxFMHK40XC",
    "outputId": "277aa0d3-566c-4318-e7e3-fbdb5a0398ba"
   },
   "outputs": [
    {
     "name": "stderr",
     "output_type": "stream",
     "text": [
      "C:\\Users\\dell\\anaconda3\\Lib\\site-packages\\sklearn\\neighbors\\_classification.py:228: DataConversionWarning: A column-vector y was passed when a 1d array was expected. Please change the shape of y to (n_samples,), for example using ravel().\n",
      "  return self._fit(X, y)\n",
      "C:\\Users\\dell\\anaconda3\\Lib\\site-packages\\sklearn\\base.py:464: UserWarning: X does not have valid feature names, but KNeighborsClassifier was fitted with feature names\n",
      "  warnings.warn(\n",
      "C:\\Users\\dell\\anaconda3\\Lib\\site-packages\\sklearn\\neighbors\\_classification.py:228: DataConversionWarning: A column-vector y was passed when a 1d array was expected. Please change the shape of y to (n_samples,), for example using ravel().\n",
      "  return self._fit(X, y)\n",
      "C:\\Users\\dell\\anaconda3\\Lib\\site-packages\\sklearn\\base.py:464: UserWarning: X does not have valid feature names, but KNeighborsClassifier was fitted with feature names\n",
      "  warnings.warn(\n",
      "C:\\Users\\dell\\anaconda3\\Lib\\site-packages\\sklearn\\neighbors\\_classification.py:228: DataConversionWarning: A column-vector y was passed when a 1d array was expected. Please change the shape of y to (n_samples,), for example using ravel().\n",
      "  return self._fit(X, y)\n",
      "C:\\Users\\dell\\anaconda3\\Lib\\site-packages\\sklearn\\base.py:464: UserWarning: X does not have valid feature names, but KNeighborsClassifier was fitted with feature names\n",
      "  warnings.warn(\n",
      "C:\\Users\\dell\\anaconda3\\Lib\\site-packages\\sklearn\\neighbors\\_classification.py:228: DataConversionWarning: A column-vector y was passed when a 1d array was expected. Please change the shape of y to (n_samples,), for example using ravel().\n",
      "  return self._fit(X, y)\n",
      "C:\\Users\\dell\\anaconda3\\Lib\\site-packages\\sklearn\\base.py:464: UserWarning: X does not have valid feature names, but KNeighborsClassifier was fitted with feature names\n",
      "  warnings.warn(\n",
      "C:\\Users\\dell\\anaconda3\\Lib\\site-packages\\sklearn\\neighbors\\_classification.py:228: DataConversionWarning: A column-vector y was passed when a 1d array was expected. Please change the shape of y to (n_samples,), for example using ravel().\n",
      "  return self._fit(X, y)\n",
      "C:\\Users\\dell\\anaconda3\\Lib\\site-packages\\sklearn\\base.py:464: UserWarning: X does not have valid feature names, but KNeighborsClassifier was fitted with feature names\n",
      "  warnings.warn(\n",
      "C:\\Users\\dell\\anaconda3\\Lib\\site-packages\\sklearn\\neighbors\\_classification.py:228: DataConversionWarning: A column-vector y was passed when a 1d array was expected. Please change the shape of y to (n_samples,), for example using ravel().\n",
      "  return self._fit(X, y)\n",
      "C:\\Users\\dell\\anaconda3\\Lib\\site-packages\\sklearn\\base.py:464: UserWarning: X does not have valid feature names, but KNeighborsClassifier was fitted with feature names\n",
      "  warnings.warn(\n",
      "C:\\Users\\dell\\anaconda3\\Lib\\site-packages\\sklearn\\neighbors\\_classification.py:228: DataConversionWarning: A column-vector y was passed when a 1d array was expected. Please change the shape of y to (n_samples,), for example using ravel().\n",
      "  return self._fit(X, y)\n",
      "C:\\Users\\dell\\anaconda3\\Lib\\site-packages\\sklearn\\base.py:464: UserWarning: X does not have valid feature names, but KNeighborsClassifier was fitted with feature names\n",
      "  warnings.warn(\n",
      "C:\\Users\\dell\\anaconda3\\Lib\\site-packages\\sklearn\\neighbors\\_classification.py:228: DataConversionWarning: A column-vector y was passed when a 1d array was expected. Please change the shape of y to (n_samples,), for example using ravel().\n",
      "  return self._fit(X, y)\n",
      "C:\\Users\\dell\\anaconda3\\Lib\\site-packages\\sklearn\\base.py:464: UserWarning: X does not have valid feature names, but KNeighborsClassifier was fitted with feature names\n",
      "  warnings.warn(\n",
      "C:\\Users\\dell\\anaconda3\\Lib\\site-packages\\sklearn\\neighbors\\_classification.py:228: DataConversionWarning: A column-vector y was passed when a 1d array was expected. Please change the shape of y to (n_samples,), for example using ravel().\n",
      "  return self._fit(X, y)\n",
      "C:\\Users\\dell\\anaconda3\\Lib\\site-packages\\sklearn\\base.py:464: UserWarning: X does not have valid feature names, but KNeighborsClassifier was fitted with feature names\n",
      "  warnings.warn(\n",
      "C:\\Users\\dell\\anaconda3\\Lib\\site-packages\\sklearn\\neighbors\\_classification.py:228: DataConversionWarning: A column-vector y was passed when a 1d array was expected. Please change the shape of y to (n_samples,), for example using ravel().\n",
      "  return self._fit(X, y)\n",
      "C:\\Users\\dell\\anaconda3\\Lib\\site-packages\\sklearn\\base.py:464: UserWarning: X does not have valid feature names, but KNeighborsClassifier was fitted with feature names\n",
      "  warnings.warn(\n",
      "C:\\Users\\dell\\anaconda3\\Lib\\site-packages\\sklearn\\neighbors\\_classification.py:228: DataConversionWarning: A column-vector y was passed when a 1d array was expected. Please change the shape of y to (n_samples,), for example using ravel().\n",
      "  return self._fit(X, y)\n",
      "C:\\Users\\dell\\anaconda3\\Lib\\site-packages\\sklearn\\base.py:464: UserWarning: X does not have valid feature names, but KNeighborsClassifier was fitted with feature names\n",
      "  warnings.warn(\n"
     ]
    }
   ],
   "source": [
    "from sklearn.neighbors import KNeighborsClassifier\n",
    "from sklearn.metrics import accuracy_score\n",
    "import numpy as np\n",
    "\n",
    "metric_k = []\n",
    "neighbors = np.arange(3, 14)\n",
    "\n",
    "for k in neighbors:\n",
    "    knn = KNeighborsClassifier(n_neighbors=k)\n",
    "    model2 = knn.fit(x1_train, y1_train)\n",
    "    # Convert DataFrame to numpy array\n",
    "    x1_test_array = x1_test.values\n",
    "    y1_predknn = model2.predict(x1_test_array)\n",
    "    acc = accuracy_score(y1_test, y1_predknn)\n",
    "    metric_k.append(acc)\n"
   ]
  },
  {
   "cell_type": "code",
   "execution_count": 203,
   "metadata": {
    "colab": {
     "base_uri": "https://localhost:8080/",
     "height": 450
    },
    "id": "2toDvJUc6Xlj",
    "outputId": "fe45975a-ae45-4da9-d91e-e35ba86398f9"
   },
   "outputs": [
    {
     "data": {
      "image/png": "[encoded data removed]",
      "text/plain": [
       "<Figure size 640x480 with 1 Axes>"
      ]
     },
     "metadata": {},
     "output_type": "display_data"
    }
   ],
   "source": [
    "plt.plot(neighbors,metric_k,'o-')\n",
    "plt.xlabel('k_value')\n",
    "plt.ylabel('acc')\n",
    "plt.grid()"
   ]
  },
  {
   "cell_type": "code",
   "execution_count": 204,
   "metadata": {
    "colab": {
     "base_uri": "https://localhost:8080/"
    },
    "id": "cL6Ynlm07QMA",
    "outputId": "2b31e9f9-6815-4907-b35f-f42114b20ed4"
   },
   "outputs": [
    {
     "name": "stderr",
     "output_type": "stream",
     "text": [
      "C:\\Users\\dell\\anaconda3\\Lib\\site-packages\\sklearn\\neighbors\\_classification.py:228: DataConversionWarning: A column-vector y was passed when a 1d array was expected. Please change the shape of y to (n_samples,), for example using ravel().\n",
      "  return self._fit(X, y)\n",
      "C:\\Users\\dell\\anaconda3\\Lib\\site-packages\\sklearn\\base.py:464: UserWarning: X does not have valid feature names, but KNeighborsClassifier was fitted with feature names\n",
      "  warnings.warn(\n"
     ]
    }
   ],
   "source": [
    "# accuracy more on point 12 so taking it as a k and creating a model using k=12\n",
    "\n",
    "knn =KNeighborsClassifier(n_neighbors=12)\n",
    "model2 = knn.fit(x1_train,y1_train)\n",
    "y1_predknn = model2.predict(x1_test_array)\n"
   ]
  },
  {
   "cell_type": "code",
   "execution_count": 205,
   "metadata": {
    "colab": {
     "base_uri": "https://localhost:8080/"
    },
    "id": "Fnl-ZSOG8AVN",
    "outputId": "a03eacb7-8d06-4160-9122-cc288baabd1f"
   },
   "outputs": [
    {
     "name": "stdout",
     "output_type": "stream",
     "text": [
      "the acc score of knneighbor model is: 0.9998\n"
     ]
    }
   ],
   "source": [
    "print(\"the acc score of knneighbor model is:\", accuracy_score(y1_test,y1_predknn))"
   ]
  },
  {
   "cell_type": "code",
   "execution_count": 206,
   "metadata": {
    "colab": {
     "base_uri": "https://localhost:8080/"
    },
    "id": "tMeYdS-W8P9A",
    "outputId": "9f6c92bc-7ad1-415f-df03-f6a5e9ede4e4"
   },
   "outputs": [
    {
     "name": "stderr",
     "output_type": "stream",
     "text": [
      "C:\\Users\\dell\\anaconda3\\Lib\\site-packages\\sklearn\\base.py:464: UserWarning: X does not have valid feature names, but KNeighborsClassifier was fitted with feature names\n",
      "  warnings.warn(\n"
     ]
    },
    {
     "data": {
      "text/plain": [
       "array([1])"
      ]
     },
     "execution_count": 206,
     "metadata": {},
     "output_type": "execute_result"
    }
   ],
   "source": [
    "model2.predict([[0.0,\t0.0,\t0.18254,\t0.016007,\t0.0,\t0.0,\t0.0,\t0.199175,\t0.0,\t0.0,\t0.046602,\t0.292428,\t0.0,\t0.052031,\t1.0,\t0.307692,\t0.249311,\t0.0,\t1.0,\t0.364581,\t0.091519,\t0.0,\t0.0,\t1.0,\t0.0,\t0.0,\t0.177694,\t0.25,\t0.0,\t0.0,\t0.0]])"
   ]
  },
  {
   "cell_type": "code",
   "execution_count": null,
   "metadata": {
    "id": "u5Ar58SS8daf"
   },
   "outputs": [],
   "source": []
  },
  {
   "cell_type": "markdown",
   "metadata": {
    "id": "3lI9fFZI8p7o"
   },
   "source": [
    "# SVM ALGORITHM"
   ]
  },
  {
   "cell_type": "code",
   "execution_count": 207,
   "metadata": {
    "colab": {
     "base_uri": "https://localhost:8080/"
    },
    "id": "1IYJugkZ8u-a",
    "outputId": "fc3b04cd-6dac-483f-c0b4-e2f122db8ae5"
   },
   "outputs": [
    {
     "name": "stderr",
     "output_type": "stream",
     "text": [
      "C:\\Users\\dell\\anaconda3\\Lib\\site-packages\\sklearn\\utils\\validation.py:1184: DataConversionWarning: A column-vector y was passed when a 1d array was expected. Please change the shape of y to (n_samples, ), for example using ravel().\n",
      "  y = column_or_1d(y, warn=True)\n"
     ]
    }
   ],
   "source": [
    "from sklearn.svm import SVC\n",
    "svm = SVC(kernel='rbf')\n",
    "model3 = svm.fit(x1_train,y1_train)\n",
    "y1_predsvm = model3.predict(x1_test)"
   ]
  },
  {
   "cell_type": "code",
   "execution_count": 208,
   "metadata": {
    "colab": {
     "base_uri": "https://localhost:8080/"
    },
    "id": "N_TvPkn9916_",
    "outputId": "4247e872-04d5-4eb0-b303-23fd2f1071b2"
   },
   "outputs": [
    {
     "name": "stdout",
     "output_type": "stream",
     "text": [
      "the acc score of SVM model is : 0.9863\n"
     ]
    }
   ],
   "source": [
    "print(\"the acc score of SVM model is :\", accuracy_score(y1_test,y1_predsvm))"
   ]
  },
  {
   "cell_type": "code",
   "execution_count": 209,
   "metadata": {
    "colab": {
     "base_uri": "https://localhost:8080/"
    },
    "id": "kMA2mb2c-cAF",
    "outputId": "0d5b434a-9d22-407c-8f9d-35939bc90548"
   },
   "outputs": [
    {
     "name": "stderr",
     "output_type": "stream",
     "text": [
      "C:\\Users\\dell\\anaconda3\\Lib\\site-packages\\sklearn\\base.py:464: UserWarning: X does not have valid feature names, but SVC was fitted with feature names\n",
      "  warnings.warn(\n"
     ]
    },
    {
     "data": {
      "text/plain": [
       "array([1])"
      ]
     },
     "execution_count": 209,
     "metadata": {},
     "output_type": "execute_result"
    }
   ],
   "source": [
    "model3.predict([[0.000000,\t0.0,\t0.182540,\t0.016007,\t0.0,\t0.0,\t0.0,\t0.199175,\t0.0,\t0.0,\t0.046602,\t0.292428,\t0.0,\t0.052031,\t1.0,\t0.307692,\t0.249311,\t0.0,\t1.0,\t0.364581,\t0.091519,\t0.000000,\t0.000000,\t1.0,\t0.0,\t0.0,\t0.177694,\t0.25,\t0.0,\t0.0,\t0.0]])"
   ]
  },
  {
   "cell_type": "markdown",
   "metadata": {
    "id": "mCe15Awq_F_k"
   },
   "source": [
    "# DECISION TREE"
   ]
  },
  {
   "cell_type": "code",
   "execution_count": 210,
   "metadata": {
    "id": "6j-9k1wa_Cq6"
   },
   "outputs": [],
   "source": [
    "from sklearn.tree import DecisionTreeClassifier\n",
    "DTC = DecisionTreeClassifier(random_state=42)\n",
    "model4 = DTC.fit(x1_train,y1_train)\n",
    "y1_predDT = model4.predict(x1_test)"
   ]
  },
  {
   "cell_type": "code",
   "execution_count": 211,
   "metadata": {
    "colab": {
     "base_uri": "https://localhost:8080/"
    },
    "id": "Jr2PZauq_v3a",
    "outputId": "5034f659-e155-4b59-d4cc-36f97ba1bab3"
   },
   "outputs": [
    {
     "name": "stdout",
     "output_type": "stream",
     "text": [
      "the acc score of decision tree is : 1.0\n"
     ]
    }
   ],
   "source": [
    "print(\"the acc score of decision tree is :\", accuracy_score(y1_test,y1_predDT))"
   ]
  },
  {
   "cell_type": "code",
   "execution_count": 212,
   "metadata": {
    "colab": {
     "base_uri": "https://localhost:8080/"
    },
    "id": "QwYoDNvd_5zD",
    "outputId": "493b23ab-97d1-40ea-c864-bfe18e03d403"
   },
   "outputs": [
    {
     "name": "stderr",
     "output_type": "stream",
     "text": [
      "C:\\Users\\dell\\anaconda3\\Lib\\site-packages\\sklearn\\base.py:464: UserWarning: X does not have valid feature names, but DecisionTreeClassifier was fitted with feature names\n",
      "  warnings.warn(\n"
     ]
    },
    {
     "data": {
      "text/plain": [
       "array([1])"
      ]
     },
     "execution_count": 212,
     "metadata": {},
     "output_type": "execute_result"
    }
   ],
   "source": [
    "model4.predict([[0.000000,\t0.0,\t0.182540,\t0.016007,\t0.0,\t0.0,\t0.0,\t0.199175,\t0.0,\t0.0,\t0.046602,\t0.292428,\t0.0,\t0.052031,\t1.0,\t0.307692,\t0.249311,\t0.0,\t1.0,\t0.364581,\t0.091519,\t0.000000,\t0.000000,\t1.0,\t0.0,\t0.0,\t0.177694,\t0.25,\t0.0,\t0.0,\t0.0]])"
   ]
  },
  {
   "cell_type": "markdown",
   "metadata": {
    "id": "oAy5QYOMALSm"
   },
   "source": [
    "#RANDOM FOREST"
   ]
  },
  {
   "cell_type": "code",
   "execution_count": 213,
   "metadata": {
    "colab": {
     "base_uri": "https://localhost:8080/"
    },
    "id": "job11o7hARSK",
    "outputId": "cac52e64-b502-4482-c94d-ea78740d567d"
   },
   "outputs": [
    {
     "name": "stderr",
     "output_type": "stream",
     "text": [
      "C:\\Users\\dell\\anaconda3\\Lib\\site-packages\\sklearn\\base.py:1151: DataConversionWarning: A column-vector y was passed when a 1d array was expected. Please change the shape of y to (n_samples,), for example using ravel().\n",
      "  return fit_method(estimator, *args, **kwargs)\n"
     ]
    }
   ],
   "source": [
    "from sklearn.ensemble import RandomForestClassifier\n",
    "RFC = RandomForestClassifier()\n",
    "model5 = RFC.fit(x1_train,y1_train)\n",
    "y1_predRF = model5.predict(x1_test)"
   ]
  },
  {
   "cell_type": "code",
   "execution_count": 214,
   "metadata": {
    "colab": {
     "base_uri": "https://localhost:8080/"
    },
    "id": "W9mzJ1NmBRZc",
    "outputId": "8c0016a1-69f1-415a-84dc-6eac16ec2d22"
   },
   "outputs": [
    {
     "name": "stdout",
     "output_type": "stream",
     "text": [
      "the acc score of random forest model is : 1.0\n"
     ]
    }
   ],
   "source": [
    "print(\"the acc score of random forest model is :\", accuracy_score(y1_test,y1_predRF))"
   ]
  },
  {
   "cell_type": "code",
   "execution_count": 215,
   "metadata": {
    "colab": {
     "base_uri": "https://localhost:8080/"
    },
    "id": "hylgH_0EBcHE",
    "outputId": "5bd1972e-ad93-46af-bec5-b337b3a73bd3"
   },
   "outputs": [
    {
     "name": "stderr",
     "output_type": "stream",
     "text": [
      "C:\\Users\\dell\\anaconda3\\Lib\\site-packages\\sklearn\\base.py:464: UserWarning: X does not have valid feature names, but RandomForestClassifier was fitted with feature names\n",
      "  warnings.warn(\n"
     ]
    },
    {
     "data": {
      "text/plain": [
       "array([1])"
      ]
     },
     "execution_count": 215,
     "metadata": {},
     "output_type": "execute_result"
    }
   ],
   "source": [
    "model5.predict([[0.000000,\t0.0,\t0.182540,\t0.016007,\t0.0,\t0.0,\t0.0,\t0.199175,\t0.0,\t0.0,\t0.046602,\t0.292428,\t0.0,\t0.052031,\t1.0,\t0.307692,\t0.249311,\t0.0,\t1.0,\t0.364581,\t0.091519,\t0.000000,\t0.000000,\t1.0,\t0.0,\t0.0,\t0.177694,\t0.25,\t0.0,\t0.0,\t0.0]])"
   ]
  },
  {
   "cell_type": "code",
   "execution_count": null,
   "metadata": {
    "id": "Tq2v4qARBjW_"
   },
   "outputs": [],
   "source": []
  },
  {
   "cell_type": "markdown",
   "metadata": {
    "id": "yOWwrW1kBlw-"
   },
   "source": [
    "#naive bayes"
   ]
  },
  {
   "cell_type": "code",
   "execution_count": 216,
   "metadata": {
    "colab": {
     "base_uri": "https://localhost:8080/"
    },
    "id": "-ci7zuhwBpYO",
    "outputId": "efb62cab-8788-4244-ae1f-7d6bb56ddd81"
   },
   "outputs": [
    {
     "name": "stderr",
     "output_type": "stream",
     "text": [
      "C:\\Users\\dell\\anaconda3\\Lib\\site-packages\\sklearn\\utils\\validation.py:1184: DataConversionWarning: A column-vector y was passed when a 1d array was expected. Please change the shape of y to (n_samples, ), for example using ravel().\n",
      "  y = column_or_1d(y, warn=True)\n"
     ]
    }
   ],
   "source": [
    "# GAUSSIEN\n",
    "\n",
    "from sklearn.naive_bayes import GaussianNB\n",
    "GNB = GaussianNB()\n",
    "model61 = GNB.fit(x1_train,y1_train)\n",
    "y1_predGnb= model61.predict(x1_test)\n"
   ]
  },
  {
   "cell_type": "code",
   "execution_count": 217,
   "metadata": {
    "colab": {
     "base_uri": "https://localhost:8080/"
    },
    "id": "GOWNzKmuB5QK",
    "outputId": "49dae2fb-83b5-464b-8497-97c7927207b2"
   },
   "outputs": [
    {
     "name": "stdout",
     "output_type": "stream",
     "text": [
      "the acc score of gaussian naive bayes is: 0.6956\n"
     ]
    }
   ],
   "source": [
    "print(\"the acc score of gaussian naive bayes is:\", accuracy_score(y1_test,y1_predGnb))"
   ]
  },
  {
   "cell_type": "code",
   "execution_count": 218,
   "metadata": {
    "colab": {
     "base_uri": "https://localhost:8080/"
    },
    "id": "VbDDFMKkDVrI",
    "outputId": "d06fbc20-0dfd-46be-bafb-cff498347646"
   },
   "outputs": [
    {
     "name": "stderr",
     "output_type": "stream",
     "text": [
      "C:\\Users\\dell\\anaconda3\\Lib\\site-packages\\sklearn\\base.py:464: UserWarning: X does not have valid feature names, but GaussianNB was fitted with feature names\n",
      "  warnings.warn(\n"
     ]
    },
    {
     "data": {
      "text/plain": [
       "array([1])"
      ]
     },
     "execution_count": 218,
     "metadata": {},
     "output_type": "execute_result"
    }
   ],
   "source": [
    "model61.predict([[0.000000,\t0.0,\t0.182540,\t0.016007,\t0.0,\t0.0,\t0.0,\t0.199175,\t0.0,\t0.0,\t0.046602,\t0.292428,\t0.0,\t0.052031,\t1.0,\t0.307692,\t0.249311,\t0.0,\t1.0,\t0.364581,\t0.091519,\t0.000000,\t0.000000,\t1.0,\t0.0,\t0.0,\t0.177694,\t0.25,\t0.0,\t0.0,\t0.0]])"
   ]
  },
  {
   "cell_type": "code",
   "execution_count": 219,
   "metadata": {
    "colab": {
     "base_uri": "https://localhost:8080/"
    },
    "id": "woySlrvSDcE_",
    "outputId": "c8e31a2f-0e3f-46da-aaeb-73c168e9743a"
   },
   "outputs": [
    {
     "name": "stderr",
     "output_type": "stream",
     "text": [
      "C:\\Users\\dell\\anaconda3\\Lib\\site-packages\\sklearn\\utils\\validation.py:1184: DataConversionWarning: A column-vector y was passed when a 1d array was expected. Please change the shape of y to (n_samples, ), for example using ravel().\n",
      "  y = column_or_1d(y, warn=True)\n"
     ]
    }
   ],
   "source": [
    "# multinomial\n",
    "\n",
    "from sklearn.naive_bayes import MultinomialNB\n",
    "MNB = MultinomialNB()\n",
    "model62 = MNB.fit(x1_train,y1_train)\n",
    "y1_predMnb = model62.predict(x1_test)"
   ]
  },
  {
   "cell_type": "code",
   "execution_count": 220,
   "metadata": {
    "colab": {
     "base_uri": "https://localhost:8080/"
    },
    "id": "H2lzpFyWD7VH",
    "outputId": "9c436513-2cd2-45d8-e73b-1bd099b2ec2b"
   },
   "outputs": [
    {
     "name": "stdout",
     "output_type": "stream",
     "text": [
      "the acc score of multinomial naive bayes is: 0.67975\n"
     ]
    }
   ],
   "source": [
    "print(\"the acc score of multinomial naive bayes is:\", accuracy_score(y1_test,y1_predMnb))"
   ]
  },
  {
   "cell_type": "code",
   "execution_count": 221,
   "metadata": {
    "colab": {
     "base_uri": "https://localhost:8080/"
    },
    "id": "bZafV6TsELY0",
    "outputId": "237f2752-4b2e-4a6f-c630-f671f0484d31"
   },
   "outputs": [
    {
     "name": "stderr",
     "output_type": "stream",
     "text": [
      "C:\\Users\\dell\\anaconda3\\Lib\\site-packages\\sklearn\\base.py:464: UserWarning: X does not have valid feature names, but MultinomialNB was fitted with feature names\n",
      "  warnings.warn(\n"
     ]
    },
    {
     "data": {
      "text/plain": [
       "array([1])"
      ]
     },
     "execution_count": 221,
     "metadata": {},
     "output_type": "execute_result"
    }
   ],
   "source": [
    "model62.predict([[0.000000,\t0.0,\t0.182540,\t0.016007,\t0.0,\t0.0,\t0.0,\t0.199175,\t0.0,\t0.0,\t0.046602,\t0.292428,\t0.0,\t0.052031,\t1.0,\t0.307692,\t0.249311,\t0.0,\t1.0,\t0.364581,\t0.091519,\t0.000000,\t0.000000,\t1.0,\t0.0,\t0.0,\t0.177694,\t0.25,\t0.0,\t0.0,\t0.0]])"
   ]
  },
  {
   "cell_type": "code",
   "execution_count": 222,
   "metadata": {
    "colab": {
     "base_uri": "https://localhost:8080/"
    },
    "id": "1hoMTkbVERjq",
    "outputId": "6a0e0139-2b42-4632-a9b7-8897a8a35065"
   },
   "outputs": [
    {
     "name": "stderr",
     "output_type": "stream",
     "text": [
      "C:\\Users\\dell\\anaconda3\\Lib\\site-packages\\sklearn\\utils\\validation.py:1184: DataConversionWarning: A column-vector y was passed when a 1d array was expected. Please change the shape of y to (n_samples, ), for example using ravel().\n",
      "  y = column_or_1d(y, warn=True)\n"
     ]
    }
   ],
   "source": [
    "# bernoulli\n",
    "\n",
    "from sklearn.naive_bayes import BernoulliNB\n",
    "BNB = BernoulliNB()\n",
    "model63 = BNB.fit(x1_train,y1_train)\n",
    "y1_predBnb = model63.predict(x1_test)"
   ]
  },
  {
   "cell_type": "code",
   "execution_count": 223,
   "metadata": {
    "colab": {
     "base_uri": "https://localhost:8080/"
    },
    "id": "kdcOokETE3Qd",
    "outputId": "305a4813-e031-4e37-d1ca-cfdc049e9cc8"
   },
   "outputs": [
    {
     "name": "stdout",
     "output_type": "stream",
     "text": [
      "the acc score of bernoulli naive bayes is : 0.67135\n"
     ]
    }
   ],
   "source": [
    "print(\"the acc score of bernoulli naive bayes is :\", accuracy_score(y1_test,y1_predBnb))"
   ]
  },
  {
   "cell_type": "code",
   "execution_count": 224,
   "metadata": {
    "colab": {
     "base_uri": "https://localhost:8080/"
    },
    "id": "9GBvy34DFGIo",
    "outputId": "bb9f23d8-ff37-435d-e1ad-0e4553f3fc60"
   },
   "outputs": [
    {
     "name": "stderr",
     "output_type": "stream",
     "text": [
      "C:\\Users\\dell\\anaconda3\\Lib\\site-packages\\sklearn\\base.py:464: UserWarning: X does not have valid feature names, but BernoulliNB was fitted with feature names\n",
      "  warnings.warn(\n"
     ]
    },
    {
     "data": {
      "text/plain": [
       "array([0])"
      ]
     },
     "execution_count": 224,
     "metadata": {},
     "output_type": "execute_result"
    }
   ],
   "source": [
    "model63.predict([[0.000000,\t0.0,\t0.182540,\t0.016007,\t0.0,\t0.0,\t0.0,\t0.199175,\t0.0,\t0.0,\t0.046602,\t0.292428,\t0.0,\t0.052031,\t1.0,\t0.307692,\t0.249311,\t0.0,\t1.0,\t0.364581,\t0.091519,\t0.000000,\t0.000000,\t1.0,\t0.0,\t0.0,\t0.177694,\t0.25,\t0.0,\t0.0,\t0.0]])"
   ]
  },
  {
   "cell_type": "code",
   "execution_count": 225,
   "metadata": {
    "colab": {
     "base_uri": "https://localhost:8080/"
    },
    "id": "ya4Lqq52FfpK",
    "outputId": "5f5afdbc-e488-4ce2-cdad-2f687bc73fbb"
   },
   "outputs": [
    {
     "name": "stderr",
     "output_type": "stream",
     "text": [
      "C:\\Users\\dell\\anaconda3\\Lib\\site-packages\\sklearn\\base.py:464: UserWarning: X does not have valid feature names, but BernoulliNB was fitted with feature names\n",
      "  warnings.warn(\n"
     ]
    },
    {
     "data": {
      "text/plain": [
       "array([1])"
      ]
     },
     "execution_count": 225,
     "metadata": {},
     "output_type": "execute_result"
    }
   ],
   "source": [
    "model63.predict([[0.000095,\t0.0,\t0.928571,\t0.0,\t0.0,\t0.0,\t0.0,\t0.040717,\t0.0,\t0.0,\t0.0,\t0.010444,\t0.0,\t0.01283,\t1.0,\t0.048077,\t0.084022,\t0.0,\t1.0,\t0.0,\t0.0,\t0.005479,\t0.003906,\t1.0,\t0.0,\t0.0,\t0.00393,\t0.0,\t0.0,\t0.0,\t0.0]])"
   ]
  },
  {
   "cell_type": "markdown",
   "metadata": {
    "id": "DqnNVtNcGVYK"
   },
   "source": [
    "#BOOSTING MODEL"
   ]
  },
  {
   "cell_type": "code",
   "execution_count": 226,
   "metadata": {
    "colab": {
     "base_uri": "https://localhost:8080/"
    },
    "id": "VfDhGNXXGQTt",
    "outputId": "2b4d615a-928d-4582-ed31-fdfd41c81f17"
   },
   "outputs": [
    {
     "name": "stderr",
     "output_type": "stream",
     "text": [
      "C:\\Users\\dell\\anaconda3\\Lib\\site-packages\\sklearn\\utils\\validation.py:1184: DataConversionWarning: A column-vector y was passed when a 1d array was expected. Please change the shape of y to (n_samples, ), for example using ravel().\n",
      "  y = column_or_1d(y, warn=True)\n"
     ]
    }
   ],
   "source": [
    "# ADABOOST\n",
    "\n",
    "from sklearn.ensemble import AdaBoostClassifier\n",
    "ABC =AdaBoostClassifier()\n",
    "model71 = ABC.fit(x1_train,y1_train)\n",
    "y1_predadb = model71.predict(x1_test)"
   ]
  },
  {
   "cell_type": "code",
   "execution_count": 227,
   "metadata": {
    "colab": {
     "base_uri": "https://localhost:8080/"
    },
    "id": "JqYaK7l9Gw2R",
    "outputId": "0d87bdee-3cb1-4917-d774-839581e17e41"
   },
   "outputs": [
    {
     "name": "stdout",
     "output_type": "stream",
     "text": [
      "the acc score of adaboost is: 0.9998\n"
     ]
    }
   ],
   "source": [
    "print(\"the acc score of adaboost is:\", accuracy_score(y1_test,y1_predadb))"
   ]
  },
  {
   "cell_type": "code",
   "execution_count": 228,
   "metadata": {
    "colab": {
     "base_uri": "https://localhost:8080/"
    },
    "id": "9dlontH5H_DY",
    "outputId": "8279d5a9-4d6b-4039-961d-0a4395c9cb16"
   },
   "outputs": [
    {
     "name": "stderr",
     "output_type": "stream",
     "text": [
      "C:\\Users\\dell\\anaconda3\\Lib\\site-packages\\sklearn\\base.py:464: UserWarning: X does not have valid feature names, but AdaBoostClassifier was fitted with feature names\n",
      "  warnings.warn(\n"
     ]
    },
    {
     "data": {
      "text/plain": [
       "array([1])"
      ]
     },
     "execution_count": 228,
     "metadata": {},
     "output_type": "execute_result"
    }
   ],
   "source": [
    "model71.predict([[0.000095,\t0.0,\t0.928571,\t0.0,\t0.0,\t0.0,\t0.0,\t0.040717,\t0.0,\t0.0,\t0.0,\t0.010444,\t0.0,\t0.01283,\t1.0,\t0.048077,\t0.084022,\t0.0,\t1.0,\t0.0,\t0.0,\t0.005479,\t0.003906,\t1.0,\t0.0,\t0.0,\t0.00393,\t0.0,\t0.0,\t0.0,\t0.0]])"
   ]
  },
  {
   "cell_type": "code",
   "execution_count": 229,
   "metadata": {
    "colab": {
     "base_uri": "https://localhost:8080/"
    },
    "id": "YIqqtXCHIB-b",
    "outputId": "80346d87-a727-4410-fcfd-6e36891a0138"
   },
   "outputs": [
    {
     "name": "stderr",
     "output_type": "stream",
     "text": [
      "C:\\Users\\dell\\anaconda3\\Lib\\site-packages\\sklearn\\ensemble\\_gb.py:424: DataConversionWarning: A column-vector y was passed when a 1d array was expected. Please change the shape of y to (n_samples, ), for example using ravel().\n",
      "  y = column_or_1d(y, warn=True)\n"
     ]
    }
   ],
   "source": [
    "# GRADIENT BOOST\n",
    "\n",
    "from sklearn.ensemble import GradientBoostingClassifier\n",
    "GBC = GradientBoostingClassifier()\n",
    "model72 = GBC.fit(x1_train,y1_train)\n",
    "y1_predgbc = model72.predict(x1_test)"
   ]
  },
  {
   "cell_type": "code",
   "execution_count": 230,
   "metadata": {
    "colab": {
     "base_uri": "https://localhost:8080/"
    },
    "id": "BWColn24IzDi",
    "outputId": "974f9c24-d062-4572-fb18-edca43311cff"
   },
   "outputs": [
    {
     "name": "stdout",
     "output_type": "stream",
     "text": [
      "the acc score of gradient boostong is: 0.99975\n"
     ]
    }
   ],
   "source": [
    "print(\"the acc score of gradient boostong is:\", accuracy_score(y1_test,y1_predgbc))"
   ]
  },
  {
   "cell_type": "code",
   "execution_count": 231,
   "metadata": {
    "colab": {
     "base_uri": "https://localhost:8080/"
    },
    "id": "YnDF5Ht_I-R6",
    "outputId": "f12823da-0ee2-413b-ec0c-eaf069eac690"
   },
   "outputs": [
    {
     "name": "stderr",
     "output_type": "stream",
     "text": [
      "C:\\Users\\dell\\anaconda3\\Lib\\site-packages\\sklearn\\base.py:464: UserWarning: X does not have valid feature names, but GradientBoostingClassifier was fitted with feature names\n",
      "  warnings.warn(\n"
     ]
    },
    {
     "data": {
      "text/plain": [
       "array([1])"
      ]
     },
     "execution_count": 231,
     "metadata": {},
     "output_type": "execute_result"
    }
   ],
   "source": [
    "model72.predict([[0.000095,\t0.0,\t0.928571,\t0.0,\t0.0,\t0.0,\t0.0,\t0.040717,\t0.0,\t0.0,\t0.0,\t0.010444,\t0.0,\t0.01283,\t1.0,\t0.048077,\t0.084022,\t0.0,\t1.0,\t0.0,\t0.0,\t0.005479,\t0.003906,\t1.0,\t0.0,\t0.0,\t0.00393,\t0.0,\t0.0,\t0.0,\t0.0]])"
   ]
  },
  {
   "cell_type": "code",
   "execution_count": 232,
   "metadata": {
    "colab": {
     "base_uri": "https://localhost:8080/"
    },
    "id": "lNxfrHxGJJ2b",
    "outputId": "55b0b117-e38a-4acd-9eaf-7ecfc97a7914"
   },
   "outputs": [
    {
     "name": "stdout",
     "output_type": "stream",
     "text": [
      "Requirement already satisfied: xgboost in c:\\users\\dell\\anaconda3\\lib\\site-packages (2.0.3)\n",
      "Requirement already satisfied: numpy in c:\\users\\dell\\anaconda3\\lib\\site-packages (from xgboost) (1.24.3)\n",
      "Requirement already satisfied: scipy in c:\\users\\dell\\anaconda3\\lib\\site-packages (from xgboost) (1.11.1)\n"
     ]
    }
   ],
   "source": [
    "# XGBOOST\n",
    "!pip install xgboost"
   ]
  },
  {
   "cell_type": "code",
   "execution_count": 233,
   "metadata": {
    "id": "aDmYnmCTJO_X"
   },
   "outputs": [],
   "source": [
    "from xgboost import XGBClassifier\n",
    "Xgbc = XGBClassifier()\n",
    "model73 = Xgbc.fit(x1_train,y1_train)\n",
    "y1_predxgb = model73.predict(x1_test)"
   ]
  },
  {
   "cell_type": "code",
   "execution_count": 234,
   "metadata": {
    "colab": {
     "base_uri": "https://localhost:8080/"
    },
    "id": "xr92J3zEJv4P",
    "outputId": "118efb89-dcb1-4165-b8f8-ee693034de0f"
   },
   "outputs": [
    {
     "name": "stdout",
     "output_type": "stream",
     "text": [
      "the acc score od xgboost is: 1.0\n"
     ]
    }
   ],
   "source": [
    "print(\"the acc score od xgboost is:\", accuracy_score(y1_test,y1_predxgb))"
   ]
  },
  {
   "cell_type": "code",
   "execution_count": 235,
   "metadata": {
    "colab": {
     "base_uri": "https://localhost:8080/"
    },
    "id": "Fe-abMMKKB6x",
    "outputId": "2456ca41-8f70-4add-918b-6ee66902bac2"
   },
   "outputs": [
    {
     "data": {
      "text/plain": [
       "array([1])"
      ]
     },
     "execution_count": 235,
     "metadata": {},
     "output_type": "execute_result"
    }
   ],
   "source": [
    "model73.predict([[0.000095,\t0.0,\t0.928571,\t0.0,\t0.0,\t0.0,\t0.0,\t0.040717,\t0.0,\t0.0,\t0.0,\t0.010444,\t0.0,\t0.01283,\t1.0,\t0.048077,\t0.084022,\t0.0,\t1.0,\t0.0,\t0.0,\t0.005479,\t0.003906,\t1.0,\t0.0,\t0.0,\t0.00393,\t0.0,\t0.0,\t0.0,\t0.0]])"
   ]
  },
  {
   "cell_type": "code",
   "execution_count": null,
   "metadata": {
    "id": "zZMFEV2BKGwW"
   },
   "outputs": [],
   "source": []
  },
  {
   "cell_type": "markdown",
   "metadata": {
    "id": "9ukUXvnLKz0y"
   },
   "source": [
    "# result and conclusion"
   ]
  },
  {
   "cell_type": "markdown",
   "metadata": {
    "id": "fccHRb4HK4QY"
   },
   "source": [
    "**keywords**\n",
    "\n",
    "\n",
    "* model1 - logistic regression\n",
    "* model2 - knneighbors\n",
    "* model3 - svm\n",
    "* model4 - Decision tree\n",
    "* model5 - random forest\n",
    "* model61 - gaussian\n",
    "* model62 - multinomial\n",
    "* model63 - bernoulli\n",
    "* model71 - adaboost\n",
    "* model72 - gradient\n",
    "* model73 - xgboost\n",
    "\n",
    "\n",
    "\n",
    "\n",
    "\n",
    "\n",
    "\n",
    "\n",
    "\n",
    "\n",
    "\n",
    "\n",
    "\n",
    "\n"
   ]
  },
  {
   "cell_type": "markdown",
   "metadata": {
    "id": "ALbHRaSzLgRj"
   },
   "source": [
    "**accuracy scores**\n",
    "\n",
    "*  logistic regression -0.9333\n",
    "*  knneighbors         -0.9998\n",
    "*  svm                 -0.9863\n",
    "*  Decision tree       -1.0\n",
    "*  random forest       -1.0\n",
    "*  gaussian            -0.6956\n",
    "*  multinomial         -0.67975\n",
    "*  bernoulli           -0.67135\n",
    "*  adaboost            -0.9998\n",
    "*  gradient            -0.99975\n",
    "*  xgboost             -1.0"
   ]
  },
  {
   "cell_type": "markdown",
   "metadata": {
    "id": "YCMCb6TWMDQb"
   },
   "source": [
    "Among these algorithms-Decision tree,Random forest and XGBoost achieved the highest accuracy score of 0.90, indicating its superiority in accurately predicting the target variable in the given dataset.\n",
    "\n"
   ]
  },
  {
   "cell_type": "markdown",
   "metadata": {
    "id": "XoH_namGOsF2"
   },
   "source": [
    "**Conclusion**:\n",
    "In conclusion, this project demonstrated the effectiveness of various classification algorithms in predicting the target variable. Decision tree,Random forest and XGBoost outperformed the other algorithms with the highest accuracy score of 1.00. Therefore, for this particular dataset, Decision tree,Random forest and XGBoost is recommended as the algorithms of choice for achieving the most accurate predictions."
   ]
  }
 ],
 "metadata": {
  "colab": {
   "provenance": [],
   "toc_visible": true
  },
  "kernelspec": {
   "display_name": "Python 3 (ipykernel)",
   "language": "python",
   "name": "python3"
  },
  "language_info": {
   "codemirror_mode": {
    "name": "ipython",
    "version": 3
   },
   "file_extension": ".py",
   "mimetype": "text/x-python",
   "name": "python",
   "nbconvert_exporter": "python",
   "pygments_lexer": "ipython3",
   "version": "3.11.5"
  }
 },
 "nbformat": 4,
 "nbformat_minor": 1
}
