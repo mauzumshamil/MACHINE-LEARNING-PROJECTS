{
 "cells": [
  {
   "cell_type": "markdown",
   "metadata": {},
   "source": [
    "MACHINE LEARNING PROJECTS DONE BY MAUZUM SHAMIL"
   ]
  },
  {
   "cell_type": "code",
   "execution_count": 1,
   "metadata": {
    "id": "NBfkWezENI7O"
   },
   "outputs": [],
   "source": [
    "import pandas as pd\n",
    "import numpy as np\n",
    "import matplotlib.pyplot as plt\n",
    "import seaborn as sns"
   ]
  },
  {
   "cell_type": "code",
   "execution_count": 2,
   "metadata": {
    "id": "MIuAq6WENI7S"
   },
   "outputs": [],
   "source": [
    "df = pd.read_csv(r\"C:\\Users\\dell\\Desktop\\Housing_Data.csv\")"
   ]
  },
  {
   "cell_type": "code",
   "execution_count": 3,
   "metadata": {
    "colab": {
     "base_uri": "https://localhost:8080/",
     "height": 721
    },
    "id": "kmXFqOM7NI7T",
    "outputId": "6dec885c-6fa4-4dd0-8a5f-2017052fd0cc"
   },
   "outputs": [
    {
     "data": {
      "text/html": [
       "<div>\n",
       "<style scoped>\n",
       "    .dataframe tbody tr th:only-of-type {\n",
       "        vertical-align: middle;\n",
       "    }\n",
       "\n",
       "    .dataframe tbody tr th {\n",
       "        vertical-align: top;\n",
       "    }\n",
       "\n",
       "    .dataframe thead th {\n",
       "        text-align: right;\n",
       "    }\n",
       "</style>\n",
       "<table border=\"1\" class=\"dataframe\">\n",
       "  <thead>\n",
       "    <tr style=\"text-align: right;\">\n",
       "      <th></th>\n",
       "      <th>area_type</th>\n",
       "      <th>availability</th>\n",
       "      <th>location</th>\n",
       "      <th>size</th>\n",
       "      <th>society</th>\n",
       "      <th>total_sqft</th>\n",
       "      <th>bath</th>\n",
       "      <th>balcony</th>\n",
       "      <th>price</th>\n",
       "    </tr>\n",
       "  </thead>\n",
       "  <tbody>\n",
       "    <tr>\n",
       "      <th>0</th>\n",
       "      <td>Super built-up  Area</td>\n",
       "      <td>19-Dec</td>\n",
       "      <td>Electronic City Phase II</td>\n",
       "      <td>2 BHK</td>\n",
       "      <td>Coomee</td>\n",
       "      <td>1056</td>\n",
       "      <td>2.0</td>\n",
       "      <td>1.0</td>\n",
       "      <td>39.07</td>\n",
       "    </tr>\n",
       "    <tr>\n",
       "      <th>1</th>\n",
       "      <td>Plot  Area</td>\n",
       "      <td>Ready To Move</td>\n",
       "      <td>Chikka Tirupathi</td>\n",
       "      <td>4 Bedroom</td>\n",
       "      <td>Theanmp</td>\n",
       "      <td>2600</td>\n",
       "      <td>5.0</td>\n",
       "      <td>3.0</td>\n",
       "      <td>120.00</td>\n",
       "    </tr>\n",
       "    <tr>\n",
       "      <th>2</th>\n",
       "      <td>Built-up  Area</td>\n",
       "      <td>Ready To Move</td>\n",
       "      <td>Uttarahalli</td>\n",
       "      <td>3 BHK</td>\n",
       "      <td>NaN</td>\n",
       "      <td>1440</td>\n",
       "      <td>2.0</td>\n",
       "      <td>3.0</td>\n",
       "      <td>62.00</td>\n",
       "    </tr>\n",
       "    <tr>\n",
       "      <th>3</th>\n",
       "      <td>Super built-up  Area</td>\n",
       "      <td>Ready To Move</td>\n",
       "      <td>Lingadheeranahalli</td>\n",
       "      <td>3 BHK</td>\n",
       "      <td>Soiewre</td>\n",
       "      <td>1521</td>\n",
       "      <td>3.0</td>\n",
       "      <td>1.0</td>\n",
       "      <td>95.00</td>\n",
       "    </tr>\n",
       "    <tr>\n",
       "      <th>4</th>\n",
       "      <td>Super built-up  Area</td>\n",
       "      <td>Ready To Move</td>\n",
       "      <td>Kothanur</td>\n",
       "      <td>2 BHK</td>\n",
       "      <td>NaN</td>\n",
       "      <td>1200</td>\n",
       "      <td>2.0</td>\n",
       "      <td>1.0</td>\n",
       "      <td>51.00</td>\n",
       "    </tr>\n",
       "    <tr>\n",
       "      <th>...</th>\n",
       "      <td>...</td>\n",
       "      <td>...</td>\n",
       "      <td>...</td>\n",
       "      <td>...</td>\n",
       "      <td>...</td>\n",
       "      <td>...</td>\n",
       "      <td>...</td>\n",
       "      <td>...</td>\n",
       "      <td>...</td>\n",
       "    </tr>\n",
       "    <tr>\n",
       "      <th>13315</th>\n",
       "      <td>Built-up  Area</td>\n",
       "      <td>Ready To Move</td>\n",
       "      <td>Whitefield</td>\n",
       "      <td>5 Bedroom</td>\n",
       "      <td>ArsiaEx</td>\n",
       "      <td>3453</td>\n",
       "      <td>4.0</td>\n",
       "      <td>0.0</td>\n",
       "      <td>231.00</td>\n",
       "    </tr>\n",
       "    <tr>\n",
       "      <th>13316</th>\n",
       "      <td>Super built-up  Area</td>\n",
       "      <td>Ready To Move</td>\n",
       "      <td>Richards Town</td>\n",
       "      <td>4 BHK</td>\n",
       "      <td>NaN</td>\n",
       "      <td>3600</td>\n",
       "      <td>5.0</td>\n",
       "      <td>NaN</td>\n",
       "      <td>400.00</td>\n",
       "    </tr>\n",
       "    <tr>\n",
       "      <th>13317</th>\n",
       "      <td>Built-up  Area</td>\n",
       "      <td>Ready To Move</td>\n",
       "      <td>Raja Rajeshwari Nagar</td>\n",
       "      <td>2 BHK</td>\n",
       "      <td>Mahla T</td>\n",
       "      <td>1141</td>\n",
       "      <td>2.0</td>\n",
       "      <td>1.0</td>\n",
       "      <td>60.00</td>\n",
       "    </tr>\n",
       "    <tr>\n",
       "      <th>13318</th>\n",
       "      <td>Super built-up  Area</td>\n",
       "      <td>18-Jun</td>\n",
       "      <td>Padmanabhanagar</td>\n",
       "      <td>4 BHK</td>\n",
       "      <td>SollyCl</td>\n",
       "      <td>4689</td>\n",
       "      <td>4.0</td>\n",
       "      <td>1.0</td>\n",
       "      <td>488.00</td>\n",
       "    </tr>\n",
       "    <tr>\n",
       "      <th>13319</th>\n",
       "      <td>Super built-up  Area</td>\n",
       "      <td>Ready To Move</td>\n",
       "      <td>Doddathoguru</td>\n",
       "      <td>1 BHK</td>\n",
       "      <td>NaN</td>\n",
       "      <td>550</td>\n",
       "      <td>1.0</td>\n",
       "      <td>1.0</td>\n",
       "      <td>17.00</td>\n",
       "    </tr>\n",
       "  </tbody>\n",
       "</table>\n",
       "<p>13320 rows × 9 columns</p>\n",
       "</div>"
      ],
      "text/plain": [
       "                  area_type   availability                  location  \\\n",
       "0      Super built-up  Area         19-Dec  Electronic City Phase II   \n",
       "1                Plot  Area  Ready To Move          Chikka Tirupathi   \n",
       "2            Built-up  Area  Ready To Move               Uttarahalli   \n",
       "3      Super built-up  Area  Ready To Move        Lingadheeranahalli   \n",
       "4      Super built-up  Area  Ready To Move                  Kothanur   \n",
       "...                     ...            ...                       ...   \n",
       "13315        Built-up  Area  Ready To Move                Whitefield   \n",
       "13316  Super built-up  Area  Ready To Move             Richards Town   \n",
       "13317        Built-up  Area  Ready To Move     Raja Rajeshwari Nagar   \n",
       "13318  Super built-up  Area         18-Jun           Padmanabhanagar   \n",
       "13319  Super built-up  Area  Ready To Move              Doddathoguru   \n",
       "\n",
       "            size  society total_sqft  bath  balcony   price  \n",
       "0          2 BHK  Coomee        1056   2.0      1.0   39.07  \n",
       "1      4 Bedroom  Theanmp       2600   5.0      3.0  120.00  \n",
       "2          3 BHK      NaN       1440   2.0      3.0   62.00  \n",
       "3          3 BHK  Soiewre       1521   3.0      1.0   95.00  \n",
       "4          2 BHK      NaN       1200   2.0      1.0   51.00  \n",
       "...          ...      ...        ...   ...      ...     ...  \n",
       "13315  5 Bedroom  ArsiaEx       3453   4.0      0.0  231.00  \n",
       "13316      4 BHK      NaN       3600   5.0      NaN  400.00  \n",
       "13317      2 BHK  Mahla T       1141   2.0      1.0   60.00  \n",
       "13318      4 BHK  SollyCl       4689   4.0      1.0  488.00  \n",
       "13319      1 BHK      NaN        550   1.0      1.0   17.00  \n",
       "\n",
       "[13320 rows x 9 columns]"
      ]
     },
     "execution_count": 3,
     "metadata": {},
     "output_type": "execute_result"
    }
   ],
   "source": [
    "df"
   ]
  },
  {
   "cell_type": "markdown",
   "metadata": {
    "id": "4GVzJI1dVmSP"
   },
   "source": [
    "# EDA"
   ]
  },
  {
   "cell_type": "code",
   "execution_count": 4,
   "metadata": {
    "colab": {
     "base_uri": "https://localhost:8080/"
    },
    "id": "uqEhXzGyNI7U",
    "outputId": "5a023e7c-8ee1-413b-9934-1232925d2696"
   },
   "outputs": [
    {
     "data": {
      "text/plain": [
       "area_type        object\n",
       "availability     object\n",
       "location         object\n",
       "size             object\n",
       "society          object\n",
       "total_sqft       object\n",
       "bath            float64\n",
       "balcony         float64\n",
       "price           float64\n",
       "dtype: object"
      ]
     },
     "execution_count": 4,
     "metadata": {},
     "output_type": "execute_result"
    }
   ],
   "source": [
    "df.dtypes"
   ]
  },
  {
   "cell_type": "code",
   "execution_count": 5,
   "metadata": {
    "colab": {
     "base_uri": "https://localhost:8080/"
    },
    "id": "IEIGX5OLNI7U",
    "outputId": "618ee7d2-51f2-49c4-b5b7-19a9123d999c"
   },
   "outputs": [
    {
     "data": {
      "text/plain": [
       "Index(['area_type', 'availability', 'location', 'size', 'society',\n",
       "       'total_sqft', 'bath', 'balcony', 'price'],\n",
       "      dtype='object')"
      ]
     },
     "execution_count": 5,
     "metadata": {},
     "output_type": "execute_result"
    }
   ],
   "source": [
    "df.columns"
   ]
  },
  {
   "cell_type": "code",
   "execution_count": 6,
   "metadata": {
    "colab": {
     "base_uri": "https://localhost:8080/"
    },
    "id": "m2U3TaGlNI7U",
    "outputId": "6ce0c89d-0422-48b2-caa0-8bea2e50d1d6"
   },
   "outputs": [
    {
     "data": {
      "text/plain": [
       "area_type          0\n",
       "availability       0\n",
       "location           1\n",
       "size              16\n",
       "society         5502\n",
       "total_sqft         0\n",
       "bath              73\n",
       "balcony          609\n",
       "price              0\n",
       "dtype: int64"
      ]
     },
     "execution_count": 6,
     "metadata": {},
     "output_type": "execute_result"
    }
   ],
   "source": [
    "df.isna().sum()"
   ]
  },
  {
   "cell_type": "code",
   "execution_count": 7,
   "metadata": {
    "colab": {
     "base_uri": "https://localhost:8080/"
    },
    "id": "Ys7n-O9PNI7V",
    "outputId": "5570c2db-41bc-4602-a3c7-b18df6df1e79"
   },
   "outputs": [
    {
     "data": {
      "text/plain": [
       "area_type          4\n",
       "availability      81\n",
       "location        1305\n",
       "size              31\n",
       "society         2688\n",
       "total_sqft      2117\n",
       "bath              19\n",
       "balcony            4\n",
       "price           1994\n",
       "dtype: int64"
      ]
     },
     "execution_count": 7,
     "metadata": {},
     "output_type": "execute_result"
    }
   ],
   "source": [
    "df.nunique()"
   ]
  },
  {
   "cell_type": "code",
   "execution_count": 8,
   "metadata": {
    "id": "HfnQypGHNI7V"
   },
   "outputs": [],
   "source": [
    "df.drop('society',axis=1,inplace=True)"
   ]
  },
  {
   "cell_type": "code",
   "execution_count": 9,
   "metadata": {
    "colab": {
     "base_uri": "https://localhost:8080/",
     "height": 206
    },
    "id": "onmxRU6RNI7W",
    "outputId": "7057f6eb-d337-4540-a6e2-ab1e1cc62d66"
   },
   "outputs": [
    {
     "data": {
      "text/html": [
       "<div>\n",
       "<style scoped>\n",
       "    .dataframe tbody tr th:only-of-type {\n",
       "        vertical-align: middle;\n",
       "    }\n",
       "\n",
       "    .dataframe tbody tr th {\n",
       "        vertical-align: top;\n",
       "    }\n",
       "\n",
       "    .dataframe thead th {\n",
       "        text-align: right;\n",
       "    }\n",
       "</style>\n",
       "<table border=\"1\" class=\"dataframe\">\n",
       "  <thead>\n",
       "    <tr style=\"text-align: right;\">\n",
       "      <th></th>\n",
       "      <th>area_type</th>\n",
       "      <th>availability</th>\n",
       "      <th>location</th>\n",
       "      <th>size</th>\n",
       "      <th>total_sqft</th>\n",
       "      <th>bath</th>\n",
       "      <th>balcony</th>\n",
       "      <th>price</th>\n",
       "    </tr>\n",
       "  </thead>\n",
       "  <tbody>\n",
       "    <tr>\n",
       "      <th>0</th>\n",
       "      <td>Super built-up  Area</td>\n",
       "      <td>19-Dec</td>\n",
       "      <td>Electronic City Phase II</td>\n",
       "      <td>2 BHK</td>\n",
       "      <td>1056</td>\n",
       "      <td>2.0</td>\n",
       "      <td>1.0</td>\n",
       "      <td>39.07</td>\n",
       "    </tr>\n",
       "    <tr>\n",
       "      <th>1</th>\n",
       "      <td>Plot  Area</td>\n",
       "      <td>Ready To Move</td>\n",
       "      <td>Chikka Tirupathi</td>\n",
       "      <td>4 Bedroom</td>\n",
       "      <td>2600</td>\n",
       "      <td>5.0</td>\n",
       "      <td>3.0</td>\n",
       "      <td>120.00</td>\n",
       "    </tr>\n",
       "    <tr>\n",
       "      <th>2</th>\n",
       "      <td>Built-up  Area</td>\n",
       "      <td>Ready To Move</td>\n",
       "      <td>Uttarahalli</td>\n",
       "      <td>3 BHK</td>\n",
       "      <td>1440</td>\n",
       "      <td>2.0</td>\n",
       "      <td>3.0</td>\n",
       "      <td>62.00</td>\n",
       "    </tr>\n",
       "    <tr>\n",
       "      <th>3</th>\n",
       "      <td>Super built-up  Area</td>\n",
       "      <td>Ready To Move</td>\n",
       "      <td>Lingadheeranahalli</td>\n",
       "      <td>3 BHK</td>\n",
       "      <td>1521</td>\n",
       "      <td>3.0</td>\n",
       "      <td>1.0</td>\n",
       "      <td>95.00</td>\n",
       "    </tr>\n",
       "    <tr>\n",
       "      <th>4</th>\n",
       "      <td>Super built-up  Area</td>\n",
       "      <td>Ready To Move</td>\n",
       "      <td>Kothanur</td>\n",
       "      <td>2 BHK</td>\n",
       "      <td>1200</td>\n",
       "      <td>2.0</td>\n",
       "      <td>1.0</td>\n",
       "      <td>51.00</td>\n",
       "    </tr>\n",
       "  </tbody>\n",
       "</table>\n",
       "</div>"
      ],
      "text/plain": [
       "              area_type   availability                  location       size  \\\n",
       "0  Super built-up  Area         19-Dec  Electronic City Phase II      2 BHK   \n",
       "1            Plot  Area  Ready To Move          Chikka Tirupathi  4 Bedroom   \n",
       "2        Built-up  Area  Ready To Move               Uttarahalli      3 BHK   \n",
       "3  Super built-up  Area  Ready To Move        Lingadheeranahalli      3 BHK   \n",
       "4  Super built-up  Area  Ready To Move                  Kothanur      2 BHK   \n",
       "\n",
       "  total_sqft  bath  balcony   price  \n",
       "0       1056   2.0      1.0   39.07  \n",
       "1       2600   5.0      3.0  120.00  \n",
       "2       1440   2.0      3.0   62.00  \n",
       "3       1521   3.0      1.0   95.00  \n",
       "4       1200   2.0      1.0   51.00  "
      ]
     },
     "execution_count": 9,
     "metadata": {},
     "output_type": "execute_result"
    }
   ],
   "source": [
    "df.head()"
   ]
  },
  {
   "cell_type": "code",
   "execution_count": 10,
   "metadata": {
    "id": "AER1LEpoNI7W"
   },
   "outputs": [],
   "source": [
    "df.drop('location',axis=1,inplace=True)"
   ]
  },
  {
   "cell_type": "code",
   "execution_count": 11,
   "metadata": {
    "colab": {
     "base_uri": "https://localhost:8080/",
     "height": 206
    },
    "id": "7mUxqCBzNI7X",
    "outputId": "3bfbaf31-5a94-4e4c-e016-10bfd14242a4"
   },
   "outputs": [
    {
     "data": {
      "text/html": [
       "<div>\n",
       "<style scoped>\n",
       "    .dataframe tbody tr th:only-of-type {\n",
       "        vertical-align: middle;\n",
       "    }\n",
       "\n",
       "    .dataframe tbody tr th {\n",
       "        vertical-align: top;\n",
       "    }\n",
       "\n",
       "    .dataframe thead th {\n",
       "        text-align: right;\n",
       "    }\n",
       "</style>\n",
       "<table border=\"1\" class=\"dataframe\">\n",
       "  <thead>\n",
       "    <tr style=\"text-align: right;\">\n",
       "      <th></th>\n",
       "      <th>area_type</th>\n",
       "      <th>availability</th>\n",
       "      <th>size</th>\n",
       "      <th>total_sqft</th>\n",
       "      <th>bath</th>\n",
       "      <th>balcony</th>\n",
       "      <th>price</th>\n",
       "    </tr>\n",
       "  </thead>\n",
       "  <tbody>\n",
       "    <tr>\n",
       "      <th>0</th>\n",
       "      <td>Super built-up  Area</td>\n",
       "      <td>19-Dec</td>\n",
       "      <td>2 BHK</td>\n",
       "      <td>1056</td>\n",
       "      <td>2.0</td>\n",
       "      <td>1.0</td>\n",
       "      <td>39.07</td>\n",
       "    </tr>\n",
       "    <tr>\n",
       "      <th>1</th>\n",
       "      <td>Plot  Area</td>\n",
       "      <td>Ready To Move</td>\n",
       "      <td>4 Bedroom</td>\n",
       "      <td>2600</td>\n",
       "      <td>5.0</td>\n",
       "      <td>3.0</td>\n",
       "      <td>120.00</td>\n",
       "    </tr>\n",
       "    <tr>\n",
       "      <th>2</th>\n",
       "      <td>Built-up  Area</td>\n",
       "      <td>Ready To Move</td>\n",
       "      <td>3 BHK</td>\n",
       "      <td>1440</td>\n",
       "      <td>2.0</td>\n",
       "      <td>3.0</td>\n",
       "      <td>62.00</td>\n",
       "    </tr>\n",
       "    <tr>\n",
       "      <th>3</th>\n",
       "      <td>Super built-up  Area</td>\n",
       "      <td>Ready To Move</td>\n",
       "      <td>3 BHK</td>\n",
       "      <td>1521</td>\n",
       "      <td>3.0</td>\n",
       "      <td>1.0</td>\n",
       "      <td>95.00</td>\n",
       "    </tr>\n",
       "    <tr>\n",
       "      <th>4</th>\n",
       "      <td>Super built-up  Area</td>\n",
       "      <td>Ready To Move</td>\n",
       "      <td>2 BHK</td>\n",
       "      <td>1200</td>\n",
       "      <td>2.0</td>\n",
       "      <td>1.0</td>\n",
       "      <td>51.00</td>\n",
       "    </tr>\n",
       "  </tbody>\n",
       "</table>\n",
       "</div>"
      ],
      "text/plain": [
       "              area_type   availability       size total_sqft  bath  balcony  \\\n",
       "0  Super built-up  Area         19-Dec      2 BHK       1056   2.0      1.0   \n",
       "1            Plot  Area  Ready To Move  4 Bedroom       2600   5.0      3.0   \n",
       "2        Built-up  Area  Ready To Move      3 BHK       1440   2.0      3.0   \n",
       "3  Super built-up  Area  Ready To Move      3 BHK       1521   3.0      1.0   \n",
       "4  Super built-up  Area  Ready To Move      2 BHK       1200   2.0      1.0   \n",
       "\n",
       "    price  \n",
       "0   39.07  \n",
       "1  120.00  \n",
       "2   62.00  \n",
       "3   95.00  \n",
       "4   51.00  "
      ]
     },
     "execution_count": 11,
     "metadata": {},
     "output_type": "execute_result"
    }
   ],
   "source": [
    "df.head()"
   ]
  },
  {
   "cell_type": "code",
   "execution_count": 12,
   "metadata": {
    "colab": {
     "base_uri": "https://localhost:8080/"
    },
    "id": "1Dhu_IxqNI7X",
    "outputId": "7745f100-524d-4efd-8488-c066eb4d0570"
   },
   "outputs": [
    {
     "data": {
      "text/plain": [
       "area_type         0\n",
       "availability      0\n",
       "size             16\n",
       "total_sqft        0\n",
       "bath             73\n",
       "balcony         609\n",
       "price             0\n",
       "dtype: int64"
      ]
     },
     "execution_count": 12,
     "metadata": {},
     "output_type": "execute_result"
    }
   ],
   "source": [
    "df.isna().sum()"
   ]
  },
  {
   "cell_type": "code",
   "execution_count": 13,
   "metadata": {
    "id": "ZR42OpX6NI7X"
   },
   "outputs": [],
   "source": [
    "df['size'] = df['size'].fillna(df['size'].mode()[0])"
   ]
  },
  {
   "cell_type": "code",
   "execution_count": 14,
   "metadata": {
    "colab": {
     "base_uri": "https://localhost:8080/",
     "height": 470
    },
    "id": "wOu56I4GNI7Y",
    "outputId": "a9ea08d7-2922-4e2c-9201-6eaec3a48bb7"
   },
   "outputs": [
    {
     "data": {
      "text/plain": [
       "Text(0.5, 1.0, 'hist of balcony')"
      ]
     },
     "execution_count": 14,
     "metadata": {},
     "output_type": "execute_result"
    },
    {
     "data": {
      "image/png": "[encoded data removed]",
      "text/plain": [
       "<Figure size 640x480 with 1 Axes>"
      ]
     },
     "metadata": {},
     "output_type": "display_data"
    }
   ],
   "source": [
    "plt.hist(df['balcony'],color='m')\n",
    "plt.title(\"hist of balcony\")"
   ]
  },
  {
   "cell_type": "code",
   "execution_count": 15,
   "metadata": {
    "id": "zSZ0oF8oNI7Y"
   },
   "outputs": [],
   "source": [
    "df['balcony'] = df['balcony'].fillna(df['balcony'].mean())"
   ]
  },
  {
   "cell_type": "code",
   "execution_count": 16,
   "metadata": {
    "colab": {
     "base_uri": "https://localhost:8080/",
     "height": 470
    },
    "id": "nkdPZW78NI7Y",
    "outputId": "f08a3c0e-bff0-47c1-ce8a-f361ca594885"
   },
   "outputs": [
    {
     "data": {
      "text/plain": [
       "Text(0.5, 1.0, 'hist of bath')"
      ]
     },
     "execution_count": 16,
     "metadata": {},
     "output_type": "execute_result"
    },
    {
     "data": {
      "image/png": "[encoded data removed]",
      "text/plain": [
       "<Figure size 640x480 with 1 Axes>"
      ]
     },
     "metadata": {},
     "output_type": "display_data"
    }
   ],
   "source": [
    "plt.hist(df['bath'],color='g')\n",
    "plt.title(\"hist of bath\")"
   ]
  },
  {
   "cell_type": "code",
   "execution_count": 17,
   "metadata": {
    "id": "QL6wdEEONI7Z"
   },
   "outputs": [],
   "source": [
    "df['bath']= df['bath'].fillna(df['bath'].median())"
   ]
  },
  {
   "cell_type": "code",
   "execution_count": 18,
   "metadata": {
    "colab": {
     "base_uri": "https://localhost:8080/"
    },
    "id": "SVP3mnHmNI7Z",
    "outputId": "2a3bce2d-9eea-48a8-f64f-fc23a9b26714"
   },
   "outputs": [
    {
     "data": {
      "text/plain": [
       "area_type       0\n",
       "availability    0\n",
       "size            0\n",
       "total_sqft      0\n",
       "bath            0\n",
       "balcony         0\n",
       "price           0\n",
       "dtype: int64"
      ]
     },
     "execution_count": 18,
     "metadata": {},
     "output_type": "execute_result"
    }
   ],
   "source": [
    "df.isna().sum()"
   ]
  },
  {
   "cell_type": "code",
   "execution_count": 19,
   "metadata": {
    "id": "AI7kS1YlNI7Z"
   },
   "outputs": [],
   "source": [
    "# labelencoding"
   ]
  },
  {
   "cell_type": "code",
   "execution_count": 20,
   "metadata": {
    "colab": {
     "base_uri": "https://localhost:8080/",
     "height": 206
    },
    "id": "L43xjH6ZNI7Z",
    "outputId": "4f65d8fc-3b0d-4acd-c973-81db793f706d"
   },
   "outputs": [
    {
     "data": {
      "text/html": [
       "<div>\n",
       "<style scoped>\n",
       "    .dataframe tbody tr th:only-of-type {\n",
       "        vertical-align: middle;\n",
       "    }\n",
       "\n",
       "    .dataframe tbody tr th {\n",
       "        vertical-align: top;\n",
       "    }\n",
       "\n",
       "    .dataframe thead th {\n",
       "        text-align: right;\n",
       "    }\n",
       "</style>\n",
       "<table border=\"1\" class=\"dataframe\">\n",
       "  <thead>\n",
       "    <tr style=\"text-align: right;\">\n",
       "      <th></th>\n",
       "      <th>area_type</th>\n",
       "      <th>availability</th>\n",
       "      <th>size</th>\n",
       "      <th>total_sqft</th>\n",
       "      <th>bath</th>\n",
       "      <th>balcony</th>\n",
       "      <th>price</th>\n",
       "    </tr>\n",
       "  </thead>\n",
       "  <tbody>\n",
       "    <tr>\n",
       "      <th>0</th>\n",
       "      <td>Super built-up  Area</td>\n",
       "      <td>19-Dec</td>\n",
       "      <td>2 BHK</td>\n",
       "      <td>1056</td>\n",
       "      <td>2.0</td>\n",
       "      <td>1.0</td>\n",
       "      <td>39.07</td>\n",
       "    </tr>\n",
       "    <tr>\n",
       "      <th>1</th>\n",
       "      <td>Plot  Area</td>\n",
       "      <td>Ready To Move</td>\n",
       "      <td>4 Bedroom</td>\n",
       "      <td>2600</td>\n",
       "      <td>5.0</td>\n",
       "      <td>3.0</td>\n",
       "      <td>120.00</td>\n",
       "    </tr>\n",
       "    <tr>\n",
       "      <th>2</th>\n",
       "      <td>Built-up  Area</td>\n",
       "      <td>Ready To Move</td>\n",
       "      <td>3 BHK</td>\n",
       "      <td>1440</td>\n",
       "      <td>2.0</td>\n",
       "      <td>3.0</td>\n",
       "      <td>62.00</td>\n",
       "    </tr>\n",
       "    <tr>\n",
       "      <th>3</th>\n",
       "      <td>Super built-up  Area</td>\n",
       "      <td>Ready To Move</td>\n",
       "      <td>3 BHK</td>\n",
       "      <td>1521</td>\n",
       "      <td>3.0</td>\n",
       "      <td>1.0</td>\n",
       "      <td>95.00</td>\n",
       "    </tr>\n",
       "    <tr>\n",
       "      <th>4</th>\n",
       "      <td>Super built-up  Area</td>\n",
       "      <td>Ready To Move</td>\n",
       "      <td>2 BHK</td>\n",
       "      <td>1200</td>\n",
       "      <td>2.0</td>\n",
       "      <td>1.0</td>\n",
       "      <td>51.00</td>\n",
       "    </tr>\n",
       "  </tbody>\n",
       "</table>\n",
       "</div>"
      ],
      "text/plain": [
       "              area_type   availability       size total_sqft  bath  balcony  \\\n",
       "0  Super built-up  Area         19-Dec      2 BHK       1056   2.0      1.0   \n",
       "1            Plot  Area  Ready To Move  4 Bedroom       2600   5.0      3.0   \n",
       "2        Built-up  Area  Ready To Move      3 BHK       1440   2.0      3.0   \n",
       "3  Super built-up  Area  Ready To Move      3 BHK       1521   3.0      1.0   \n",
       "4  Super built-up  Area  Ready To Move      2 BHK       1200   2.0      1.0   \n",
       "\n",
       "    price  \n",
       "0   39.07  \n",
       "1  120.00  \n",
       "2   62.00  \n",
       "3   95.00  \n",
       "4   51.00  "
      ]
     },
     "execution_count": 20,
     "metadata": {},
     "output_type": "execute_result"
    }
   ],
   "source": [
    "df.head()"
   ]
  },
  {
   "cell_type": "code",
   "execution_count": 21,
   "metadata": {
    "colab": {
     "base_uri": "https://localhost:8080/",
     "height": 206
    },
    "id": "sQ3EC2wXNI7Z",
    "outputId": "cf8f03eb-6b71-4b67-b6d9-4d701dcbbbfc"
   },
   "outputs": [
    {
     "data": {
      "text/html": [
       "<div>\n",
       "<style scoped>\n",
       "    .dataframe tbody tr th:only-of-type {\n",
       "        vertical-align: middle;\n",
       "    }\n",
       "\n",
       "    .dataframe tbody tr th {\n",
       "        vertical-align: top;\n",
       "    }\n",
       "\n",
       "    .dataframe thead th {\n",
       "        text-align: right;\n",
       "    }\n",
       "</style>\n",
       "<table border=\"1\" class=\"dataframe\">\n",
       "  <thead>\n",
       "    <tr style=\"text-align: right;\">\n",
       "      <th></th>\n",
       "      <th>area_type</th>\n",
       "      <th>availability</th>\n",
       "      <th>size</th>\n",
       "      <th>total_sqft</th>\n",
       "      <th>bath</th>\n",
       "      <th>balcony</th>\n",
       "      <th>price</th>\n",
       "    </tr>\n",
       "  </thead>\n",
       "  <tbody>\n",
       "    <tr>\n",
       "      <th>13315</th>\n",
       "      <td>Built-up  Area</td>\n",
       "      <td>Ready To Move</td>\n",
       "      <td>5 Bedroom</td>\n",
       "      <td>3453</td>\n",
       "      <td>4.0</td>\n",
       "      <td>0.000000</td>\n",
       "      <td>231.0</td>\n",
       "    </tr>\n",
       "    <tr>\n",
       "      <th>13316</th>\n",
       "      <td>Super built-up  Area</td>\n",
       "      <td>Ready To Move</td>\n",
       "      <td>4 BHK</td>\n",
       "      <td>3600</td>\n",
       "      <td>5.0</td>\n",
       "      <td>1.584376</td>\n",
       "      <td>400.0</td>\n",
       "    </tr>\n",
       "    <tr>\n",
       "      <th>13317</th>\n",
       "      <td>Built-up  Area</td>\n",
       "      <td>Ready To Move</td>\n",
       "      <td>2 BHK</td>\n",
       "      <td>1141</td>\n",
       "      <td>2.0</td>\n",
       "      <td>1.000000</td>\n",
       "      <td>60.0</td>\n",
       "    </tr>\n",
       "    <tr>\n",
       "      <th>13318</th>\n",
       "      <td>Super built-up  Area</td>\n",
       "      <td>18-Jun</td>\n",
       "      <td>4 BHK</td>\n",
       "      <td>4689</td>\n",
       "      <td>4.0</td>\n",
       "      <td>1.000000</td>\n",
       "      <td>488.0</td>\n",
       "    </tr>\n",
       "    <tr>\n",
       "      <th>13319</th>\n",
       "      <td>Super built-up  Area</td>\n",
       "      <td>Ready To Move</td>\n",
       "      <td>1 BHK</td>\n",
       "      <td>550</td>\n",
       "      <td>1.0</td>\n",
       "      <td>1.000000</td>\n",
       "      <td>17.0</td>\n",
       "    </tr>\n",
       "  </tbody>\n",
       "</table>\n",
       "</div>"
      ],
      "text/plain": [
       "                  area_type   availability       size total_sqft  bath  \\\n",
       "13315        Built-up  Area  Ready To Move  5 Bedroom       3453   4.0   \n",
       "13316  Super built-up  Area  Ready To Move      4 BHK       3600   5.0   \n",
       "13317        Built-up  Area  Ready To Move      2 BHK       1141   2.0   \n",
       "13318  Super built-up  Area         18-Jun      4 BHK       4689   4.0   \n",
       "13319  Super built-up  Area  Ready To Move      1 BHK        550   1.0   \n",
       "\n",
       "        balcony  price  \n",
       "13315  0.000000  231.0  \n",
       "13316  1.584376  400.0  \n",
       "13317  1.000000   60.0  \n",
       "13318  1.000000  488.0  \n",
       "13319  1.000000   17.0  "
      ]
     },
     "execution_count": 21,
     "metadata": {},
     "output_type": "execute_result"
    }
   ],
   "source": [
    "df.tail()"
   ]
  },
  {
   "cell_type": "code",
   "execution_count": 22,
   "metadata": {
    "colab": {
     "base_uri": "https://localhost:8080/"
    },
    "id": "JuBr7NOjNI7a",
    "outputId": "4d5d4d59-dacf-4a87-912f-5aeb46917e99"
   },
   "outputs": [
    {
     "data": {
      "text/plain": [
       "area_type          4\n",
       "availability      81\n",
       "size              31\n",
       "total_sqft      2117\n",
       "bath              19\n",
       "balcony            5\n",
       "price           1994\n",
       "dtype: int64"
      ]
     },
     "execution_count": 22,
     "metadata": {},
     "output_type": "execute_result"
    }
   ],
   "source": [
    "df.nunique()"
   ]
  },
  {
   "cell_type": "code",
   "execution_count": 23,
   "metadata": {
    "id": "oGTjnYbkNI7a"
   },
   "outputs": [],
   "source": [
    "from sklearn.preprocessing import LabelEncoder\n",
    "le = LabelEncoder()"
   ]
  },
  {
   "cell_type": "code",
   "execution_count": 24,
   "metadata": {
    "id": "g8u3QJfoNI7a"
   },
   "outputs": [],
   "source": [
    "for i in ['area_type',\t'availability',\t'size']:\n",
    "    df[i] = le.fit_transform(df[i])"
   ]
  },
  {
   "cell_type": "code",
   "execution_count": 25,
   "metadata": {
    "colab": {
     "base_uri": "https://localhost:8080/",
     "height": 206
    },
    "id": "xHAI6QbuNI7a",
    "outputId": "dc4145ad-4b1b-4d0c-e503-eb8dc3cf893b"
   },
   "outputs": [
    {
     "data": {
      "text/html": [
       "<div>\n",
       "<style scoped>\n",
       "    .dataframe tbody tr th:only-of-type {\n",
       "        vertical-align: middle;\n",
       "    }\n",
       "\n",
       "    .dataframe tbody tr th {\n",
       "        vertical-align: top;\n",
       "    }\n",
       "\n",
       "    .dataframe thead th {\n",
       "        text-align: right;\n",
       "    }\n",
       "</style>\n",
       "<table border=\"1\" class=\"dataframe\">\n",
       "  <thead>\n",
       "    <tr style=\"text-align: right;\">\n",
       "      <th></th>\n",
       "      <th>area_type</th>\n",
       "      <th>availability</th>\n",
       "      <th>size</th>\n",
       "      <th>total_sqft</th>\n",
       "      <th>bath</th>\n",
       "      <th>balcony</th>\n",
       "      <th>price</th>\n",
       "    </tr>\n",
       "  </thead>\n",
       "  <tbody>\n",
       "    <tr>\n",
       "      <th>0</th>\n",
       "      <td>3</td>\n",
       "      <td>40</td>\n",
       "      <td>13</td>\n",
       "      <td>1056</td>\n",
       "      <td>2.0</td>\n",
       "      <td>1.0</td>\n",
       "      <td>39.07</td>\n",
       "    </tr>\n",
       "    <tr>\n",
       "      <th>1</th>\n",
       "      <td>2</td>\n",
       "      <td>80</td>\n",
       "      <td>19</td>\n",
       "      <td>2600</td>\n",
       "      <td>5.0</td>\n",
       "      <td>3.0</td>\n",
       "      <td>120.00</td>\n",
       "    </tr>\n",
       "    <tr>\n",
       "      <th>2</th>\n",
       "      <td>0</td>\n",
       "      <td>80</td>\n",
       "      <td>16</td>\n",
       "      <td>1440</td>\n",
       "      <td>2.0</td>\n",
       "      <td>3.0</td>\n",
       "      <td>62.00</td>\n",
       "    </tr>\n",
       "    <tr>\n",
       "      <th>3</th>\n",
       "      <td>3</td>\n",
       "      <td>80</td>\n",
       "      <td>16</td>\n",
       "      <td>1521</td>\n",
       "      <td>3.0</td>\n",
       "      <td>1.0</td>\n",
       "      <td>95.00</td>\n",
       "    </tr>\n",
       "    <tr>\n",
       "      <th>4</th>\n",
       "      <td>3</td>\n",
       "      <td>80</td>\n",
       "      <td>13</td>\n",
       "      <td>1200</td>\n",
       "      <td>2.0</td>\n",
       "      <td>1.0</td>\n",
       "      <td>51.00</td>\n",
       "    </tr>\n",
       "  </tbody>\n",
       "</table>\n",
       "</div>"
      ],
      "text/plain": [
       "   area_type  availability  size total_sqft  bath  balcony   price\n",
       "0          3            40    13       1056   2.0      1.0   39.07\n",
       "1          2            80    19       2600   5.0      3.0  120.00\n",
       "2          0            80    16       1440   2.0      3.0   62.00\n",
       "3          3            80    16       1521   3.0      1.0   95.00\n",
       "4          3            80    13       1200   2.0      1.0   51.00"
      ]
     },
     "execution_count": 25,
     "metadata": {},
     "output_type": "execute_result"
    }
   ],
   "source": [
    "df.head()"
   ]
  },
  {
   "cell_type": "code",
   "execution_count": 26,
   "metadata": {
    "colab": {
     "base_uri": "https://localhost:8080/"
    },
    "id": "QWPvGSvVNI7a",
    "outputId": "7ecc41aa-b6b8-4aa3-89a7-1bd51b24014b"
   },
   "outputs": [
    {
     "data": {
      "text/plain": [
       "area_type          4\n",
       "availability      81\n",
       "size              31\n",
       "total_sqft      2117\n",
       "bath              19\n",
       "balcony            5\n",
       "price           1994\n",
       "dtype: int64"
      ]
     },
     "execution_count": 26,
     "metadata": {},
     "output_type": "execute_result"
    }
   ],
   "source": [
    "df.nunique()"
   ]
  },
  {
   "cell_type": "code",
   "execution_count": 27,
   "metadata": {
    "id": "nDhOA4q9NI7a"
   },
   "outputs": [],
   "source": [
    "df.drop('availability',axis=1,inplace=True)"
   ]
  },
  {
   "cell_type": "code",
   "execution_count": 28,
   "metadata": {
    "colab": {
     "base_uri": "https://localhost:8080/",
     "height": 206
    },
    "id": "-T6B_HBrNI7b",
    "outputId": "ff62ce9d-b3c3-4968-fe6d-38b15cdf9daf"
   },
   "outputs": [
    {
     "data": {
      "text/html": [
       "<div>\n",
       "<style scoped>\n",
       "    .dataframe tbody tr th:only-of-type {\n",
       "        vertical-align: middle;\n",
       "    }\n",
       "\n",
       "    .dataframe tbody tr th {\n",
       "        vertical-align: top;\n",
       "    }\n",
       "\n",
       "    .dataframe thead th {\n",
       "        text-align: right;\n",
       "    }\n",
       "</style>\n",
       "<table border=\"1\" class=\"dataframe\">\n",
       "  <thead>\n",
       "    <tr style=\"text-align: right;\">\n",
       "      <th></th>\n",
       "      <th>area_type</th>\n",
       "      <th>size</th>\n",
       "      <th>total_sqft</th>\n",
       "      <th>bath</th>\n",
       "      <th>balcony</th>\n",
       "      <th>price</th>\n",
       "    </tr>\n",
       "  </thead>\n",
       "  <tbody>\n",
       "    <tr>\n",
       "      <th>0</th>\n",
       "      <td>3</td>\n",
       "      <td>13</td>\n",
       "      <td>1056</td>\n",
       "      <td>2.0</td>\n",
       "      <td>1.0</td>\n",
       "      <td>39.07</td>\n",
       "    </tr>\n",
       "    <tr>\n",
       "      <th>1</th>\n",
       "      <td>2</td>\n",
       "      <td>19</td>\n",
       "      <td>2600</td>\n",
       "      <td>5.0</td>\n",
       "      <td>3.0</td>\n",
       "      <td>120.00</td>\n",
       "    </tr>\n",
       "    <tr>\n",
       "      <th>2</th>\n",
       "      <td>0</td>\n",
       "      <td>16</td>\n",
       "      <td>1440</td>\n",
       "      <td>2.0</td>\n",
       "      <td>3.0</td>\n",
       "      <td>62.00</td>\n",
       "    </tr>\n",
       "    <tr>\n",
       "      <th>3</th>\n",
       "      <td>3</td>\n",
       "      <td>16</td>\n",
       "      <td>1521</td>\n",
       "      <td>3.0</td>\n",
       "      <td>1.0</td>\n",
       "      <td>95.00</td>\n",
       "    </tr>\n",
       "    <tr>\n",
       "      <th>4</th>\n",
       "      <td>3</td>\n",
       "      <td>13</td>\n",
       "      <td>1200</td>\n",
       "      <td>2.0</td>\n",
       "      <td>1.0</td>\n",
       "      <td>51.00</td>\n",
       "    </tr>\n",
       "  </tbody>\n",
       "</table>\n",
       "</div>"
      ],
      "text/plain": [
       "   area_type  size total_sqft  bath  balcony   price\n",
       "0          3    13       1056   2.0      1.0   39.07\n",
       "1          2    19       2600   5.0      3.0  120.00\n",
       "2          0    16       1440   2.0      3.0   62.00\n",
       "3          3    16       1521   3.0      1.0   95.00\n",
       "4          3    13       1200   2.0      1.0   51.00"
      ]
     },
     "execution_count": 28,
     "metadata": {},
     "output_type": "execute_result"
    }
   ],
   "source": [
    "df.head()"
   ]
  },
  {
   "cell_type": "code",
   "execution_count": 29,
   "metadata": {
    "colab": {
     "base_uri": "https://localhost:8080/"
    },
    "id": "tNpAAhzoNI7b",
    "outputId": "457669f2-23de-491e-f119-58ab527dbc59"
   },
   "outputs": [
    {
     "data": {
      "text/plain": [
       "area_type       int32\n",
       "size            int32\n",
       "total_sqft     object\n",
       "bath          float64\n",
       "balcony       float64\n",
       "price         float64\n",
       "dtype: object"
      ]
     },
     "execution_count": 29,
     "metadata": {},
     "output_type": "execute_result"
    }
   ],
   "source": [
    "df.dtypes"
   ]
  },
  {
   "cell_type": "code",
   "execution_count": 30,
   "metadata": {
    "colab": {
     "base_uri": "https://localhost:8080/"
    },
    "id": "-L2qM3uINI7b",
    "outputId": "1ab6e7cc-838c-47fe-d701-b9589afb7d44"
   },
   "outputs": [
    {
     "data": {
      "text/plain": [
       "dtype('O')"
      ]
     },
     "execution_count": 30,
     "metadata": {},
     "output_type": "execute_result"
    }
   ],
   "source": [
    "df['total_sqft'].dtype"
   ]
  },
  {
   "cell_type": "code",
   "execution_count": 31,
   "metadata": {
    "colab": {
     "base_uri": "https://localhost:8080/",
     "height": 394
    },
    "id": "rDF-1V5aOXbt",
    "outputId": "61728bb5-411d-4ba8-9c0b-2cc2ba58d0e8"
   },
   "outputs": [
    {
     "data": {
      "text/html": [
       "<div>\n",
       "<style scoped>\n",
       "    .dataframe tbody tr th:only-of-type {\n",
       "        vertical-align: middle;\n",
       "    }\n",
       "\n",
       "    .dataframe tbody tr th {\n",
       "        vertical-align: top;\n",
       "    }\n",
       "\n",
       "    .dataframe thead th {\n",
       "        text-align: right;\n",
       "    }\n",
       "</style>\n",
       "<table border=\"1\" class=\"dataframe\">\n",
       "  <thead>\n",
       "    <tr style=\"text-align: right;\">\n",
       "      <th></th>\n",
       "      <th>area_type</th>\n",
       "      <th>size</th>\n",
       "      <th>total_sqft</th>\n",
       "      <th>bath</th>\n",
       "      <th>balcony</th>\n",
       "      <th>price</th>\n",
       "    </tr>\n",
       "  </thead>\n",
       "  <tbody>\n",
       "    <tr>\n",
       "      <th>3000</th>\n",
       "      <td>2</td>\n",
       "      <td>22</td>\n",
       "      <td>2350</td>\n",
       "      <td>2.0</td>\n",
       "      <td>0.000000</td>\n",
       "      <td>423.0</td>\n",
       "    </tr>\n",
       "    <tr>\n",
       "      <th>3001</th>\n",
       "      <td>3</td>\n",
       "      <td>13</td>\n",
       "      <td>755</td>\n",
       "      <td>1.0</td>\n",
       "      <td>1.000000</td>\n",
       "      <td>34.0</td>\n",
       "    </tr>\n",
       "    <tr>\n",
       "      <th>3002</th>\n",
       "      <td>2</td>\n",
       "      <td>22</td>\n",
       "      <td>800</td>\n",
       "      <td>5.0</td>\n",
       "      <td>2.000000</td>\n",
       "      <td>98.0</td>\n",
       "    </tr>\n",
       "    <tr>\n",
       "      <th>3003</th>\n",
       "      <td>3</td>\n",
       "      <td>13</td>\n",
       "      <td>1194</td>\n",
       "      <td>2.0</td>\n",
       "      <td>2.000000</td>\n",
       "      <td>46.0</td>\n",
       "    </tr>\n",
       "    <tr>\n",
       "      <th>3004</th>\n",
       "      <td>3</td>\n",
       "      <td>16</td>\n",
       "      <td>3850</td>\n",
       "      <td>5.0</td>\n",
       "      <td>1.584376</td>\n",
       "      <td>316.0</td>\n",
       "    </tr>\n",
       "    <tr>\n",
       "      <th>3005</th>\n",
       "      <td>3</td>\n",
       "      <td>18</td>\n",
       "      <td>4235</td>\n",
       "      <td>4.0</td>\n",
       "      <td>2.000000</td>\n",
       "      <td>365.0</td>\n",
       "    </tr>\n",
       "    <tr>\n",
       "      <th>3006</th>\n",
       "      <td>2</td>\n",
       "      <td>1</td>\n",
       "      <td>800</td>\n",
       "      <td>1.0</td>\n",
       "      <td>0.000000</td>\n",
       "      <td>52.0</td>\n",
       "    </tr>\n",
       "    <tr>\n",
       "      <th>3007</th>\n",
       "      <td>3</td>\n",
       "      <td>16</td>\n",
       "      <td>2250</td>\n",
       "      <td>3.0</td>\n",
       "      <td>1.000000</td>\n",
       "      <td>195.0</td>\n",
       "    </tr>\n",
       "    <tr>\n",
       "      <th>3008</th>\n",
       "      <td>3</td>\n",
       "      <td>13</td>\n",
       "      <td>1352</td>\n",
       "      <td>2.0</td>\n",
       "      <td>2.000000</td>\n",
       "      <td>68.0</td>\n",
       "    </tr>\n",
       "    <tr>\n",
       "      <th>3009</th>\n",
       "      <td>3</td>\n",
       "      <td>16</td>\n",
       "      <td>2002</td>\n",
       "      <td>3.0</td>\n",
       "      <td>2.000000</td>\n",
       "      <td>112.0</td>\n",
       "    </tr>\n",
       "    <tr>\n",
       "      <th>3010</th>\n",
       "      <td>2</td>\n",
       "      <td>19</td>\n",
       "      <td>4000</td>\n",
       "      <td>5.0</td>\n",
       "      <td>1.000000</td>\n",
       "      <td>280.0</td>\n",
       "    </tr>\n",
       "  </tbody>\n",
       "</table>\n",
       "</div>"
      ],
      "text/plain": [
       "      area_type  size total_sqft  bath   balcony  price\n",
       "3000          2    22       2350   2.0  0.000000  423.0\n",
       "3001          3    13        755   1.0  1.000000   34.0\n",
       "3002          2    22        800   5.0  2.000000   98.0\n",
       "3003          3    13       1194   2.0  2.000000   46.0\n",
       "3004          3    16       3850   5.0  1.584376  316.0\n",
       "3005          3    18       4235   4.0  2.000000  365.0\n",
       "3006          2     1        800   1.0  0.000000   52.0\n",
       "3007          3    16       2250   3.0  1.000000  195.0\n",
       "3008          3    13       1352   2.0  2.000000   68.0\n",
       "3009          3    16       2002   3.0  2.000000  112.0\n",
       "3010          2    19       4000   5.0  1.000000  280.0"
      ]
     },
     "execution_count": 31,
     "metadata": {},
     "output_type": "execute_result"
    }
   ],
   "source": [
    "df.loc['3000':'3010']"
   ]
  },
  {
   "cell_type": "code",
   "execution_count": 32,
   "metadata": {
    "id": "8xv4hD8iOpal"
   },
   "outputs": [],
   "source": [
    "x = df[['total_sqft','price']]\n",
    "y = df.drop(['total_sqft','price'],axis=1)"
   ]
  },
  {
   "cell_type": "code",
   "execution_count": 33,
   "metadata": {
    "colab": {
     "base_uri": "https://localhost:8080/",
     "height": 206
    },
    "id": "1kWCcL8JR23D",
    "outputId": "3a4e1e68-471a-4f18-86f3-10ddb43518d7"
   },
   "outputs": [
    {
     "data": {
      "text/html": [
       "<div>\n",
       "<style scoped>\n",
       "    .dataframe tbody tr th:only-of-type {\n",
       "        vertical-align: middle;\n",
       "    }\n",
       "\n",
       "    .dataframe tbody tr th {\n",
       "        vertical-align: top;\n",
       "    }\n",
       "\n",
       "    .dataframe thead th {\n",
       "        text-align: right;\n",
       "    }\n",
       "</style>\n",
       "<table border=\"1\" class=\"dataframe\">\n",
       "  <thead>\n",
       "    <tr style=\"text-align: right;\">\n",
       "      <th></th>\n",
       "      <th>total_sqft</th>\n",
       "      <th>price</th>\n",
       "    </tr>\n",
       "  </thead>\n",
       "  <tbody>\n",
       "    <tr>\n",
       "      <th>0</th>\n",
       "      <td>1056</td>\n",
       "      <td>39.07</td>\n",
       "    </tr>\n",
       "    <tr>\n",
       "      <th>1</th>\n",
       "      <td>2600</td>\n",
       "      <td>120.00</td>\n",
       "    </tr>\n",
       "    <tr>\n",
       "      <th>2</th>\n",
       "      <td>1440</td>\n",
       "      <td>62.00</td>\n",
       "    </tr>\n",
       "    <tr>\n",
       "      <th>3</th>\n",
       "      <td>1521</td>\n",
       "      <td>95.00</td>\n",
       "    </tr>\n",
       "    <tr>\n",
       "      <th>4</th>\n",
       "      <td>1200</td>\n",
       "      <td>51.00</td>\n",
       "    </tr>\n",
       "  </tbody>\n",
       "</table>\n",
       "</div>"
      ],
      "text/plain": [
       "  total_sqft   price\n",
       "0       1056   39.07\n",
       "1       2600  120.00\n",
       "2       1440   62.00\n",
       "3       1521   95.00\n",
       "4       1200   51.00"
      ]
     },
     "execution_count": 33,
     "metadata": {},
     "output_type": "execute_result"
    }
   ],
   "source": [
    "x.head()"
   ]
  },
  {
   "cell_type": "code",
   "execution_count": 34,
   "metadata": {
    "id": "gVjFccb7R4L8"
   },
   "outputs": [],
   "source": [
    "from sklearn.preprocessing import MinMaxScaler\n",
    "minmax = MinMaxScaler()"
   ]
  },
  {
   "cell_type": "code",
   "execution_count": 35,
   "metadata": {
    "colab": {
     "base_uri": "https://localhost:8080/"
    },
    "id": "E-Gl6gDZSXIg",
    "outputId": "c049beb5-21cf-4a13-cd13-8ccca068bd88"
   },
   "outputs": [
    {
     "name": "stdout",
     "output_type": "stream",
     "text": [
      "['1056', '2600', '1440', '1521', '1200', '1170', '2732', '3300', '1310', '1020', '1800', '2785', '1000', '1100', '2250', '1175', '1180', '1540', '2770', '1100', '600', '1755', '2800', '1767', '510', '1250', '660', '1610', '1151', '1025', '2100 - 2850', '1075', '1760', '1693', '1925', '700', '1070', '1724', '1290', '1143', '1296', '1254', '600', '660', '1330.74', '600', '970', '1459', '800', '869', '1270', '1670', '2010', '1185', '1600', '1200', '3010 - 3410', '1500', '1407', '840', '4395', '845', '5700', '1160', '3000', '1100', '1140', '1220', '1350', '1005', '500', '1358', '1569', '1240', '2089', '1206', '1150', '2511', '460', '4400', '1660', '2957 - 3450', '1326', '1325', '1499', '3000', '1665', '708', '1060', '710', '1000', '1000', '1450', '1200', '1296', '1540', '2894', '1330', '1200', '1200', '2502', '650', '2400', '1007', '1200', '966', '1630', '1640', '782', '1260', '1800', '1413', '1116', '1530', '3700', '2497', '1540', '1436', '1100', '276', '1427', '2061', '3067 - 8156', '2650', '1282', '1050', '1600', '945', '1500', '950', '1870', '1600', '880', '1200', '1535', '950', '1360', '1042 - 1105', '1280', '1260', '5000', '3050', '1563.05', '1000', '1167', '4000', '1828', '890', '1612', '1034', '1710', '957', '1250', '2795', '1125', '1020', '1200', '1735', '2050', '3750', '1350', '1063', '1904', '4200', '2000', '1145 - 1340', '1425', '1500', '1060', '1470', '1300', '450', '1152', '1350', '1550', '1500', '600', '400', '705', '770', '1242', '1700', '2144', '1704', '1070', '1846', '1340', '1025', '1015 - 1540', '1200', '2250', '1550', '1200', '1800', '1200', '1327', '1186', '1783', '1400', '980', '1285', '912', '1225', '1075', '1260', '1282', '1909', '1359', '1207', '1736', '2850', '1595', '1798', '1475', '1580', '1295', '3600', '589', '1415', '1787', '1787', '1475', '2000', '984', '1520 - 1740', '2405', '1080', '1500', '1900', '805', '1153', '1148', '1110', '1100', '1290', '1500', '1080', '1933', '3500', '1060', '645', '2600', '645', '1644', '1285', '1200', '910', '1577', '4050', '2420', '800', '1060', '1270', '900', '1280', '1200', '1025', '1108', '1200', '3045', '2900', '1500', '1295', '1162', '1035', '1600', '1464', '1866', '700', '1804', '913', '1868', '883', '900', '1664', '2026', '1210', '4111', '1762', '1252', '861', '1420', '1450', '1490', '1075', '1425', '1200', '1280', '1084', '1015', '1017', '1027', '1069', '1349', '1005', '1417', '1475', '950', '2000', '880', '1863', '1010', '1425', '1450', '1847', '1100', '525', '1665', '1664', '1850', '1438', '1560', '1350', '1550', '1140', '1200', '850', '1280', '1170', '1113', '1385', '1128', '1200', '1200', '2390', '2400', '1464', '1200', '1200', '1150', '1645', '1000', '2650', '1192', '2135', '1173', '1020', '3122', '1600', '1200', '1230', '1250', '1325', '1850', '525', '1200', '1350', '1260', '1800', '11', '1100', '1508', '1592', '1388', '630', '2000', '1762', '950', '3252', '1116', '1308', '1200', '1500', '500', '1075', '530', '1205', '1075', '930', '1380', '2483', '1166', '1050', '2023.71', '1200', '1600', '1935', '451', '1800', '1400', '1801', '1451', '1200', '1160', '1000', '950', '1629', '1580', '1826', '1245', '1145', '825', '1693', '1113.27', '1460', '1050', '1260', '700', '1656', '1208', '1910', '3252', '1200', '1200', '1175', '1000', '1200', '2390', '12000', '550', '34.46Sq. Meter', '1185', '750', '1200', '1550', '1760', '1125', '1350', '1000', '1090', '1200', '1991', '1060', '1105', '985', '1533', '1590', '1120', '1069', '1933', '1194', '1150', '1240', '1419', '1200', '2150', '1450', '1630', '708', '1000', '11890', '1250', '1400', '1670', '1750', '1404', '1715', '630', '1752.12', '1650', '1295', '1800', '1346', '1200', '1150', '3309', '1190', '1620', '950', '5000', '2450', '1220', '850', '1020', '1100', '1150', '1760', '1800', '1070', '1500', '1440', '900', '1200', '1130', '1320', '1270', '1200', '4800', '1200', '929', '1150', '1125', '500', '1200', '1464', '3600', '2000', '1208', '1130', '1753', '4500', '600', '1196', '1150', '1128', '1000', '1035', '950', '1075', '1040', '720', '1511', '1300', '1545', '375', '1062', '1115', '1000', '883', '1195', '1200', '700', '1246', '660', '8500', '1600', '2805', '1584', '3000', '1175', '1595', '1353', '1599', '1150', '5230', '1155', '1200', '1000', '3000', '1867', '1251', '1028', '1222', '1170', '2400', '1385', '1372', '1282', '5000', '3000', '1135', '1768', '1325', '1599', '1500', '2610', '1286', '2845', '1600', '1195 - 1440', '3450', '1102', '1350', '1200', '1300', '1800', '950', '525', '656', '1780', '1056', '595', '1080', '2225', '1126', '1490', '2000', '1550', '1600', '1160', '4144', '2100', '1404', '2230', '1544', '1305', '1230', '1200', '1460', '1200 - 2400', '967', '540', '715', '2500', '1578', '1020', '1020', '1253', '1180', '961', '1419', '1709', '1600', '416', '1100', '1430', '1260', '1630', '1249', '1450', '2791', '600', '834', '1125', '2060', '12000', '891', '1133', '1075', '3000', '2440', '1200', '1075', '1140', '940', '2160', '1090', '1500', '4104', '1790', '1920', '1374', '1445', '711', '1500', '1720', '1400', '1030', '1200', '1375', '1050', '2250', '1000', '469', '3800', '883', '1820', '1440', '3600', '2500', '1225', '4000', '875', '750', '1180', '1194', '1500', '1160', '4125Perch', '2378', '1128', '1500', '1220', '1210', '1100', '1200', '3385', '1641', '1200', '1260', '1720', '1120 - 1145', '1210', '2200', '1075', '1702', '1630', '1141', '2072', '4400 - 6640', '1200', '1350', '3090 - 5002', '1180', '35000', '1355', '600', '1200', '1640', '1200', '1190', '2400', '1019', '1875', '1250', '1200', '1140', '1683', '1515', '2118', '1380', '1083', '600', '2300', '1240', '1750', '1230', '1500', '985', '1500', '1125', '950', '4400 - 6800', '1580', '1092', '1090', '2264', '1033', '810', '1045', '1337', '1200', '1580', '1500', '1640', '1570', '1470', '1160', '1050', '1855', '1460', '1823', '1094', '1153', '1325', '1200', '1590', '1210', '1200', '1202', '1202', '1200', '1688', '1020', '1185', '1235', '3205', '1077', '1415', '2330', '805', '425', '1155', '5270', '656', '1100', '1150', '600', '1468', '4300', '2280', '1341', '1279', '2225', '1185', '1750', '1152', '1000', '1300', '2760', '1070', '1101', '775', '667', '1070', '1875', '735', '4360', '1750', '1215', '600', '820', '1160 - 1195', '1779', '1105', '1000Sq. Meter', '1650', '1694', '2376', '1975', '674', '1185', '445', '900', '1475', '1618', '1120', '2181', '1200', '600', '1556', '1179', '1296', '1275', '1875', '1400', '1222', '940', '1185', '1779', '1615', '4000 - 5249', '1056', '1100', '920', '1602', '1176', '675', '1352', '1717', '10961', '2119', '1246', '1141', '1157', '1025', '650', '1349', '1566', '2830', '1320', '1780', '1091', '3670', '918', '1950', '1695', '1705', '1375', '525', '1447', '1114', '1450', '460', '1022', '1000', '1128', '1180', '1000', '1200', '3761', '1339', '1400', '1040', '1198', '1200', '1691', '1075', '1630', '1240', '1115 - 1130', '1665', '2489', '1142', '1976', '5500', '1853', '600', '1567', '1090', '1200', '2400', '1175', '1200', '995', '884', '900', '1170', '1225', '1342', '1345', '1320', '1100Sq. Yards', '1140', '1300', '1652', '2072', '1740', '1360', '1145', '1540', '1278', '630', '1100', '1200', '2500', '520 - 645', '1015', '3300', '4500', '1356', '823', '1200', '1050', '1180', '1116', '1070', '1385', '1000', '1897', '1005', '1575', '975', '1904', '930', '525', '686', '2400', '1410', '2238', '1174', '3800', '2225', '1250', '918', '1250', '1800', '1170', '1300', '793', '1710', '1082', '1001', '1500', '1590', '2400', '1554', '1000 - 1285', '4239', '884', '1045', '1019', '1935', '1135', '1680', '2470', '2825', '2480', '1260', '1800', '1799', '3606 - 5091', '400', '1047', '1282', '1020', '1080', '1495', '3260', '1611', '3500', '1500', '1500', '3206', '1540', '1639', '700', '1303', '1005', '650 - 665', '1305', '600', '1300', '1440', '901', '1725', '900', '1060', '1020', '1535', '530', '1464', '1350', '1115', '1175', '1113', '1200', '1640', '650', '1325', '950', '1396', '1050', '1825', '1190', '1220', '1565', '1891', '900', '1161', '633 - 666', '2400', '315', '665', '1175', '1425', '1200', '1200', '1255', '2112.95', '600', '1810', '1200', '1033', '1548', '1611', '1400', '1485', '2400', '1025', '600', '1225', '1256', '2268', '1100', '1141', '400', '1400', '4100', '5.31Acres', '15', '1175', '1100', '1843', '1200', '1460', '1530', '1467', '950', '1246', '711', '1194', '1358', '1500', '1420', '1250', '1280', '1209', '4200', '1215', '1315', '1800', '1600', '1600', '3968', '1563', '1560', '2169', '900', '1050', '3235', '1200', '1140', '1500', '1560', '1100', '1260', '1036', '1662', '1464', '1234', '1403', '915', '3000', '1150', '3900', '850', '929', '2400', '1350', '1135', '1405', '1200', '2805', '1161', '1290', '2557', '1480', '3300', '1350', '1580', '1470', '500', '1346', '1600', '720', '30Acres', '1200', '1200', '1340', '6136', '918', '1500', '1315', '2400', '1390', '1330', '3100', '1824', '1420', '750', '1260', '1561', '812', '1060', '1120', '1225', '2144', '1200', '880', '1639', '1240', '1500', '1243', '1575', '1027', '1082', '1637', '1665', '1265', '1691', '1100', '24', '1500', '3205', '1666', '1115', '1070', '1128', '1162', '1339', '1192', '1920', '1255', '1357', '1600', '1225', '2400', '1570', '1093', '1865', '1200', '1039', '1246', '1985', '1590', '4000', '775', '1000', '1800', '1035', '1520', '1360', '6000', '1117', '1200', '1330', '1937', '1128', '1053', '1198', '1152', '1200', '1625', '1397', '1523', '883', '700', '1170', '1200', '2400', '1480', '1897', '996', '1875', '1500', '3095', '1390', '1445 - 1455', '697', '710', '910', '1025', '884 - 1116', '1200', '1453', '3335', '850 - 1093', '1281', '565', '1024', '1620', '1254', '1300', '1233', '1200', '1510', '950', '1945', '1008', '1265', '1255', '2689', '1200', '1403', '1535', '1500', '1475', '1390', '1278', '1133', '1560', '2900', '1170', '1200', '1697', '1651', '1560', '1192', '1078', '800', '1349', '2300', '1680', '1314', '1060', '820', '5000', '2000', '856', '1621', '1200', '1484', '600', '14000', '500', '485', '1050', '1617', '550', '1384', '1408', '1150', '1410', '2150', '2292', '2006', '1508', '1040', '1240', '1535', '1180', '2200', '1400', '500', '4800', '1984', '3000', '1960', '1035', '2150', '1700', '3024', '1586', '2264', '2325', '1120', '1440 - 1884', '1128', '1200', '924', '1600', '1006', '1200', '1250', '1200', '957', '1140', '1050', '1565', '1190', '2842', '1558.67', '630', '1403', '1542', '2750', '3596', '1635', '1239', '1194', '1596', '1009', '1726', '1535', '1300', '3100', '1800', '665', '4050', '1500', '925', '3356', '1395', '1415', '1419', '1121', '1082', '1100', '1606', '1650', '4634', '1206', '1495', '840', '710', '1210', '1523', '1232', '680', '1355', '1430', '1275', '1070', '1200', '2000', '1200', '1610', '1140', '1143', '3467.86', '1530', '980', '1485', '1500', '1280', '1265', '1132', '1262', '940', '1515', '1300', '1840', '890', '1655', '2060', '1730', '2195', '1650', '1200', '1079', '1085', '5000', '1075', '1380', '1450', '1200', '3200', '1639', '1200', '1739', '4346', '935', '510', '1200', '1178', '1375', '1065', '1450', '999', '4400', '1350', '1100', '1835', '2090', '1519', '1267', '1150', '1146', '1200', '1550', '850', '2200', '3329', '785', '2900', '1610', '921', '850', '2700', '1700', '1020', '1090', '3600', '1027', '1185', '850', '1197', '3500', '920', '716Sq. Meter', '1105', '1850', '1300', '1595', '3073', '755', '4050', '1300', '1215', '900', '1145', '1093', '1213', '1654', '1105', '1611', '1367', '1010', '750', '1535', '620', '982', '1700', '1330', '2500', '1475', '1410', '440', '1614', '1363', '650', '1015', '1156', '1100', '1455', '930', '1650', '1200', '700', '2900', '1890', '2197', '3522', '1240', '1440', '650', '764', '900', '1693', '1445', '900', '1030', '1381', '1100', '1575', '1200', '1200', '1080', '2280', '1360', '1865', '1157', '674', '1405', '1160', '1600', '1790', '1128', '1180', '1450', '340', '2000', '1050', '1125', '1246', '1372', '1330', '2465', '1300', '1420', '810', '1065', '700', '547.34 - 827.31', '1050', '1250', '865', '1200', '1756', '750', '628', '1200', '1207', '1765', '1130', '1532', '1650', '1200', '804.1', '1200', '1197', '1200', '1385', '1010', '2225', '1180', '1525', '1100', '1435', '400', '1200', '1272', '1205', '980', '1225', '1541', '1610', '1694', '600', '950', '1560', '1201', '1500', '1785', '1258', '910', '1297', '1291', '1070', '1012', '1260', '1282', '1843', '2400', '3356', '2790', '1330', '1400', '1192', '1000', '1297', '580 - 650', '1490', '1373', '1035', '3750', '1010', '1195', '1750', '1052', '1180', '3680', '2100', '2863', '1128', '2700', '1120', '2424', '1300', '1090', '2710', '3040', '1330', '1427', '1294', '1580', '400', '1808', '3516', '1194', '900', '1310', '900', '3850', '925', '2400', '1290', '3770', '1390', '1200', '845', '1537', '1135', '1512', '900', '1230', '1378', '1277', '1985', '8000', '1210', '890', '2550', '1200', '3198', '1464', '2483', '1550', '4111', '975', '2500', '1690', '1063', '2572', '2200', '1600', '1250', '520', '4000', '1390', '1185', '1219', '1564', '3425 - 3435', '1100', '1300', '1600', '1600', '1482', '1000', '1200', '600', '1200', '600', '2400', '1469', '551', '1160', '1205', '1550', '1745', '1028', '1700', '1200', '2700', '1100', '1200', '1269.72', '1266', '1060', '1168', '1552', '1804 - 2273', '500', '1080', '2100', '1300', '920', '817', '1310', '1650', '1515', '1157', '2400', '3000', '2200', '1243', '1530', '2070', '1815', '3900', '1000', '982', '1232', '1282', '654', '1181', '1075', '1200', '1616', '1800', '1200', '1306', '1626', '2700', '1585', '1370', '3250', '1495', '2000', '2400', '1375', '3630 - 3800', '1400', '1100', '660 - 670', '1200', '1150', '1080', '1645', '1760', '595', '1200', '4000 - 5249', '1410', '1090', '540', '1300', '1890', '1254', '2800', '1275', '1245', '1170', '1193', '850', '1678', '1600', '1750', '1125', '2200', '1500Sq. Meter', '2800', '1200', '1000', '2780', '1320', '8000', '2422', '1100', '882', '845', '883', '620 - 933', '1595', '1280', '1700', '920', '1300', '1450', '1757', '600', '2400', '1240', '750', '1330', '1062', '1078', '1460', '1200', '1200', '912', '142.61Sq. Meter', '2400', '2028', '980', '1000', '1050', '2611', '1875', '1065', '1800', '1163', '1098', '1725', '4000', '1128', '1320', '1705', '1418', '1500', '1100', '1464', '812', '2695 - 2940', '1280', '1420', '1200', '727', '1200', '2774', '2000', '1722', '2800', '2000 - 5634', '1650', '840', '914', '1482', '1724', '1670', '1184', '1200', '1200', '927', '1242', '1220', '1360', '2800', '1180', '1697', '550', '1225', '1690', '1660', '1488', '1250', '1050', '1027', '1699', '1205', '712', '950', '1200', '1476', '1070', '2160', '1296', '1800', '1570', '1300', '1550', '770', '1870', '1650', '1429', '1167', '1035', '1188', '1200', '1574Sq. Yards', '884', '1194', '1026', '1400', '1115', '1200', '2690', '975', '675', '1900', '600', '1101', '1700', '3606', '1258', '1560', '3630', '2000', '2790', '1494', '1482', '800', '1185', '1100', '1300', '1225', '1758', '1145', '1180', '1260', '3450 - 3472', '1190', '1691', '3675', '1305', '2337', '1200', '1206', '1350', '1140', '1250', '600', '1225', '800', '1020', '2100', '1350', '925', '1800', '2000', '1510', '5800', '1614', '682', '1200', '900', '1632', '1041', '5080', '3012', '1530', '1450', '1200', '1200', '1508', '600', '1188', '2690', '1174', '1350', '1870', '1072', '52272', '726', '1345', '1200', '980', '1050', '993', '1300', '1743', '1204', '1200', '1480', '950', '640', '972', '1840', '1128', '680', '2400', '1045', '955', '1360', '1150', '3450', '1115', '920', '1030', '1564', '1045', '1200', '1277', '2479.13', '1846', '1100', '1690', '1200', '3042', '1640', '1068', '1135', '1925', '1615', '650', '1200', '1150', '930', '1410', '600', '2000', '1354', '1050', '600', '1320', '1600', '3500', '1000', '1130', '1238', '2204', '1200', '1364', '900', '1745', '1200', '1020', '1650', '1550', '1440', '1329', '916', '688', '1358', '1331', '686', '1050', '2106', '1718', '1530', '1206', '1075', '1200', '1936', '2172.65', '1100', '1260', '990', '800', '1117', '1685', '740', '1080', '1500', '1800', '1700', '850', '1891', '1400', '1172', '1400', '896', '1180', '2460', '850', '530', '1550', '1699', '2025', '500', '500', '1146', '2475', '1455', '800', '765', '1521', '1600', '3155', '2900', '1765', '1980', '1900', '1265', '1034', '1012', '1070', '3555', '1270', '585', '2045', '1490', '6150', '883', '671', '1156', '2017', '3122', '1635', '4400', '1296', '2400', '1139', '1230', '581.91', '1245', '1158', '3951', '550', '360', '1350', '1670', '1600', '1307', '1050', '1703', '1210', '1025', '1140', '1343', '1560', '925', '1420', '1415', '1210', '1852', '1250', '1100', '1150', '1100', '1350', '1546', '1424', '1398', '1650', '1200', '1476', '500', '1322', '432', '1100', '4750', '1285', '1150', '1430', '1350', '1350', '1185', '1760', '2400', '900', '1297', '1840', '950', '1200', '950', '1250 - 1305', '1571', '1031', '1485', '1109', '2200', '950', '1200', '1161', '2350', '1003', '1350', '1080', '1255', '1250', '1700', '1200', '824', '1875', '1320', '9600', '1330', '1220', '1111', '1197', '2519', '1340', '1450', '1837', '1200', '1238', '1405', '1690', '1620', '1673', '1090', '1112', '1385', '545', '985', '670 - 980', '1080', '1430', '1050', '2000', '4800', '1533', '2800', '2610', '1750', '1200', '1352', '1754', '1560', '3012', '3584', '1470', '1035', '2400', '1160', '1100', '1170', '595', '1650', '1875', '800', '1375', '1235', '750', '1400', '1270', '1105', '1375', '2168', '1200', '1065', '3800', '3125', '825', '1095', '720', '1440', '870', '1195', '1200', '1530', '1708', '975', '750', '1200', '1920', '1200', '1183', '1140', '1550', '1110', '1500', '1105', '1800', '2800', '1000', '1190', '1350', '3067', '1929', '1525', '1775', '1125', '900', '1155', '1200', '1268', '1500', '630', '1525', '1060', '1687', '1847', '1410', '1075', '3526', '3000', '1500', '1010', '1875', '1200', '983', '1101', '1140', '1215', '1007', '2039', '1020', '1198', '4000', '1470', '1370', '1316', '1350', '1050', '1005.03 - 1252.49', '921', '1010', '1015', '1200', '1179', '1850', '870', '1605', '2800', '2475', '3000', '2400', '1000', '1200', '1200', '1200', '1200', '1255', '1085', '1592', '1313', '1934', '1200', '3600', '935', '877', '936', '1470', '1050', '1232', '2225', '1200', '1901', '1819', '1464', '2400', '3630 - 3800', '5000', '1200', '1256', '1100', '4800', '1435', '3245', '1845', '2400', '1140', '1200', '2254', '1750', '1020', '515', '1893', '3025', '830', '600', '1075', '3200', '1200', '1233', '1255', '1200', '2145', '1500', '740', '1250', '1210', '1525', '540', '1240', '1245', '1865', '1004 - 1204', '1075', '2200', '1155', '1520', '3122', '1290', '2300', '3000', '361.33Sq. Yards', '400', '1340', '900', '1800', '987', '1720', '1040', '900', '1030', '2556', '1850', '750', '1028', '1270', '1655', '940', '1050', '600', '946', '1726', '2121', '1404', '1525', '1025', '1575', '860', '1223', '3750', '1197', '1150', '4800', '1040', '1310', '1788', '1144', '1070', '1200', '1862', '1200', '970', '1646', '4395', '1200', '1995', '2400', '1085', '1139', '1092', '1767', '1700', '1692', '1645', '1345', '1100', '1408', '2400', '1920', '6040', '2072', '1420', '2040', '1220', '1200', '1300', '1150', '1470', '1063', '1311', '3500', '600', '1400', '2200', '1430', '1060', '1000', '1760', '2010', '1480', '1230', '1300', '800', '4850', '1100', '1752.12', '957', '645 - 936', '1942', '1000', '668', '3000', '600', '1089', '1800', '960', '1036', '1583', '3300', '1100', '800', '1246', '850', '1196', '1697', '1000', '1567', '1200', '3750', '950', '1022', '1018', '2000', '1322', '1800', '1460', '990', '2400', '1635', '3526', '3400', '2770', '2710 - 3360', '1533', '1720', '2000', '1185', '900', '395', '1031', '2400', '2650', '2400', '1330', '1259', '1570', '1075', '1216', '1428', '1160', '600', '1475', '1754', '1639', '1804', '1200', '1135', '1260', '1440', '2160', '700', '1220', '1200', '1300', '605', '1230', '1444', '924', '1000', '600', '1200', '845', '700', '1187', '1625', '1200', '1452.55', '2357', '1200', '1139', '600', '1660', '1170', '1448', '1762', '1105', '1825', '296', '1200', '1185', '1320', '1058', '1220', '925', '1200', '1160', '600', '1411', '1550', '3250', '2475', '2249.81 - 4112.19', '2503', '2524', '1063', '1077', '1200', '1500', '1045', '1290', '1400', '1600', '3095', '1545', '1680', '1350', '950', '1050', '1305', '800', '2700', '1100', '3500', '1634', '1352', '1145', '1240', '2200', '1020', '3600', '1168', '1205', '1195', '1028', '1175', '1550', '1826', '2400', '1603', '1350', '714', '1215', '1405', '1142', '4000', '1870', '1313', '1945', '1573', '1255', '1400', '1235', '1380', '1500', '1238', '1465', '1418', '1650', '351', '1279', '1870', '1500', '2526', '1550', '3436 - 3643', '1845', '1360', '1150', '1260', '1200', '965', '1350', '1447', '1229', '1027', '1153', '2830 - 2882', '1065', '1030', '1340', '4000', '600', '1410', '1055', '1304', '2720', '990', '1035', '596 - 804', '1120', '1300', '1239', '1403', '1365', '1165', '1130', '1776.42', '900', '1194', '1107', '2319', '1520', '1536', '3000', '1050', '1850', '1112', '1535', '1050', '2400', '1250', '1187', '1164', '1395', '2072', '1450', '1550', '1315', '3067', '1210', '1075', '11338', '1215', '1470', '30000', '1590', '1050', '1306', '2000', '1445', '1220', '3190', '1215', '1920', '1390', '800', '600', '1196', '1550', '1418', '1655', '1115', '1170', '1035', '1306', '750', '1917', '1615', '1071', '1325', '3000', '1400', '1246', '1215', '1200', '450', '1200', '945', '4460', '1175', '920', '3024', '1600', '750', '2400', '955', '1750', '1425', '2150', '1165', '1050', '1370', '1374', '1754', '1847', '1850', '3297', '1187', '1400', '600', '1350', '3000', '693', '1980', '1021', '1165', '1756', '1739', '1280', '1215', '950', '1082', '1050', '1080', '1100', '3200', '1311', '1608', '1160', '1170', '1155', '1255', '1065', '674', '1936', '2289', '1100', '2257', '1055', '1530', '1700', '1575', '3500', '1263', '1255 - 1863', '1043', '1255', '1300 - 1405', '590', '1550', '1220', '1900', '1360', '1100', '1455', '1035', '1152', '1299', '1157', '1050', '1050', '1246', '1929', '1285', '1200', '3161', '1850', '1025', '1124', '1012', '4500', '871', '1020', '1550', '3515', '1410', '3500', '1118', '1098', '1130', '1145', '950', '1051', '600', '1102', '1478', '645', '823', '880', '600', '1991', '1100', '1745', '1226', '680', '1100', '1200', '1450', '3366', '1150', '1843', '2200', '1090', '1132', '1375', '1500', '760', '1180', '918', '600', '1200', '1372', '2400', '1728', '2215', '1200', '1280', '800', '1455', '440', '1500', '1800', '1525', '1204', '1225', '800', '1650', '880', '4200', '1200', '1152', '1005', '1562', '5000', '810', '1200', '1555', '1550', '1190', '1070', '1200 - 2400', '1020', '1610', '700', '1300', '1420', '1200', '1069', '1900', '1655', '1155', '1300', '1100', '1030', '2105', '1700', '1760', '6200', '1400', '1200', '912', '1102', '1535', '1243', '918', '1500', '3000', '1476', '1200', '606', '1100', '1295', '527', '1300', '680', '1260', '1140', '1500', '2321', '1390', '1725', '3067', '1186', '1230', '600', '1313', '900', '1250', '1200', '660', '1036', '2700', '1100', '1500 - 2400', '1500', '525', '1015', '812', '1360', '2167', '1200', '1165', '1274', '1151', '1060', '1626', '1035', '1272', '965', '1600', '1070', '1570', '117Sq. Yards', '780', '1000', '1200', '7500', '1700', '1850', '904', '1121', '1385', '1270', '1450', '2400', '730', '1580', '1111', '1125', '977', '674', '600', '2540', '1290', '600', '795', '700', '1463', '1000', '1306', '2401', '1670', '1875', '1200', '1804', '2065', '1225', '934 - 1437', '900', '1350', '700', '980 - 1030', '1160', '1680', '1043', '1200', '1040', '1357', '1600', '1225', '1500', '1130', '2500', '1700', '1549', '1400', '1080', '1180', '780', '1800', '1225', '890', '1005', '1320', '1475', '1564 - 1850', '1110', '1300', '600', '1128', '1452.19', '2400', '2600', '2500', '630', '1243', '960', '1690', '735', '1365', '2849', '1420', '1570', '850', '1575', '1418', '1050', '1065', '1340', '1610', '1160', '1092', '1194', '1455', '734', '799', '1896', '1100', '1350', '1355', '1128', '1350', '3875', '1493', '1098', '1900', '1460', '2350', '1600', '1091', '1180', '1366', '1685', '1260', '3010', '1330', '1200', '1346', '630', '1446 - 1506', '1850', '2350', '755', '800', '1194', '3850', '4235', '800', '2250', '1352', '2002', '4000', '1060', '1419.59', '1196', '1220', '1595', '1260', '1100', '1550', '1180', '4000', '1662', '1285', '1080', '1862', '1419', '1410', '1560', '1100', '1634', '5530', '1150', '1100', '1616', '1392', '1798', '1675', '792', '2000', '600', '1700', '1248', '1147', '1100', '1527', '2400', '525', '1100', '1118', '1476', '2100', '1215', '1332', '1350', '600', '1243', '1105', '1500', '1200', '1251', '883', '1400', '1800', '1703', '2500', '1250', '933', '461.82', '1262', '915', '1370', '1210', '2392', '1500', '1065', '3100', '1515', '1800', '1445', '1300', '989', '1300', '1185', '1350', '1045', '1205', '1260', '1320', '1500', '1250', '1199', '1385', '1222', '1149', '2180', '1200', '12000', '1200', '1818', '1070', '1640', '1350', '630', '1430', '2430', '1500', '1084', '1186', '1255', '3400', '1541', '3596', '1295', '1000', '2820', '1370', '1100', '4772', '1370', '1370', '1200', '2000', '3500', '1200', '2400', '1220', '1950', '1178', '1286', '1160', '918', '1563', '1326', '1350', '3960', '1240', '1325', '1100', '3875', '1605', '5600', '1260', '1553', '1280', '1550', '1445', '1550', '1515', '1332', '1652', '1570', '5400', '794', '1200', '3600', '1200', '1650', '600', '2800', '1750', '1053', '1100', '1665', '4051', '5500', '1447', '1012', '1900', '1308', '3250', '1351', '1000', '1200', '1140', '2249.81 - 4112.19', '1250', '1290', '1424', '1320', '1662', '8321', '1200', '1975', '1295', '1777', '1900', '1576', '1020', '2100', '648', '1167', '1000', '1220', '2350', '1259', '2000', '1800', '1991', '1665', '1234', '1340', '1170', '995', '1075', '1025', '2721', '2000', '2500', '1325', '1314', '2265', '4800', '1026', '1200', '2220', '1070 - 1315', '1420', '1888', '1300', '1216', '3000', '1559', '1290', '2400', '905', '1069', '829', '1900', '3040Sq. Meter', '1300', '1115', '2409', '2150', '1305', '1252', '2400', '1200', '1750', '545', '1375', '1313', '3640', '1693', '1160', '1200', '1255', '1000', '900', '1700', '1875', '1700', '1749', '1500', '1175', '1280', '1200', '1610', '1070', '1200', '1127', '1210', '600', '4190', '1364', '2268', '1150', '1146', '1345', '1110', '750', '1156', '1247', '1058', '950', '420', '600', '1520', '1215', '900', '2350', '1050', '1672', '2800', '1500', '1400', '500Sq. Yards', '2700', '920', '1200', '1250', '1817', '2043', '1140', '4346', '1464', '1468', '1555', '1200', '1150', '970', '2500', '1166', '2779', '1350', '900', '1300', '1190', '1495', '1224', '1350', '940', '1100', '1300', '1480', '1105', '2600', '1517', '3800', '1615', '1500', '1082', '1365', '1000', '1392', '1086', '1586', '1100', '1065', '1500', '1575', '1975', '820', '1745', '1223', '1200', '1200', '665', '1351', '1355', '3900', '1588', '900', '440', '3385', '1370', '1500', '2280', '1100', '1247', '2000', '1020.07', '1033', '1460', '1150', '5965', '1141', '2806 - 3019', '4200', '1665', '1295', '1230', '1080', '1000', '2400', '613 - 648', '1708', '1697', '3537', '615', '1350', '1430 - 1630', '1083', '1460', '1084', '1035', '2400', '460', '950', '1285', '2000', '1200', '1070', '1801', '1697', '1199', '2300', '1340', '3800', '600', '1125', '1200', '1050', '956', '1000', '1596', '1200', '1296', '1200', '1639', '1219', '1200', '1218', '920', '2559', '525', '1427', '1270', '920', '2700', '1740', '1355', '1530', '1372', '2363', '3895', '1950', '885', '600', '1270', '1380', '1339', '1130', '1085', '1430', '1451.5', '6200', '1490', '1650', '1286', '925', '3016', '1000', '1215', '1200', '1336', '673', '1200', '600', '1600', '1200', '2480', '2500', '2400', '1143', '1470', '1584', '1785', '2292', '1460', '1500', '1200', '3300', '1230', '650', '1480', '1220', '1570', '3000', '1665', '1350', '4000', '1100', '1350', '1719', '664', '1011', '2400', '1680', '704 - 730', '700', '1520', '1350', '1760', '875', '1231', '1174', '1560', '1464', '2200', '850', '1750', '2024', '1500', '2100', '2408', '1080', '2070', '1020', '1500', '1575', '3250', '1175', '1030', '1440', '1500', '1380', '1200', '705', '2240', '1584.01', '1340', '1800', '1200', '685', '925', '1230', '1200', '1125', '1100', '2400', '1400', '1200', '1858', '1260', '3530', '1185', '1200', '1255', '3436', '1335', '1999', '1200', '1397', '1200', '3950', '1200', '1616', '1200', '1270', '1140', '525', '1200', '700', '1205.47', '1200', '1700', '750', '1090', '3600', '2400', '923', '3595', '1050', '1495', '1482 - 1846', '1485', '1033', '1400', '500', '944', '3250', '1216', '1100', '1743', '1274', '2500', '1512', '3100', '1650', '1875', '1350', '1219', '1200', '2400', '1141', '1151', '832', '915', '3259', '1115', '2072', '1200', '1300', '1457', '1262', '1196', '900', '420', '1160', '1115', '1315', '1500', '1127', '1397', '1173', '1090', '2720', '1230', '3200', '858', '1868', '1689.28', '600', '1425', '1200', '1350', '4200', '1310', '2805 - 3565', '970', '1397', '1157', '1125', '1157', '1241', '660', '4000', '2340', '596', '10000', '1200', '1910', '1139', '3122', '1033', '1168', '877', '1340', '1405', '1800', '1750', '1360', '675', '985', '1300', '1850', '1490', '620', '1130', '1080', '3126', '1410', '1375', '1290', '1318', '1128', '4428', '1051', '3500', '2400', '1327', '2912', '1301', '650', '1200', '1500', '2700', '1350', '1000', '984', '1819.18', '900', '1355', '2145', '2475', '1118', '910', '1250', '1304', '1615', '1400', '1070', '3500', '1132', '2000', '2400', '794', '1090', '1500', '2059', '525', '1447', '1269', '4800', '1070', '1150', '1208', '1185', '1200', '888', '1015', '532', '1060', '700', '902', '600', '1175', '1365', '984', '2700', '1475', '1300', '1200', '1453', '1550', '1666', '1410', '4025', '1845', '1676', '1137', '1360', '1374', '1700', '3227', '2145', '2400', '2170', '1080', '1790', '550', '1270', '1033', '1000', '2940', '1240', '1650', '883', '1500', '1730', '1915', '1545', '1865', '1150', '1200', '963', '1200', '2600', '1700', '1682', '1371', '901', '600', '1730', '1200', '1500', '3785', '3500', '1203', '1357', '1600', '350', '1665', '1400', '835', '815', '1444', '1277', '1521', '1134', '995', '2760', '1325', '4000', '1525', '1320', '650', '1858', '1150', '769', '1571', '1445', '1590', '902', '2238', '1090', '1712', '1088', '1575', '2150', '1920', '1000', '1100', '1089', '1106', '927', '1339', '923', '2900', '1175', '975', '2400', '1330', '1183', '1758', '1200', '1255', '600', '1100', '1170', '2400', '1530', '1420', '1200', '1045', '1591', '1680', '675', '1055', '1918', '1280', '1560', '1145', '2106', '1801', '1200', '1718', '1306', '1320', '1350', '2990', '3800', '1344', '1893', '1107', '1200', '1190', '1000', '2400', '1000', '2113', '1100', '1200', '1884', '1110', '1027', '1250', '1470', '1150', '1200', '703', '1400', '1195', '1302', '1583', '1488', '600', '1385', '3262', '1600', '1150', '4500', '1263', '1200', '1299', '1330', '1282', '1853', '861', '1600', '1256', '1390', '1550', '1200', '919', '1625', '1195', '2400', '1159', '1386', '1197', '2690', '3293 - 5314', '1295', '1310', '1132', '2350', '2400', '1645', '1200', '3000', '1937', '1015', '1080', '1350', '1149', '1185', '1720', '2080', '1500', '1566', '2386', '1500', '1290', '1531', '1839', '4200', '1400', '550', '1140', '1210 - 1477', '2000', '1100', '1200', '1618', '2830', '1315', '1141', '1080', '1200', '1111', '1022', '1275', '900', '1224', '1135', '1050', '1535', '1392', '1050', '1513', '1621', '892', '1205', '1355', '1250', '1650', '1200', '1400', '726', '1500', '3895', '1079', '1170', '1104', '950', '4818', '1650', '1559', '1100', '1750', '1215', '1868', '1130', '1570', '1691', '4355', '1225', '1690', '1418', '1896', '605', '800', '900', '750', '780', '908', '3369 - 3464', '3216', '2400', '1400', '1092', '1255', '1500', '1296', '925', '1023', '600', '1020', '1530', '1650', '1605', '1925', '1190', '1374', '1140', '1725', '1075', '1574', '965', '1550', '1205', '1082', '1215', '2483', '1200', '1500', '2360', '3198', '1452', '1329', '1125', '1200', '1350', '1125 - 1500', '2600', '1200', '1220', '1255', '1904', '1329', '1200', '2135', '2770', '813', '3884', '3876', '800', '4750', '1500', '1880', '1440', '1575', '1630', '1180', '1090', '1020', '2425', '1097', '1070', '1000', '1120', '1150', '1900', '1141', '937', '1075', '1000', '1450', '897', '936', '1280', '1050', '1350', '1325', '1174', '1890', '735', '500', '1304', '1653', '1075', '1212', '1100', '3436', '1200', '1140', '1200', '1532', '2776', '1531', '1270', '1325', '1200', '1156', '2000', '1260', '1934', '1060', '1476', '1185', '1265', '3200', '1196', '1280', '800', '1175', '1850', '2400', '1195', '2000', '600', '800', '1180', '1050', '1400', '2360', '1030', '1512', '929', '1252', '1485', '1124', '2400', '1407', '1482', '1163', '1570', '3480', '520', '2000', '1352', '1152', '1575', '1965', '1300', '1', '957', '1740', '1080', '1060', '975', '1150', '1738', '1250', '1788', '1151', '1300', '1150', '1380', '1645', '1141', '1175', '1355', '1150', '5800', '1000', '1007', '3000', '1436', '4000', '2372', '1500', '167Sq. Meter', '1200', '1016', '1100', '1080', '1070', '1532', '1040', '3100', '1076 - 1199', '1430', '1160', '3262', '2100', '1190', '1827', '1210', '1500', '1050', '1251', '1600', '1128', '1820', '2072', '1510', '1925', '2651', '2072', '1000', '1752', '960', '1180', '2270', '650', '1200', '1180', '1300', '1157', '1300', '1305', '2006', '1290', '1170', '971', '1400', '1200', '1155', '1725', '700', '7000', '1112', '1178', '1274', '915', '1650', '760', '1540', '1206', '1645', '1200', '1200', '2342', '1200', '1056', '4800', '1450', '1161', '1097', '850', '1715', '2300', '1200', '1080', '1200', '2400', '1400', '1500', '381 - 535', '1230', '1640', '1700', '1478', '6600', '1020', '1200', '1275', '1600', '1110', '1627.86', '620', '3004', '1133', '1182', '1500', '3900', '1200', '1128', '2215 - 2475', '900', '1100', '635', '2062', '1874', '600', '1171', '2020', '1059', '1315', '1760', '1200', '1192', '1645', '1250', '524 - 894', '1340', '2388', '1369.1', '1355', '1150', '1938', '2462', '1636', '1430', '2000', '993', '1260', '1700', '1270', '1500', '2300', '7500', '1650', '1109', '1280', '2885', '1200', '1600', '1462', '607', '930', '4500', '1200', '2600', '3000', '1418', '4200', '1125', '1825', '1320', '3000', '1490', '1650', '750', '1400', '4104', '5000', '3295', '1150', '1200', '965', '812', '1100', '1180', '1145', '1027', '1215', '1200', '1015', '2400', '3000', '3300', '1076', '1300', '1300', '1512', '1053.4', '540 - 670', '1153', '2080', '1255', '315Sq. Yards', '1583', '1505', '1365', '1200', '1810', '440', '975', '1250', '1530', '1300', '1115', '1308', '1194', '1490', '10000', '1592', '1222', '1267', '656', '3400', '4500', '1200', '1698', '1500', '2000', '1152', '550', '900', '1410', '1419', '1200', '1800', '990', '1016', '1100', '850', '1095', '2000', '1444', '1415', '1500', '1600', '1105', '1225', '2560', '1080', '2400', '1856', '1464', '2100', '1150', '1200', '1650 - 2538', '1485', '2500', '1200', '1036', '3445', '1400', '1110', '1150', '715', '1200', '1200', '2283', '1790', '1453', '1400', '1400', '1700', '1591', '1515', '2500', '975', '1382', '1750', '1533', '3815', '1100', '3730', '1500', '1391', '1160', '620', '2400', '1200', '4827', '1482', '1405', '1190', '1174', '1155', '1411', '745', '1000', '923', '1000', '1276', '1460', '1355', '833', '1200', '1750', '1200', '669', '2200', '1594', '1790', '1020', '3250', '1037', '1345', '1070', '3000', '1385', '1207', '1140', '1220', '3811', '3596', '1965', '1760', '1225', '1075', '1000', '1891', '1322', '1095', '3600', '1045', '1545', '1996', '1125', '1560', '2000', '3100', '780', '1350', '2275', '1350', '1464', '1570', '708', '1680', '1400', '1310', '3300', '1175', '1428', '750', '3252', '1194', '750', '1080', '1200', '1200', '1200', '1320', '1842', '1146', '440', '1048', '1801', '1232', '1150', '1868', '1445', '1466', '1730', '3860', '1185', '3027', '2400', '1185', '1150', '2000', '875', '1075', '1760', '1600', '910', '1000', '1215', '1734', '1280', '1113', '1272', '1240', '704', '1100', '896', '3657', '1200', '2800', '2790', '3500', '3600', '1500', '1200', '1096', '580', '1094', '1100', '2725 - 3250', '2503', '1145', '1550', '1830', '1746', '1280', '918', '645', '1305', '1207', '1678', '950', '1200', '1070', '1732.46', '1639', '1360', '2592', '4470', '720', '1656', '985', '1999', '1050', '1440', '1600', '1253', '1200', '1360', '1086', '1655', '2600', '1418', '1270', '1410', '1150', '600', '1440', '1200', '1200', '1410', '1200', '600', '624', '1060', '3960', '1200', '1200', '1917', '950', '3040', '1250', '1235', '722', '2775', '1200', '1400', '1225', '1220', '705', '1880', '1200', '1550', '1893', '1650', '1113', '1500', '1800', '1586', '4000', '1541', '1830', '1200', '1800', '1015', '1120', '706', '1350', '610', '1900', '1200', '3000', '1075', '1290', '1200', '1150', '1360', '4500', '935', '1730', '1260', '675', '4000', '950', '600', '2500', '3216', '800', '1991', '1115', '1900', '1109', '2340', '1200', '4356', '1005', '416', '1394', '2138', '1550', '1300', '1265', '1140', '1050', '1100', '1012', '1600', '1326', '1654', '1705', '1070', '1700', '910.2', '1140', '4960', '2254', '945', '2462', '1350', '615', '1110', '575', '1025', '1758', '3179', '1342', '1800', '2928', '1140', '1608', '1645', '1410', '1200', '1275', '3800', '909', '1200', '1080', '1200', '1092', '1932', '1156', '924', '1330', '1917', '985', '2400', '1800', '1290', '655', '1800', '1360', '1785', '4000', '1645', '1235', '900', '662', '1440', '1215', '845', '1525', '1000', '1255', '1560', '2100', '1620', '1595', '1095', '835', '2182', '1418', '1900', '2700', '1070', '2000', '2400', '755', '1645', '2400', '645', '3900', '2400', '2416', '919', '1725', '1346', '1070', '1225', '880', '640', '1310', '1190', '1645', '1350', '1404', '1105', '900', '1650', '1100', '2100', '1948', '1464', '1210', '4000', '1252', '1200', '3905', '2600', '1300', '1130', '1200', '1690', '4500', '950', '1020', '2107', '1735', '915', '1450', '2215', '2431', '1804', '1600', '1280', '1255', '1320', '1257', '1240', '1200', '1850', '1255', '870', '1789', '800', '660', '600', '1155', '1235', '2675', '1025', '1395', '1530', '1252', '1081', '1255', '2062', '1220', '1408', '1180', '715', '1230', '1035', '3360', '1300', '1100', '1216', '1450', '705', '1385', '1200', '1310', '1043', '1320', '1900', '1140', '1100', '1586', '975', '1365', '1263', '1565', '1163', '2882', '2320', '1750', '1143', '1936', '660', '700', '1402', '4640', '1000', '1000', '818', '1680', '2422', '1145', '1190', '1145', '1575', '9000', '1200', '1500', '2560', '1583', '700', '950', '1041', '1085', '1070', '1165', '1000', '1169', '1150', '1840', '1550', '997', '1457', '1000', '1000', '1500', '958', '1165', '1200', '1787', '1288', '1430', '3035', '750', '900', '1200', '1500', '1230', '780', '1220', '1110', '2100', '1380', '1690', '1130', '1213', '900', '1199', '5000', '1974 - 2171', '700', '661', '1804', '1710', '1030', '1220', '1530', '1200', '2000', '300', '1751', '800', '1255', '1778', '1100', '1480', '1358', '580', '1197', '1200', '1705', '1310', '1132', '1200', '814', '1575', '1302', '1800', '2006.8', '1100', '2400', '830', '435', '1590', '1140', '1090', '1922', '965', '883', '1062', '888 - 1290', '1358', '1108', '1197', '1190', '3754', '1749', '1750', '1691', '1449', '1360 - 1890', '1400', '1310', '1100', '1230', '1750', '1450', '1810', '1246', '1420', '2658', '1450', '1200', '1367', '2254', '1160', '1200', '1711', '750', '1120', '950', '1560', '1250', '1225', '1200', '1340', '1846', '1155', '1205', '1140', '1140', '1300', '1051', '1134', '2500', '12000', '1135', '1745', '500', '1665', '1220', '1868', '640', '2300', '1210', '1351', '1636', '2400', '1464', '418', '1339', '2370', '1530', '1100', '1350', '1290', '1220', '1846', '1847', '3100', '1430', '935', '1350', '540', '1590', '1286', '1141', '1554', '3520', '7500', '1749', '2250', '1140', '1632', '1000', '1065', '1520', '1075', '5', '1539', '1342', '1004', '1295', '1098', '1070', '1016', '1450', '654', '5985', '1080', '1046', '1950', '1610', '2493', '1151', '1125', '992', '1000', '2400', '1850', '1174', '2466 - 2856', '1100', '1095', '3580', '900', '1082', '1350', '1314', '1290', '1010', '2200', '1636', '1050', '1200', '1520', '2500', '1067', '1060', '955', '1418', '1200', '700', '1366', '1090', '1250', '3600', '950', '1470', '1250', '800', '1494', '1445', '1397', '606', '861', '1170', '2461', '1205', '1224', '660', '1153', '2400', '4500', '1200', '1450', '1139', '1530', '825', '1575', '650', '1120', '1700', '1090', '1897', '1200', '700', '1437', '1856', '1500', '1036', '3000', '1125', '1320', '2215', '660', '1730', '750', '1804', '1795', '1050', '2100', '1199', '1350', '1100', '1000', '1254', '600', '940', '1280', '2155', '3200', '4260', '1255', '1388', '905', '1176', '1390', '2400', '1160', '2800', '1200', '1583', '1252', '1170', '1350', '1075', '972', '1486', '555', '4830', '850', '1282', '2790', '2383', '1103', '1577', '1465', '1600', '1090', '1721', '1100', '1450', '1071', '2266', '2065', '1800', '1150', '1200', '1123', '1884', '930', '1145', '1328', '950', '1250', '1115', '1318', '3300', '1280', '1230', '1420', '2111', '1100', '1750', '2550', '700', '1050', '1235', '1200', '900', '1146', '1200', '2400', '1200', '615', '1070', '1538', '1355', '3080', '1800', '1400', '1123', '1200', '787', '1082', '1096', '1200', '1140', '1130', '550', '1058', '1269', '946', '3400', '2689', '1976', '1820', '1329', '1350', '1250', '1205', '800', '1339', '938', '450', '1100', '600', '1060', '1125', '810', '1060', '1749', '1200', '1100', '660 - 700', '720', '6613', '1925', '502', '3339', '1475', '1550', '966', '1350', '1300', '4400', '1559', '1246', '2790', '1410', '1300', '1339', '900', '1104', '900', '1550', '670', '1483', '1540', '1200', '1255', '600', '1036', '1460', '1230', '1340', '1600', '2162', '919', '1070', '1733', '1221', '1041', '2550', '1400', '600', '710', '1500', '3122', '2061', '2400', '1255', '2425', '1031', '1210', '950', '1376', '1161', '1303', '1418', '1200', '1825', '1015', '1150', '1010', '1508', '1275', '1460', '946', '1110', '1832', '1088', '1564', '1030', '660', '1700', '1100', '1205', '1950', '1080', '2800', '999', '900', '1300', '1265', '1200', '1974', '1180', '1350', '1560', '2800', '1085', '1300', '1600', '1127', '795', '1850', '1020', '1475', '1200', '1345', '849', '1706', '2100', '1250', '1260', '1265', '1260', '1045', '3895', '385 - 440', '1100', '1113', '2774', '1210', '700', '1155', '1132', '1359', '2631', '1145', '600', '1200', '830', '1009', '1800', '1226', '1500', '1363', '1400', '1165', '2792', '700', '1060', '1200', '1518', '1495', '1575', '1440', '1545', '1470', '1500', '1450', '1179', '1650', '1095', '856', '1143', '1349', '1280', '480', '1216', '2493', '1290', '1200', '1156', '1230', '1070', '2100 - 5405', '1235', '1117', '1724', '1200', '600', '1930', '1216', '1452', '1355', '7500', '2145', '957', '925', '1550', '4000', '2100', '1115', '1692', '1100', '1385', '760', '1335', '910', '1610', '1341', '1200', '1285', '2100', '1679', '2675', '1016', '1500', '660', '2448', '924', '500', '1800', '1255', '1040', '1062', '770 - 841', '950', '1216', '1300', '1390', '1033', '1390', '1020', '524 - 894', '1140', '670', '2171', '1136', '1477', '1001', '1040', '1060', '1240', '3500', '42000', '1070', '1253', '1190', '1312', '750', '1615', '1095', '1745', '1050', '2080', '1220', '1793', '1100', '1385', '1200', '2017', '400', '1400', '960', '1125', '1551', '600', '1246', '3200', '1060', '1384', '620', '1005', '1200', '1400', '2400', '1096', '1180', '1300', '1020', '600', '3563', '1165', '1685', '1580', '1210', '1030', '1100', '1255', '1482', '1344', '1275', '462', '3300', '1210', '1320', '1532', '1245', '1212', '1230', '1000', '2257', '1246', '1080', '3Cents', '1360', '1260', '1200', '1418', '1200', '950', '1020', '1400', '1440', '800', '1310 - 1615', '1175', '1185', '2250', '1178', '36000', '825', '1250', '1113.12', '1718', '1010', '900', '1500', '540', '1020', '1194', '1470', '600', '1108', '3895', '700', '1600', '1850', '1250', '600', '1140', '1200', '985', '982', '600', '2640', '1314', '1700', '1077', '1782 - 2000', '2000', '1643', '1200', '1116', '1020', '621', '1740', '1225', '1241', '1041', '1050', '4400', '1309', '1128', '1430', '1065', '1085', '750', '981', '1548.3', '2302', '1410', '1525.84', '1200', '1030', '1852', '1160', '918', '1255', '1200', '1150', '2700', '1150', '1227', '1255', '840', '1198', '1200', '188.89Sq. Yards', '2600', '2072', '797', '1350', '2500', '2215', '525', '2700', '1500', '900', '1355', '1465', '1006', '2000', '1128', '850', '1310', '1390', '1390', '2396', '1170', '1385', '1160', '1160', '1200', '1475', '1939', '850', '675', '1060', '1235', '600', '1250', '1460', '1690', '850', '1843', '1680', '1047', '1100', '3250', '1120', '1095', '970', '1200', '1100', '1685', '1148', '1050', '1465', '3401', '630', '1850', '1200', '1750', '1350', '1760', '1440', '1200', '1100', '1140', '1469 - 1766', '1410', '1434', '1180', '1160', '1343', '1184', '2246', '4510', '1305', '3785', '1540', '1550', '1345', '975', '1140', '1152', '3200', '1033', '1800', '1102', '1223', '1762', '560', '2000', '1410', '1853', '1455', '1138', '2556', '1200', '1200', '204Sq. Meter', '1200', '1870', '1199', '800', '1360', '1230', '2000', '1200', '1047', '6000', '1200', '1255 - 1350', '725', '1645', '870', '1026', '2000', '1710', '1766', '500', '1100', '1221', '680', '1278', '1025', '1175', '870 - 1080', '600', '850', '710', '1165', '625', '1340', '937', '1500', '750', '45Sq. Yards', '1475', '2230', '2200', '900', '1116', '948', '970', '1519', '1200', '1760', '4400', '1914', '1820', '1820', '1565', '1334', '924', '914', '500', '2145', '1200', '1650', '3940', '1020', '1180', '1255', '2777.29', '1014', '920', '695', '2273', '1140', '3000', '1180', '2400', '850', '1200', '3160', '1769', '133.3Sq. Yards', '1554.3', '1243', '4920', '905', '627', '2180', '2400', '1435', '3405.1', '1620', '1862', '674', '1220', '1027', '1025', '1430', '1235', '1291', '1498', '2180', '1000', '922', '850', '750', '1123', '1235', '1250', '2403', '984', '1305', '1200', '600', '2790', '2010', '995', '1277', '1236', '1265', '525', '2570', '2400', '1442', '1224', '1205', '1233', '1312', '1449', '1090', '2100', '1390', '1200', '600', '1000', '2400', '1732', '1290', '1840', '1917', '1100', '1455', '2774', '1200', '1425', '1655', '2805', '600', '1040', '1126', '1600', '1250', '1800', '1200', '2050', '530', '2580 - 2591', '883', '1490', '1295', '1275', '800', '1200', '1063', '656', '1125', '881', '1350', '700', '1936', '1680', '1253', '1640', '1082', '1065', '2100', '1070', '1280', '1200', '1125', '1755', '1210', '951', '1500', '1652.5', '1381', '1085', '905', '1685', '1200', '1151', '3532', '1665', '800', '1050', '1030', '1257', '1600', '1465', '1650', '1243', '680', '1230', '1300', '1000', '1146', '1200', '2601', '2159', '1255', '1130', '1200', '1040', '1500', '906', '1180', '1200', '850', '1200', '1374', '4700', '613 - 648', '2400', '1027', '1200', '2384', '1033', '1200', '2017', '1500', '700', '1150', '1495', '1302', '905', '1303', '1350', '1380', '1620', '4800', '1000', '800', '1250', '1750', '997', '1760', '1322', '1365', '1500', '1256', '941', '5000', '1665', '1414', '1270', '800', '4100', '1800', '850', '712', '2563 - 2733', '900', '900', '1200', '654', '708', '600', '1680', '990', '1380', '1088', '1414', '1240', '1810', '2005', '1185', '1200', '1070', '1265', '1100', '1035', '605 - 624', '1000', '1179', '1650', '2800', '3500', '1430', '1130', '1850', '1340', '4260 - 4408', '600', '2582', '1160', '1200', '1116', '600', '2663', '1090', '1100', '1365', '1484', '1630', '1451', '1330', '2127', '875', '1260', '1173', '1445', '2250', '1500', '1349 - 3324', '1197', '1200', '3930', '1450', '1187', '4000', '1050', '1370', '1036', '1275', '2010', '1418', '1265', '1576', '1148', '1000', '1293', '1200', '1210', '1126', '1840', '1440', '1300', '1276', '600', '1216', '840', '1240', '1126', '45', '1162', '1301', '658', '1350', '2500', '78.03Sq. Meter', '1208.51', '1133', '1760', '1075', '940', '1145', '1255 - 1350', '3900', '3300 - 3335', '1300', '2475', '2040', '1200', '2420', '1216', '1459', '1622', '1843', '1274', '600', '1430', '1800', '1565', '1670', '1695', '1410', '1060', '1120', '880', '1083', '1435', '1425', '900', '2400', '693', '600', '2435', '1920', '630', '1075', '1200', '705', '1200', '1532', '1330', '1200', '1530', '1105', '1566', '1630', '1256', '1200', '1595', '1000', '1475', '2400', '1000', '2360', '1737', '1000', '2100', '3600', '883', '1243', '1776', '1347', '1330', '600', '3730', '1459', '2259', '2700', '1008', '1200', '2328', '600', '660', '1800', '3100', '1180 - 1630', '602', '1710', '1500', '1539', '806', '1100', '1151', '920', '1350', '1200', '1265', '600', '1700', '1600', '1550', '1560', '1000', '1243', '1200', '1403', '1010', '1416', '1628', '1660.4', '1680', '1595', '1507', '2560', '1949', '800', '1000', '905', '2480', '1495', '1605', '1290', '1100', '2100', '995', '500', '3526', '1425', '1455', '550', '1385', '7000', '4000', '1060', '1080', '1783', '1520', '1060', '1267', '1155', '2500', '1240', '1570', '1019', '1355', '1537', '4075', '1550', '1100', '1750', '1466', '1550', '2300', '540', '950', '2800', '1020', '2880', '1987', '1305', '2100', '1125', '1225', '1255', '1191', '3600', '1165', '865', '1850', '497', '1232', '1732', '1614', '600', '2072', '919', '2100', '672', '800', '1200', '2849', '1000', '1216', '2245', '1476', '1852', '1225', '1597', '2423', '1152', '1762', '1400', '1530', '2400', '1185', '1890', '1247', '700', '1000', '1201', '830', '1165', '1100', '1890', '1685', '3131', '1165', '827', '396', '1200', '635', '4000', '1050', '600', '1819.18', '1500', '1500', '2850', '1751', '4750', '1020', '1148', '1856', '1754', '4273', '1060', '1300', '3000', '1325', '1261', '1100', '700', '1675', '3400', '3260', '1180', '1160', '1863', '1914', '1458', '1200', '1105', '3035', '1200', '1662', '1556', '918', '1455', '1205', '1194', '1200', '1100', '1405', '929', '3436', '1035', '2100', '1065', '1365 - 1700', '1500', '1200', '1093', '1250', '1680', '1146', '1250', '1451', '1424', '1435', '658', '1300', '1242', '1910', '1610', '1127', '1075', '1155', '1280', '1250', '2200', '2400', '876', '1850', '1314', '690', '3500 - 3600', '1230', '920', '1850', '1073', '1540', '1550', '1198', '1656', '1900', '1910', '1003', '122Sq. Yards', '1495', '2172', '2400', '1200', '1548', '5400', '2830 - 2882', '1689', '1031', '2119', '1200', '1060', '1100', '1350', '1050', '1250', '1100', '1200', '1420', '1500', '1942', '1985', '950', '1200', '1752', '1200', '1200', '1480', '600', '1826', '1035', '2600', '1667', '934', '84.53Sq. Meter', '1620', '1070', '3600', '1280', '1400', '1200', '1330', '1012', '1611', '1405', '1515', '1830', '1710', '935', '2197', '600', '1678', '1410', '1125', '1191', '1200', '1525', '1464', '920', '651', '600', '645', '1185', '1190', '2.09Acres', '2830 - 2882', '1355', '1200', '7000', '1200', '500', '1250', '1480', '3300', '1482 - 1684', '1206', '1357', '925', '909', '3000', '1100', '3000', '1100', '975', '1306', '1200', '610', '1484', '1125', '1447', '2882', '750', '2075', '1250', '1272', '1050', '625', '840', '2502', '583', '900', '1115', '1464', '2200', '750', '1600', '1365', '1300', '1200', '1260', '1190', '2480', '1250', '1500', '1510', '1187', '1120', '981 - 1249', '1717', '2099', '1100', '1200', '1465', '1500', '4050', '1255', '1220', '1065', '1765', '1281', '1210', '1215', '1200', '1237', '1300', '1105', '1505', '3900', '1186', '900', '750', '1083', '1430', '1056', '2108', '1650', '1220', '1198', '1190', '900', '2690', '1340', '2940', '2400', '2324', '1260', '2254', '2990', '1800', '820', '1296', '1190', '1173', '1800', '1102', '913', '1176', '1620', '2968', '1519', '1345', '1594', '1250', '1056', '1200', '1290', '1150', '1464', '1200', '861', '1047', '1200', '1200', '1065', '2300', '1000', '1682', '1756', '4000', '1050', '1238', '814', '1145', '965', '750', '1300', '1590', '644', '982', '1260', '1555', '2500', '1225', '1085', '1640', '1595', '1196', '1859', '1079', '550', '1118', '1198', '1100 - 1225', '1830', '1160', '1485', '2070', '750', '957', '2400', '1268', '1450', '1600', '1330', '1355', '1272', '1100', '1220', '1075', '800', '995', '900', '1140', '1480', '1710', '2106', '2400', '3800', '800', '1602', '1660', '1549', '700', '1012', '1469', '1216', '1065', '1411', '1400', '1250', '1245', '1115', '1000', '1565 - 1595', '1800', '1500', '645', '1275', '1494', '1949', '1020', '883', '3200', '1680', '2232', '2010', '1240', '1213', '1835', '1800', '2932', '3425', '945', '1504', '1569', '1755', '1760', '1240', '1450', '1000', '3820', '2000', '1215', '24Guntha', '1330', '1178', '1500', '2040', '2000', '1602', '1200', '1194', '1800', '2400', '1700', '1200', '1500', '1240', '3000', '1737', '900', '1280', '1560', '883', '750', '2400', '900', '1030', '1850', '1831', '1095', '1320', '1270 - 1275', '1000', '1820', '1075', '1500', '360', '840 - 1010', '1140', '1145', '1862', '947', '697Sq. Meter', '700', '1120', '2700', '1805', '1100', '1355', '1677', '2500', '1560', '2060', '1716', '1864', '638', '1200', '1150', '937', '1490', '4856', '4003', '1100', '1000', '1060', '1047', '1200', '1420', '1539', '1550', '1555', '600', '1553', '920', '1740', '1855', '1724', '1020', '1000', '1250', '1450', '1200', '1140', '900', '550', '1450', '1500', '700', '1200', '1050', '1600', '1625', '1492', '2830 - 2882', '1489', '1560', '1140', '1431', '1682', '1198', '3664', '1550', '1026', '1260', '690', '539', '1200', '2400', '1200', '2500', '1186', '1039', '1500', '1500', '2520', '1225', '1350', '1030', '1550', '1490', '1520', '4100', '1391', '1200', '1200', '2500', '1322', '2173', '1200', '1200', '1170', '1125', '655 - 742', '1250', '1025', '1075', '1900', '1435', '1175', '1464', '900', '585', '3170', '1602', '1220', '2500', '2145', '960', '907', '1210', '900', '1230', '1350', '1150', '1404', '1050', '1020', '1285', '1018', '1200', '1115', '1600', '1480', '2500', '480', '1435', '450', '600', '1590', '800 - 2660', '936', '1181', '1741', '1750', '1050', '1027', '596', '3463', '1600', '2790', '1000', '1120', '1200', '1200', '1570', '1500', '1315', '1140', '1105', '1200', '905', '2400', '1185', '1083', '1458', '1555', '1200', '1308', '1024', '1194', '1450', '1639', '1870', '1232', '1719', '975', '2000', '1230', '1350', '1076', '2400', '995', '2120', '2400', '850', '1096', '1107.83', '505', '1320', '1408 - 1455', '1320', '2901', '1315', '1000', '1596', '1750', '2403', '1350', '4050 - 4075', '1175', '921', '4000', '1713', '1200', '1900', '1664', '1795', '600', '1240', '1965', '600', '4111', '1200', '1112', '3000', '1136', '914', '1270', '1050', '1385', '990', '845', '1485', '1460', '1450', '1360', '1375', '1125', '720', '1460', '1107', '1158', '800', '600', '1760', '3200', '600', '1350', '600', '1125', '1706', '1600', '1200', '1755', '1200', '1200', '1266.67', '1800', '1200', '1300', '800', '4800', '942 - 1117', '1128', '2000', '1210', '2710', '1151', '7500', '1464', '1017', '920', '1200', '1000', '1750', '1163', '1650', '1800', '1100', '1200', '1410', '1933', '1200', '1608', '2679', '1156', '1230', '770', '1777.26', '1339', '3044', '1080', '3150', '2400', '1450', '1075', '1163', '1200', '1200', '3090', '1299', '1130', '1170', '1750 - 2640', '2600', '1140', '1900', '1090', '1110', '705', '1089', '880', '1080', '1093', '1480', '1703', '1200', '1690', '1305', '1257', '1150', '1194', '2000', '1500', '1025', '980', '1200', '2225', '1022', '882', '1153', '1175', '1560', '650', '600', '1350', '1200', '1200', '800', '2093', '1320', '1275', '1215', '1130', '1444', '950', '1000', '1240', '600', '1231', '1300', '1713', '1200', '3004', '1310', '790', '1744', '1605', '1250', '2476', '1260', '1615', '1180', '1255', '1025', '1877', '1649', '2600', '2500', '1542', '1418', '1012', '1200', '1115', '1680', '1171', '1027', '1700', '1090', '1232', '766', '1200', '525', '142.61Sq. Meter', '1452', '1254', '3600', '1593', '1333', '1100', '1375', '1650', '1430', '940', '435', '1160', '1500', '1890', '1050', '1200', '1027', '1390 - 1600', '3000', '1459', '1711', '1250', '645', '875', '1334', '1140', '1115', '1200', '1776', '2072', '1600', '1200', '920', '598 - 958', '1310', '1631', '525', '1395', '2000', '1232', '1075', '1205', '1200', '2340', '1179', '1013', '1160', '1500Cents', '1200', '1200', '1255', '1100', '1069', '1200', '1400', '1065', '1395', '1725', '1007', '1436', '4250', '1645', '1200', '940', '4300', '2850', '1740', '1194', '3761', '1829', '1800', '1000', '5720', '800', '675', '1390', '1500', '2047', '1202', '1012', '2132', '1350', '605', '1331', '1200', '1150', '1200', '1800', '600', '1280', '1007', '1370', '925', '1500', '450', '1200', '1341', '1350', '992', '1163', '1229', '600', '1219', '1525', '1147', '1412', '1200', '1044', '1190', '1240', '1352', '1100', '1330', '1700', '1355', '1200', '400', '1342', '1615', '1340', '1200', '400', '1080', '1600', '1200', '2700', '1780', '1605', '7200', '646', '1200', '900', '1830', '690', '650', '1800', '715', '1230', '1065', '1350', '1080', '900', '946', '1500', '1711', '1200', '950', '1656', '1075', '1752.12', '6000', '1540', '600', '665', '1665', '1145', '1185', '1200', '1693', '2456', '2559', '1155', '1610', '1200', '1530', '1709', '600', '2700', '840', '1400', '1200', '1439', '1375', '2990', '1200', '1315', '1500', '3600', '1178', '1430', '1400', '1093', '1200', '5000', '1200', '2210', '1150', '1435', '600', '1173', '1140', '1717', '1325', '1370', '1025', '1409', '1200', '1200', '1740', '1232', '1200', '5924', '1250', '1475', '2100', '552', '1065', '1000', '1225', '650', '1067', '1364', '1750', '1240', '1200', '1540', '1504', '1116', '2365', '1308', '864', '1200', '1069', '1333', '1800', '6136', '1698', '1275', '1060', '1160', '1484', '675', '1200', '1310', '1806', '3000', '2145', '1693', '1230', '1200', '1310', '1150', '1385', '1066', '2293', '720', '1625', '1246', '2100', '2400', '3900', '1000', '907', '3500', '1395', '1180', '1903', '1175', '1272', '1490', '1144', '2400', '1143', '2500', '1216', '1044', '1352', '1552', '1785', '810', '1650', '1595', '1060', '1410', '1523', '1591', '1640', '450', '1305', '1590', '1240', '1200', '1100', '1180', '1115', '845', '1567.2', '1310', '26136', '959', '1200', '883', '1050', '1390', '132Sq. Yards', '1280', '1280', '1614', '1000', '1196', '1220', '950', '2400', '1141', '1200', '1380', '855', '645', '922', '1200', '1240', '1070', '1293', '1380', '1599', '967', '1885', '860', '1075', '1050', '1595', '1350', '1204', '2990', '1035', '1000', '1457', '1194', '1100', '1655', '1691.2', '1215', '1010 - 1300', '1639', '1685', '1008', '1100', '2122', '1050', '1230', '1240', '1252', '1374', '500', '1200', '1355', '1040', '1350', '4003', '2400', '1560', '1151', '1360', '1250', '1110', '1015', '1351', '960', '1110', '1680', '2400', '11000', '1350', '1254', '1255', '1051', '1200', '1099', '2650', '2000', '1541', '1200', '1125', '1650', '834', '1320', '1200', '1000', '1500', '4400', '2Acres', '600', '1180', '1010', '1070', '1580', '1200', '2000', '1920', '1200', '1040', '1430', '1215', '650', '1564', '800', '750', '1200', '1128', '1200', '2000', '2750', '2400', '1650', '1235', '1200', '900', '985', '1475', '3450', '1157', '900', '2500', '1030', '1000', '3800', '4260', '1950', '1570', '1283', '875', '1200', '2700', '2400', '1250', '3630', '990', '1199', '1280', '2750', '1190', '1100', '2075', '1133', '2400', '1280', '1250', '1565', '1900', '1080', '600', '1240', '1335', '1246', '3103 - 3890', '1385', '1578', '1140', '1700', '1050', '1120', '435', '1116', '1480', '1000', '1145', '800', '1265', '1450 - 1950', '1475', '1265', '1200', '2180', '1080', '2023', '2400', '1545', '1804', '1200', '1350', '1108', '1730', '1427', '935', '1073', '960', '2215', '1125', '1230', '1438', '1080', '1200', '1200', '1590', '1350', '1400', '1560', '1810', '2274.24', '1484', '1650', '1455', '2280', '4900', '2079', '1351', '1223', '1430', '3589', '1310', '1800', '1120', '984', '1770', '900', '1350', '1447', '1140', '1170', '1160', '1296', '1570', '1495', '1530', '900', '1800', '1088', '1533', '1100', '1540', '1244', '1040', '1034', '1260', '1180', '1245', '1350', '1464', '470', '920', '2300', '1124', '2095', '1100', '1019', '1756', '1280', '1200', '1700', '2134', '1369.1', '600', '1313', '2515', '2215', '1440', '1186', '1350', '1800', '1600', '1000', '2275', '1305', '1740', '900', '1567', '1082', '1050', '1200', '3500', '1220', '1970', '2665', '2130', '1749', '1260', '1100Sq. Meter', '1170', '1670', '2264', '3500', '1100', '674', '1320', '600', '1125', '1125', '700', '1300', '1600', '1052', '1140', '1130', '1140', '2200', '1500', '1350', '1230', '1520', '525', '1040', '1300', '2690', '780', '1140', '1225', '646', '1600', '1890', '1050', '1200', '1458', '1200', '1970', '1808', '1007', '1105', '1700', '1170', '1080', '1150', '1200', '1200', '1656', '600', '1040', '1085', '1215', '2150', '1100', '1210', '1050', '600', '1920', '1250', '947.55', '1421', '1050', '1425', '1162', '905', '914', '1258', '1100', '3500', '2400', '4200', '1537', '1230', '2400', '2250', '2000', '3000', '2600', '3200', '950', '4000', '1282', '1304', '2100', '1220', '1636', '1415', '15Acres', '1728', '1680', '1235', '900', '3990', '1495', '1500', '2501', '381', '3301.8', '2002', '3200', '1200', '1500', '1942', '1450 - 1595', '660', '1200', '1450', '1039', '1210', '995', '1620', '3204', '3408', '1314', '945', '1374', '1603', '1230', '670', '1864', '2500', '1625', '1186', '1500', '770', '1085', '3754', '1893', '600', '1496', '1305', '1550', '1200', '1494', '1286', '600', '1860', '425', '1243', '1200', '1044', '1040', '1125', '3489', '1278', '2400', '1250', '2400', '4166', '1210', '1200', '1157', '1185', '1450', '1859', '1763', '900', '1305', '1200', '763 - 805', '5000', '1150', '1806', '1027', '1002', '1220', '1109', '1002', '1308', '1232', '1027', '1250', '900', '960', '1255', '1434', '925', '1858', '1205', '1500', '1200', '1020', '965', '1800', '1200', '1636', '1724', '1216', '654', '2460', '1190', '1200', '1636', '1195', '2400', '1250', '1452', '1546', '3307 - 3464', '1440', '2260', '2700', '1475', '3000', '375', '1007', '1.26Acres', '5422', '1020', '1000', '800', '1200', '1125', '1150', '909', '2850', '1400', '1152', '958', '1150', '2990', '1310', '1590', '1645', '1800', '1795', '1100', '620 - 934', '925', '1542.14', '3746', '1430', '1020', '750', '1140', '967', '2470', '850', '1100', '1697', '1250', '1120', '1200', '5100', '2400', '1200', '1100', '1417', '1492', '1498', '3500', '1010', '1255', '1050', '1847', '1200', '982', '2144.6', '750', '919', '1087', '1480', '1180', '2100', '1221', '1194', '2072', '1600', '2200', '1640', '1253', '1061', '1950', '1250', '1585', '1452', '1015', '2462 - 2467', '1125', '1116', '400', '4000', '3900', '1300', '1419', '1310', '2072', '1240', '1565', '1820', '2500', '3657', '1245', '1315', '1410', '1375', '1299', '993', '1200', '985', '2400', '1255', '1655', '2830', '6000', '550', '825', '1634', '1200', '1222', '1500', '1890', '3750', '850', '1295', '1320', '950', '1200', '3000', '1197', '1320', '1180', '840', '540 - 740', '1693', '1000', '1305', '450', '705', '750', '4800', '5000', '5000', '1991', '1779', '10200', '870', '1595', '525', '945', '2400', '2000', '1614', '1200', '1150', '3200', '1610', '1190', '1050', '4800', '1460', '3400', '600', '1569', '2600', '645', '1200', '800', '800', '1350', '2780', '1410', '1109', '2000', '800', '1215', '1230', '2273', '1255', '1020', '1225', '1120', '2400', '1225', '5200', '4000', '1984', '2425', '1200', '1127', '1655', '500', '1200', '1000', '1225', '1350', '600', '1175', '655', '1311', '600', '1000', '1196', '1050', '1275', '927', '1520', '2400', '1333', '600', '1326', '1618 - 1929', '1370', '1100', '1650', '1917', '780', '950', '1175', '1089', '1804', '1257', '650', '1850', '2800', '945', '1161', '1630', '1310', '750', '1200', '1000', '4000', '1315', '1370', '1200', '1465', '20000', '1128', '1250', '1645', '1284', '2600', '1820', '1580', '2650', '1215', '1075', '1400', '1400', '845', '2600', '3508 - 4201', '800', '1199', '1175', '2400', '1767', '1800', '1856', '1200', '1613', '6830', '1290', '1375', '985', '1200', '1099', '605', '6000', '3600', '1200', '1000', '1159', '3692', '600', '2400', '1540', '1503', '1850', '1580', '1190', '1200', '1000', '850', '2180', '2500', '1200', '1500', '1200', '1880', '1150', '4408', '924', '7800', '600', '750', '1962', '1200', '1765', '1174', '1894', '960', '1760', '1768', '1790', '3500', '1200', '2540', '1137', '2249.81 - 4112.19', '1200', '1568', '4900 - 4940', '1308', '3060', '1200', '800', '530', '873', '3000', '1200', '958', '2072', '2273', '600', '760', '1090', '2072', '2666', '1550', '1251', '1070', '1200', '1435', '1400', '2330', '1200', '1000', '1655', '3600', '600', '1175', '1155', '1200', '1149', '1610 - 1880', '3200', '1010', '1718', '650', '1330', '1200', '1693', '1249', '1800', '900', '1020', '1700', '661', '1280', '1000', '1170', '933', '1150', '3633', '1380', '1050', '1080', '1303', '1196', '2500', '1200', '1250', '1419', '1200', '1120', '755 - 770', '1245', '3978', '1093', '1025', '1345', '1500', '1180', '1020', '1800', '3621', '2008', '1240', '1020', '2095', '1362', '694', '1404', '1192', '1850', '1050', '1259', '1000', '985', '850', '1650', '2400', '1900', '1367', '1210', '1190', '1175', '2800', '1140', '1095', '782', '1435', '725', '1600', '1200', '3205', '720', '1674', '860', '1243', '1703', '1350', '1145', '1216', '1100', '2425', '2700', '1196', '1600', '1510', '3033', '780', '1194', '1250', '1480', '1250', '1350', '620', '1630', '1020', '1410', '1181.7', '1200', '1691', '1200', '1200', '1050', '1300', '1356', '1338', '500', '1280', '1531', '11000', '620', '1605', '1917', '1200', '2750', '1400', '2625', '1100', '2041', '2070', '1110', '1650', '3565', '1033', '1142', '1500', '1502', '1176', '1063', '1100', '1044', '5400', '1216', '1425', '1200', '1345', '1248', '1830', '900', '3600', '1025', '840', '3050', '1424', '2500', '1200', '1285', '1450', '1160', '2700', '2000', '1125', '3900', '1133', '1240', '1466', '3870', '1610', '1220', '1225', '1300', '1996', '1320', '1800', '1835', '1435', '4097', '1601', '1257', '3596', '1309', '1362', '1115', '1870', '1322', '1450', '1185', '1790', '3450', '1050', '664 - 722', '5400', '775', '1000', '1183', '1282', '425', '820', '2230', '1200', '1151', '1320', '1450', '1270', '1847', '1020', '1650', '2380', '2400', '1160', '2805', '1360', '1089', '1115', '1215', '1194', '1536', '1255', '1571', '900', '1517', '664', '1230', '1340', '1175', '3569', '1240', '151.11Sq. Yards', '1470', '525', '1680', '1000', '1071', '1512', '3435', '3144', '1190', '1550', '1283', '1325', '1105', '1600', '400', '700 - 900', '1100', '2099', '1365', '1485', '1250', '1290', '1170', '1328', '1232', '1180', '1350', '3602', '2400', '1020', '1410', '2159', '1453', '1200', '1255', '1074', '1200', '1170', '596 - 861', '1660', '900', '1850', '510', '1601', '952', '1166', '2700', '1900', '1350', '1520', '2100', '1175', '1432', '1005', '1309', '2251', '1050', '1100', '2400', '1565', '940', '1015', '2400', '1652', '1100', '2340', '1084', '1200', '1400', '2400', '1020', '1267', '2439', '1645', '1100', '1320', '1000', '5000', '2500', '2480', '1086', '416', '1066', '1730', '1205', '2500', '960', '1510', '1600', '2300', '1000', '1160', '1553', '3436', '1134', '600', '2400', '2400', '1350', '1032', '1998', '1225', '1262', '1842', '1300', '1070', '950', '1012', '1000', '1394', '1450', '527', '1693', '3122', '1000', '952', '2050', '1200', '1410', '1400', '3056', '1826', '1689', '1075', '2500', '960', '808', '907', '1300', '1804', '1350', '1836', '826', '1200', '3000', '2400', '1460', '1200', '965', '2000', '1395', '1660', '935', '1180', '1090', '1204', '2072', '1056', '985', '1315', '734', '2900', '2317', '600', '2200', '656', '400', '666', '3293', '1174', '1153', '1000', '2400', '957', '910', '1060', '1000', '1843', '1150', '1230', '3197', '1703', '1125', '1516', '1130', '3596', '1512', '1491', '1250', '1650', '1140', '1200', '1881', '1100', '2666', '1500', '1217', '1197', '2400', '1345', '1200', '3230', '1260', '2750', '1200', '1650', '600', '1025', '1925 - 2680', '973', '4110', '2533', '1007', '615 - 985', '1830', '1077', '672', '1280', '865', '1000', '1285', '662', '2297', '3750', '1850', '1754', '1200', '2200', '1567', '1695', '360', '1150', '1690', '2350', '1057', '1320', '2119', '1125', '2254', '645', '1050', '1040', '1700', '1760', '1138', '984', '1140', '3596', '1365', '560', '1404', '1540', '1050', '360', '1550', '1653', '1194', '1471', '700', '812', '1504', '1450', '957', '460', '900', '1050', '1820', '1033', '800', '520', '1165', '1280', '1950', '600', '1550', '1392', '1221', '1000', '1300', '1065', '1209', '375', '7800', '1929', '1255', '1035', '1200', '1650', '1275', '1128', '1140', '1200', '1183', '1155', '1245', '1000', '1040', '2062', '1477', '1050', '1525', '2000', '1220', '2388', '1355', '1141', '1046', '630', '1247', '3855', '850', '1120', '800', '1798', '1180', '1000', '1216', '900', '1100', '1842', '1075', '1495', '1700', '1564', '1256', '1047', '1458', '1063', '7400', '1150', '450', '1360', '1605', '1200', '1810', '1250', '1475', '1100', '850', '1025', '980', '1428', '1130', '1592', '2050', '1407', '4170', '1585', '1785', '900', '1350', '1843', '2375', '1200', '1113', '1125', '1200', '1150', '770', '1181', '1550', '1200', '1295', '480', '1506', '1872', '2900', '1326', '1040', '1200', '1020', '1400', '4000', '812', '1100', '829', '750', '2700', '1500', '850', '1180', '5108', '2215', '1010', '1350', '1100', '1450', '1133', '1564', '640', '2072', '432', '1460', '600', '1050', '700', '1200', '654', '1105', '1800', '1200', '700', '1000', '3500', '1240', '1200', '1400', '1393', '1140', '1000', '1640', '1200', '720', '1650', '2496', '905', '1600', '1070', '8400', '1200', '1800', '2600', '1145', '1495', '1200', '1400', '1558', '1007', '902', '1054', '1135', '996', '1275', '1250', '2502', '1394', '1243', '1216', '1075', '1200 - 2400', '1500', '1708', '1500', '1800', '1532', '1726', '1220', '1100', '1530', '840', '1250', '1030', '1499', '1280', '1170', '2646', '1161', '1633', '1050', '1650', '540 - 565', '418', '905', '1510', '1390', '1101', '2736', '2350', '1056', '1425', '1450', '1000', '575', '1350', '2000', '1770', '3155', '616', '745', '6500', '2400', '1547', '1713', '3300', '1135', '1856', '1152', '1100', '2357', '1820', '1865', '1240', '1360', '4200', '1450', '1139', '1565', '1200', '600', '1200', '1855', '1100', '1350', '2266', '660', '1490', '1083', '1232', '1550', '1227', '1059', '545', '1152', '870', '1210', '663', '1464', '1365', '1704', '1390 - 1600', '1256', '883', '1080', '497', '1073', '3000', '1300', '662', '1200', '1550', '1707', '1310', '1577', '1324', '1786', '1174', '565', '1400', '635', '3000', '1368', '1450', '1045', '1128', '1125', '1195', '630', '1350', '1740', '877', '1770', '450', '1000', '1300', '1300', '985', '1045', '1250', '2400', '1194', '1420', '1720', '1530', '1200', '1570', '1157', '535', '1120', '1150', '2400', '1215', '1444', '2003', '1100', '900', '1372', '4500', '1180', '1096', '2504', '1350', '420', '1832', '1380', '940', '4290', '1020', '2500', '1400', '1675', '708', '1123', '1100', '1225', '1683', '410', '2400', '1350', '1475', '1120', '1150', '1165', '1756', '1409', '1212', '1140', '2087.01', '750 - 800', '1700', '1660 - 1805', '1110', '1000', '1550', '2704', '3760', '1600', '1205', '1418', '1650', '1200', '1150', '3071', '2400', '850', '1580', '1216', '381', '4600', '1040', '2429', '1260', '1498', '1200', '1355', '1450', '1860', '1240', '1300', '2500', '1950', '1625', '1200', '1101', '1216', '1250', '2100', '1470', '1365', '1364', '1180', '1800', '1350', '1573', '1620', '1072', '560', '1156', '1336', '1200', '3400', '1608', '4000', '1215', '1100', '1517', '1565', '1680', '2025', '1057', '3850', '1044', '1695', '1635', '1140', '1150', '1110', '1163', '1418', '1155', '1115', '2250', '1020', '1485', '1920', '1350', '1209', '1089', '1445', '1250', '1500', '1705', '2200', '2925', '1800', '7200', '1830', '1450', '1220', '1259', '1260', '2500', '1919', '1400', '2050', '1050', '1000', '1640', '1488', '1265', '1640', '1719.3', '1200', '1180', '1700', '1464', '1800', '1495', '1225', '1050', '1691', '2250', '3700', '1244', '750', '1190', '1243', '765', '730', '1405', '1350', '500', '1200', '1165', '1400', '4800', '1668', '700', '1485', '700', '1346', '1075', '1050', '1800', '1609', '770', '1076', '1052', '1000', '1000', '1262', '720', '500', '3500', '1600', '1251', '1050', '1140', '1157', '648', '1197', '1500', '1185', '2400', '1397', '1175', '900', '2710', '1720', '1756', '602', '1770', '930', '1295', '1200', '1100', '1194', '720', '1476', '1056', '825', '1860', '1063', '697', '2400', '1200', '1835', '1365 - 1700', '1147', '1360', '3400', '1080', '1010', '2600', '1270', '1100', '1410', '1065', '1200', '1315', '1650', '1140', '960', '800', '1225', '1020', '750', '3000', '535', '1035', '1020', '1315', '1350', '1075', '1450', '1806', '1350', '1282', '1929', '1100', '1800', '1223', '1664', '1360', '1158', '1420', '1268', '1308', '1485', '1067', '2000', '2450', '1152', '1525', '935', '1465', '1198', '1145', '1000', '400', '3420', '1310', '1861', '1265', '1280', '1279', '1200', '680', '1590', '1837', '1703', '1293', '700', '1450', '1030', '1570', '1000', '1075', '1091', '2210', '1738', '1640', '1205', '1009', '1200', '3362', '1410 - 1710', '1600', '960', '1330', '1024', '1196', '800', '2650', '1080', '1150', '1286', '2990', '1150', '1310', '1352', '1307', '1500', '1500', '1079 - 1183', '1600', '2800 - 2870', '682', '2500', '1650', '1850', '2000', '982', '2015', '1702', '1250', '1240', '1050', '1023', '1541', '1275', '1230 - 1290', '1580', '1343', '1365', '1047', '1187', '1050', '560', '1000', '1200', '1075', '2048', '1090', '1119', '1355', '1445', '1314', '6500', '1165', '943 - 1220', '1787', '3600', '1200', '1020', '1797', '1205', '1095', '1560', '1200', '1200', '1450', '1496', '1935', '1016', '1816', '1680', '2041 - 2090', '1220', '3000', '980', '1200', '1250', '1424', '1297', '1300', '1290', '1720', '1200', '2320', '1237', '1720', '1224', '1780', '4700', '1800', '1139', '588', '700', '1150', '1330', '2732', '965', '1600', '1464', '3100', '1075', '1840', '1223', '1170', '3630', '950', '5400', '865', '2400', '1169', '1206', '10961', '1683', '1250', '3150', '1200', '1234.6', '492', '600', '1902', '1200', '1639', '1214', '565', '2520', '1386', '1535', '1720', '1370', '1655', '1200', '1610', '2200', '1200', '1105', '753', '1655', '1700', '770', '1210', '965', '700', '1740', '1310', '1763.25', '1900', '1000', '1450', '1836', '1160', '1153', '1285', '2500', '1194', '1257', '1200', '527 - 639', '1240', '1294', '1095', '1145', '1826', '1314', '1900', '1040', '1290', '1200', '1325', '2600', '1129', '645 - 936', '1075', '1108', '810', '1155', '3900', '2367', '1550', '1100', '1452', '1141', '1464', '1500', '456', '1200', '3122', '760', '2400', '800', '1180', '775', '1145', '1060', '3900', '1420', '2439', '1200', '1111', '984', '1200', '1247', '1050', '1550', '1270', '1012', '970', '933', '1200', '1148', '1463', '1719', '1350', '1250', '1700', '4320', '1200', '1030', '1420', '9600', '1703', '1210', '1210', '3000', '1398', '1335', '1255', '540', '1213', '1240', '1076', '1320', '1216', '1100', '1183', '656', '534', '1285', '2087.01', '1161', '1306', '2249.81', '1504', '645', '1230', '1100', '1000', '1260', '1817', '3626', '1180', '1050', '2900', '2110', '500', '1930', '4560', '1505', '2400', '890', '1200', '849', '1555', '600', '1057', '1680', '799', '1450', '1819', '1135', '2020', '2700', '1730', '1950', '1077', '1706', '3000', '1093', '2750', '1340', '984', '1135', '2400', '1155', '700', '1150', '1385', '2061', '1335', '1015', '3000', '1108', '1180', '1445', '1500', '1Grounds', '1085', '1050', '2760', '1330', '845', '1762', '1303', '1560', '1110', '1290', '1160 - 1315', '1780', '1636', '2557', '1332', '7500', '1012', '1192', '795', '1213', '1489', '1200', '1140', '1200', '1200', '2640', '1650', '1245', '1224', '1235', '1200', '1342', '600', '1800', '2280', '2440', '1130', '1186', '1295', '1535', '905', '1447', '1165', '1328', '1485', '1475', '1175', '1245', '720', '985', '4000', '1395', '706 - 716', '630', '2400', '1170', '2500', '1100', '3560', '900', '1160', '1180', '1441', '1115', '1825', '1489', '2800', '1278', '1223', '1065', '1190', '1130', '1430', '1900', '1104', '1240', '1140', '1194', '1464', '3508', '1700', '2658', '1600', '3400', '1508', '645', '1046', '1200', '1500', '3000', '1079', '975', '1050', '1200', '1903', '2940Sq. Yards', '1200', '2996', '3400', '2000', '1453', '1092', '1400', '1416', '1602', '1100', '1760', '3800', '1037', '1384', '551', '2400', '500', '900', '1415', '1400', '1300', '2850', '1030', '883', '550', '1800', '10000', '1210', '2000', '1100', '1780', '950', '1050', '1370', '3951', '2500', '1050', '1843', '1200', '1186', '560', '2357', '1200', '1823', '1310', '1520', '1610', '1500', '1400', '1625', '1500', '900', '1100', '1000', '2774', '994', '1455', '1200', '1172', '1935', '1856', '2392', '900', '1757', '1027', '1626', '1200', '1559', '1190', '1200', '1174', '1140', '1603', '1278', '2180', '1085', '1195', '450', '6500', '550', '1165', '3000', '1452', '702', '1020', '1340', '1125', '1160', '1050', '1960', '1200', '1200', '3496', '975', '1700', '1800', '612', '1275', '650', '1495', '1200', '3750', '1679', '1450', '1210', '1300', '1165', '1623', '1115', '450', '1170', '2065', '1700', '1080', '1245', '1017', '650', '1242', '1792', '1275', '1200', '2400', '605', '1200', '1450', '1232', '1800', '900', '1200', '2100', '1065', '1075', '1508', '780', '1070', '1464', '1910', '1280', '1530', '2439', '1088', '1174', '1587', '1045', '1304', '1100', '1482', '2125', '1000', '1194', '1200', '1070', '1100', '1270', '1000', '1246', '1529', '1185', '1060', '1319', '991', '662', '1200', '1400', '1575', '600', '717', '1319', '2000', '600', '940', '600', '985', '500', '1349', '3117', '1844', '1830', '2275', '1791 - 4000', '1140', '900', '2648', '5400', '1372', '1455', '1100', '1295', '1475', '1788', '1243', '1855', '1850', '1315', '1216', '1721', '1059', '1184', '1400', '2223', '1480', '635', '2400', '1500', '1143', '3200', '3170', '4800', '1485', '1640', '1655', '900', '1600', '1163', '45.06Sq. Meter', '1654', '799 - 803', '2100', '1685', '1540', '1265', '1200', '1300', '1009', '1540', '1735', '2500', '497', '2480', '1142', '1215', '1070', '1125', '1125', '1575', '1360', '1710', '1200', '2185', '2400', '1195', '1246', '1012', '998', '2400', '1130', '1744', '2733', '1354', '3300', '1389', '2970', '2560', '1172', '500', '1495', '1738', '1315', '1270', '1160', '1450', '470', '1040', '1205', '1215', '1135', '1224', '664', '1160', '1200', '1220', '1328', '975', '1907', '900', '1330', '2330', '1222', '4446', '2100', '3335', '3150', '1320', '820', '8000', '2400', '1330', '2000', '1244', '1000', '1400', '1000', '1056', '1250', '2470 - 2790', '1225', '2790', '2800', '1683', '1250', '1305', '3009', '1150', '1654', '4500', '1890', '1069', '750', '675', '2400', '1200', '1410', '1680', '3500', '1700', '2200', '1595', '1480', '1092', '1866', '3895', '1683', '545', '1340', '1100', '2000', '1185', '1025', '1730', '1450', '1862', '4000', '2430', '783 - 943', '1170', '1075', '1060', '850', '935', '1905', '2000', '1125', '600', '1500', '1725', '1120', '1750', '2000', '1745', '750', '1270', '5384', '1180', '1130', '2774', '1723', '1175', '1607', '1334', '2800', '1138', '1113', '1300', '2400', '1200', '1900', '5150', '1200', '2956', '1100', '1398', '1152', '1200', '1110', '1116', '1061', '620', '1300', '1270', '966', '1200', '1320', '3596', '1630', '600', '600', '1202', '1200', '1300', '1200', '1360', '1155', '2378', '1011', '1203', '1645', '1364', '1200', '1050', '1365', '1252', '1221', '1065', '1270', '1032', '2900', '1515', '1427', '940', '800', '1460', '2275', '1522', '3210', '1185', '5425', '1800', '940', '1200', '1530', '1050', '929', '3750', '1530', '900', '978', '4041', '770', '1066', '635', '1015', '1175', '1200', '1188', '2400', '620', '1210', '1000', '1500', '1800', '1185', '1600', '1100', '1300', '1100', '860', '1007', '1100', '1187', '1150', '2400', '1180', '1820', '1200', '2400', '3628', '1430', '700', '1200', '1165', '1569', '1950', '1200', '2437', '950', '1685', '3270', '1314', '1250', '1130', '1200', '890', '857', '2247', '1550', '1715', '1053', '1200', '1800', '2400', '1245', '1320', '3940', '1241', '2980', '600', '1090', '1390', '600', '2750', '1100', '1350', '800', '1787', '2400', '3700', '1691', '2119', '2325', '570', '1896', '1540', '1244', '1365', '580', '1355', '1500', '1513', '1175', '2087', '2273', '2050', '1200', '1190', '600', '1019', '1830', '4278', '1028', '1300', '1160', '1505', '1250', '400', '1175', '1100', '2159', '1230', '1200', '3100', '4500 - 5540', '1200', '1340', '1750', '1400', '1350', '1675', '1340', '600', '1276', '1738', '1190', '1128', '1250', '1450', '1084', '2150', '6000', '600', '1250', '2400', '1304', '1640', '980', '1275', '10030', '2500', '3600', '2400', '2300', '1450', '890', '1340', '1100', '750', '700', '1300', '1301', '3200', '1900', '1299', '1250', '1600', '925', '3900', '1107', '1400', '1300', '570', '1715', '1200', '1200', '703', '921', '1144', '525', '1400', '661', '1200', '1200', '1705', '1035', '1430', '1240', '1325', '1230', '1000', '740', '1330', '3005', '1300', '1243', '936', '1500', '1200', '1073', '1300', '4201', '1065', '1216', '1252', '1196', '1027', '610', '1270', '1171', '1215', '600', '1180', '1160', '4382', '2140', '1500', '1008', '1921', '1127', '1621', '2400', '1030', '1314', '1220', '600', '1590', '703', '1795', '3000', '4395', '825', '4025', '1254', '2040', '2215', '1478', '2475', '1669', '1820', '1623', '1243', '1200', '1613', '1293', '1065', '940', '1181', '2215', '1100', '1050', '1260', '2800', '1500', '1200', '1000', '1530', '1140', '1864', '1575', '1200', '945', '1691', '1200', '1220', '600', '1160', '1950', '1650', '2400', '795', '800', '1400', '2285', '1243', '1263', '1200', '1345', '4400', '1360', '1026', '1050', '1460', '1525', '1843', '1000', '1642', '1200', '975', '1075', '1210', '2000', '1225', '1290', '1220', '1500', '1361', '2801.25', '1394', '870', '5000', '1222', '1420', '1846', '1688.12', '1167', '902', '2422', '1050', '1000', '1260', '3000', '939', '1590', '600', '1298', '1710', '1000', '3350', '1200', '1100', '615', '1350', '5000', '2700', '4000', '1718', '1680', '1500', '1157', '1179', '1255 - 1375', '1105', '1800', '1010', '630', '1200', '1025', '1195', '1012', '1884', '1090', '1300', '2950', '1710', '1500', '1310', '674', '1350', '1464', '715', '1400', '1625', '1065', '510', '1385', '1040', '1817', '1205', '1070', '1070', '1340', '980', '1006', '1098', '1200', '4190', '1019', '1150', '1733.5', '1415', '1750', '1537', '1050', '1452', '1246', '1890', '972', '10624', '1500', '630', '1050', '1255', '1900', '2440', '1938', '1711', '1200', '1392', '1225', '3418', '1750', '1260', '691', '2400', '1285', '1590', '1571', '2800', '1060', '1255', '702', '2400', '1520', '1430 - 1630', '1170', '1580', '1777.26', '1303', '1680', '1495', '1835', '610', '1080', '1025', '1225', '656', '994', '1025', '1156', '1250', '3092', '1930', '1020', '1310', '610 - 615', '1322', '1160', '1100', '1720', '1689', '1090', '2000', '1155', '4000', '3913', '3520', '1125', '1847', '1515', '3450', '2500', '1130', '1049', '2650', '850', '1842', '2600', '1282', '800', '1200', '1190', '1318', '1698', '2030', '1276', '1555', '1881', '2900', '1890', '900', '935', '1000', '1510', '1120', '930', '1160', '1419', '1175', '1350', '2215', '996', '1076', '2180', '1715', '1072', '1230', '1600', '1411', '3600', '2404', '1200', '1200', '1208', '1700', '1225', '1162', '1262', '1050', '1160', '1500', '1610', '1340', '2275', '1162', '1500', '3150', '1170', '980', '1800', '1423', '1106', '1105', '7500', '1255', '1525', '1061', '600', '1400', '2100', '660', '633', '1260', '854 - 960', '2047', '2597', '1211', '1904', '1205', '1164', '1410', '1150', '1170', '1420', '1125', '1789', '1021', '1074', '1222', '1981', '1103', '1201', '970', '920', '1520', '675', '1268', '660', '1755', '945', '500', '2650 - 2990', '1632', '1167', '1276', '1234', '1180', '1370', '1015', '1200', '1400', '1500', '1050', '1251', '1677', '1346', '1090', '1200', '1290', '7514', '1881', '1150', '1.25Acres', '2690', '1200', '86.72Sq. Meter', '2735', '950', '1491', '1050', '1660', '1134', '1100', '800', '1200', '1200', '980', '1080', '705', '1200', '1200', '1804', '750', '420', '2800', '1090', '1500', '1287', '2215', '2800', '1045', '1263', '1431', '999', '1650', '1535', '2524', '1300', '600', '2095', '284', '500', '1265', '1215', '2200', '1028', '1835', '1800', '2077', '2880', '499', '708', '1200', '925', '2826', '381 - 535', '3500', '5400', '1000', '1450', '1100', '1185', '1900', '1200', '660', '1920', '1200', '3418', '4550', '1205', '1200', '1421', '1250', '524', '4200', '1540', '984', '985', '2830', '1140', '3600', '1410', '1700', '1230 - 1490', '1800', '1333', '1258', '1458', '1386', '1140', '550', '1200', '1081', '2135', '2500', '1178', '991', '1493', '2495', '1080', '814', '1025', '1115', '3075', '1900', '1760', '4000', '3090', '2700', '1175', '4235', '1100', '1200', '1450', '1810', '1426', '2400', '1100', '650', '1350', '900', '1360', '674', '1655', '1300', '936', '1277', '1200', '1015', '1153', '1035', '3300', '1150', '1020', '3630 - 3800', '1160', '1075', '1225', '5000', '1600', '600', '1350', '1300', '830', '1155', '3126', '905', '1375', '1575', '1140', '1550', '957', '890', '3000', '1070', '2400', '2400', '925', '1415', '500', '1225', '2000', '840', '1560', '1732', '1200', '1260', '1092', '827', '1357', '650', '1370', '1725', '1000', '1350', '3200', '1717', '700', '800', '2367', '1415', '1976', '883', '700', '1445', '2082', '1140', '933', '800', '1155', '1130', '1200', '1055', '1555', '1420', '2214', '658', '896.9', '4000', '1035', '2064', '1839', '1200', '488', '1200', '2760', '993', '1225', '900', '1200', '825', '3596', '1350', '1800', '925', '1167', '1150', '650', '675', '2260', '660 - 780', '4800', '1100', '550', '1330', '1320', '1685', '2400', '1770', '2100', '1000', '600', '2916', '1419.59', '1400', '750', '1070', '1536', '1710', '2400', '1618 - 1929', '1342', '1600', '938', '1820', '2439', '1665', '1850', '1091', '1346', '1720', '3675', '1060', '1059', '1299', '1491', '1200', '2088', '581', '1296', '1125', '1275', '1095', '10000', '1330', '1135', '516', '1194', '2250', '770', '3930', '1355', '3000', '2569', '3758', '1116', '1707', '1200', '1070', '6000', '1240', '1300', '1700', '1383', '3000', '1200', '935', '2072', '2200', '615', '1116', '1639', '1839', '1300', '625', '933', '2289', '2316', '1005', '1080', '1200', '910', '1200', '1110', '1142', '4000', '1800', '1005', '1626.6', '1074', '1230', '660', '1007', '1050', '1820', '1100', '1348', '1230', '1176', '1590', '1200', '1298', '1161', '1350', '1200', '1285', '1644', '1819', '1205', '2350', '1050', '1270', '1240', '1221', '840', '1339', '4303', '1315', '1250', '850', '1600', '1250', '1312', '3000', '1300', '1990', '760', '5000', '1614', '1500', '1182', '1053', '750', '2000', '1940', '1590', '1035', '1075', '900', '1260', '1200', '1702', '1080', '1189', '1035', '1200', '4482', '1200', '1300', '1330', '1210', '1350', '1900', '1935', '1410', '1469', '986', '1460', '1260', '1345', '980', '1164', '929', '1065', '1150 - 1194', '3000', '1020', '1362', '672', '1746', '1025', '1532', '1200', '1250', '1188', '3565', '1170', '1800', '1000', '2600', '1200', '2507', '1061', '1290', '1200', '1120', '418', '1333', '1691', '684 - 810', '1700', '2030', '1012', '1245', '1765', '1110', '967', '1044', '1518', '1300', '1798', '866.28', '3410', '1179', '3600', '1125', '2098', '2400', '1976', '1190', '1800', '1761', '1700', '900', '1128', '2000', '1220', '509', '1852', '1045', '3535', '1102', '1800', '1436', '1397', '1140', '645', '2350', '1200', '2050', '1335', '2100', '1255', '1140', '2376', '663', '1276', '1450', '1400', '1339', '1220', '2200', '1305', '1740', '680', '1154', '1200', '1155', '1525', '600', '2470', '1100', '1250', '1400', '1600', '1060', '1272', '1296', '2100', '1945', '1033', '2300', '1235', '2100', '850', '1880', '2450', '1060', '2041', '1050', '1037', '1150', '1184', '1680', '1411', '900', '900', '3500', '1702', '1185', '1300', '1545', '1515', '1300', '1107', '1720', '1540', '1000', '710', '1100', '3200', '900', '1250', '2400', '1584.01', '875', '1200', '1485', '1100', '1245', '1880', '2214', '1050', '600', '1640', '1165', '1110', '1200', '4000', '4500', '600', '1300', '1200', '1200 - 1800', '1232', '1704', '1275', '1222', '1155', '1000', '1200', '1517', '1166', '870', '4000', '1350', '3019', '1345', '900', '3800', '971', '1255', '1810', '1300', '1185', '1350', '1510 - 1670', '3000', '1560', '1650', '1645', '1748', '1200', '1170', '3420', '1320', '1610', '1870', '1510', '2700', '1305', '1500', '1149', '1948', '1448', '1242', '1268', '1101', '1255', '1362', '984', '1089', '800', '1345', '3600', '1650', '950', '1068', '860', '3000', '1756', '1205', '1120', '1800', '8321', '1604', '2732', '1015', '1200', '1010', '1250', '1010', '1050', '1710', '1248.52', '410', '1656', '1451', '1200', '1250', '4395', '4600', '1340', '1100', '6000', '1700', '1200', '1096', '1160', '1936', '1269', '3500', '1586', '1376', '1452', '1538', '1427', '935', '1220', '1197', '674', '410', '1573', '1135', '1400', '1200', '1800', '2045', '1268', '883', '1600', '1056', '1200', '4500', '1204', '1410', '1460', '1100', '1310', '1600', '1250', '1665', '1345', '2000', '1416', '1145', '7200', '1231', '1664', '2000', '972', '4500', '1185', '1750', '3155', '1007', '1700', '1250', '1200', '994', '1150', '1220', '1441', '1157', '1300', '1400', '1370.07', '1200', '900', '418', '1200', '1200', '1062', '1120', '1012', '1500', '950', '675', '1430', '1195', '2640', '1075', '1550 - 1590', '782', '1011', '1450', '1129', '1126', '1200', '1180', '600', '940', '1933', '1082', '2400', '610', '1560', '1300', '3850', '1125', '2400', '777.4', '2500', '1798', '1864', '1115', '400', '1200', '992', '950', '1500', '1200', '1735', '1750', '1009', '1470', '1527', '985', '3300', '1277', '1100', '1820', '1530', '1886', '1200', '1880', '1255', '700', '1140', '1025', '3453', '1490', '1200', '1850', '1250', '2400', '3522', '1244', '623', '1025', '1034', '1191', '1719', '1035', '1500', '1470', '1140', '1752.12', '600', '600', '2990', '1660', '1275', '1365', '1200', '2546', '1392', '1245', '1200', '1162', '1476', '700', '3600', '943', '1150', '1113', '1615', '1279', '1256', '1805', '1350', '1525', '1357', '1645', '1777.26', '845', '900', '1210', '829', '1879', '1250', '1200', '1108', '1401', '1157', '1185', '1751', '1550', '1880', '1235 - 1410', '1175', '1407', '1000', '1518', '3600', '1027', '3730', '1145', '1260', '1500', '1737', '3484 - 3550', '1600', '1500', '1120', '1200', '1030', '2500', '1057', '2774', '1460', '1075', '1080', '3626', '5100', '1139.7', '1074', '1200', '2425', '1323', '1232', '900', '740', '1920', '38Guntha', '1550', '1588', '2300', '3600', '1308', '1340', '3280', '2170', '1719', '1107.83', '1200', '1090', '1500', '1660', '1247', '1595', '1175', '1200', '1184', '1100', '935', '1200', '2400', '1000', '1000', '1705', '1060', '2325', '1347', '1200', '1402', '2280', '1225', '1080', '4000', '1919', '1100', '2500', '1200', '1565', '1200', '1581', '2882', '1440', '2180', '7000', '985', '950', '1339', '1449', '1200', '1100', '929 - 1078', '2700', '1100', '1140', '3009', '3300', '800', '2000', '1200', '1300', '1220', '2289', '1170', '1350', '883', '1698', '2150 - 2225', '1060', '1185', '2051', '1404', '1252', '1885', '3381', '980', '2500', '1420', '1166', '2312', '3000', '1175', '1145', '970', '1125', '1520 - 1759', '5000', '2150', '1635', '3425', '2950', '1200', '1335', '4450', '1166', '2390', '1460', '1690', '1386', '1090', '1732', '1390', '1095', '416', '2400', '1350', '1453', '1226', '784', '1168', '1776', '1634', '860', '2800', '1650', '1190', '1133', '1559', '1448', '6652', '976', '1350', '1590', '2940', '1633', '1151', '1400', '1037', '1188', '1060', '2215', '1255', '2500', '1075', '2569', '900', '1183', '1100', '1643', '1500', '1291', '1150', '1060', '1575', '1200', '1700', '1236', '1350', '2475', '3800', '4694', '1200', '1200', '1225', '1056', '1240', '1200', '1850', '3150', '1200', '1018', '3520', '1185', '918', '1330', '1540', '1200', '927', '2580 - 2591', '1400', '1345', '1900', '1510', '302', '525', '1500', '629 - 1026', '1100', '1200', '1100', '2282', '760', '2172', '3800', '600', '3300', '1242', '410', '1245', '1088', '1200', '1995', '1309', '1717', '2100', '880', '1200', '1250', '3520', '1041', '1505', '1776', '1767', '1293', '1320', '1280', '1245', '1027', '1200', '1100', '1065', '1814', '1610', '850', '1600', '3200', '1250', '1243', '1452', '1475', '1353', '2100', '1750', '4800', '1270', '2700', '1200', '2695', '1330', '660', '1400', '4000', '1700', '1585', '1385', '1128', '60', '1200', '1203', '905', '1450', '1105', '1200', '1530', '1105', '1333', '1065', '1350', '1243', '1530', '1200', '1270', '1830', '900', '2400', '7000', '1450', '1525', '1080', '1220', '1200', '1215 - 1495', '2400', '1500', '1355', '1070', '1980', '842', '700', '2500', '1884', '1100', '1196', '1820', '1200', '1185', '2145', '1220', '1116', '1192', '1449', '2500', '1700', '1920', '1350', '4800', '1700', '1447', '1329', '1314', '1200', '1214', '1513', '6Acres', '1246', '705', '1220', '1800', '1400', '1245', '1495', '2000', '996', '1000', '1250', '975', '1261', '1080', '1230', '982', '1260', '1590', '1220', '1320', '1750', '1436', '1200', '1500', '1560', '3758', '1275', '1040', '2400', '1500', '3150', '1960', '3200', '1195', '1140 - 1250', '4500', '450', '4304', '648', '2100', '4209', '1027', '1575', '1365', '650', '1200', '1100', '1075', '1100', '1320', '1500', '1200', '1125', '1246', '1718', '1075', '1480', '500', '2400', '1200', '1041', '1128', '1685', '1180', '1200', '1250', '900', '1000', '600', '600', '1404', '1610', '1760', '975', '1190', '1110', '2415', '1235', '1275', '1115', '1197', '644', '1251', '1105', '1080', '2100', '1600', '1731', '1206', '1560', '750', '1035', '1200', '702', '1700', '1145', '1208', '1589', '560', '1426', '1885', '935', '1171', '1465', '1820', '1580', '1452', '1445', '1170', '1070', '1100', '1140', '2600', '1532', '1150', '1473', '1350', '4040', '1980', '1660', '2456', '650', '4000', '2475', '1495', '1080', '1521', '1053', '2406', '800', '1050', '1430', '2400', '1250', '1200', '840', '1000', '1630', '985', '1200', '1650', '1670', '1200', '1240', '1000', '830', '1200', '9600', '2400 - 2600', '1140', '1635', '1120', '2750', '1760', '2137', '973', '1724', '1020', '1200', '750', '883', '660', '2787', '1470', '891', '1275', '1787', '1730', '1320', '1692', '1400', '1115', '1370', '1602', '793', '675', '3250', '1050', '1035', '1200', '1800', '1625', '1032', '1496', '1100', '1500', '1125', '1555', '1025', '1482', '1630', '900', '1355', '2360', '1200', '1563', '1344', '3000', '812', '1200', '3175', '1360', '1835', '1756', '1296', '1300', '1141', '1270', '1210', '1310', '1356', '1052 - 1322', '1745', '1200', '1050', '2400', '1140', '1210', '2035', '633', '485', '1112', '1200', '2275', '1419', '1195', '2020', '1047', '1884', '1200', '905', '1500', '850', '1125', '1165', '933', '1305', '1125', '865', '1245', '8840', '1145', '2000', '625', '1724', '400', '1270', '1250', '1485', '823', '990', '1200', '1185', '1140', '1950', '1756', '2600', '520', '1025', '1216', '1026', '3335', '2700', '1411', '1320', '1320', '615', '1804', '1140', '1200', '2375', '1750', '960', '1152', '965', '1684', '1672', '1075', '1500', '1464', '1420', '750', '1169', '1290', '1160', '2800', '1500', '1850', '1300', '1310', '2750', '2150', '5100', '1300', '1875', '1260', '2500', '1241', '1025', '1500', '1070', '815', '2000', '1400', '1740', '5666 - 5669', '1216', '2200', '3500', '970', '3150', '1200', '1026', '450', '1205', '1368', '420', '1270', '614', '1050', '1408', '1223', '1507', '1160', '1200', '960', '1021', '2162.03', '1065', '400', '1465', '900', '1800', '1175', '6729', '1500', '1050', '1400', '1650', '1827', '1930', '883', '550', '1400', '1350', '1290', '1021', '1158', '1200', '1400', '2400', '1200', '1520', '620 - 934', '2710', '1150', '1101', '1200', '1252', '1650', '1270', '992', '2000', '893', '1075', '3200', '1190', '800', '1814', '1400', '1400', '1344', '5400', '1843', '1138', '1495', '880', '1396', '1610', '1050', '1410', '1050', '1310', '1104', '1165', '1027', '1310', '1052', '1464', '1000', '2240', '1150', '2019', '986', '1350', '800', '1893', '1318', '1325', '800', '1300', '1300', '1010', '1260', '2500', '1520', '1665', '1800', '1197', '1050', '910', '1241', '1567', '1747', '1475', '600', '1524', '980', '966', '2360', '1112', '550', '1760', '1830', '1175', '1175', '1025', '1232', '1010', '1273', '1590', '1100', '1252', '2615', '1200', '1322', '1000', '1755', '1135', '1200', '1200', '1260', '3250', '3500', '1200', '1100', '1305', '1236', '1125', '1075', '2000', '772', '2999.97', '1150', '1440', '1085', '1785', '2475', '1930', '600', '800', '2450', '1200', '1920', '1085', '760', '1201', '1615', '1289', '1991', '1377', '2880', '1892', '2176', '663', '1165', '3554', '1260', '1095', '1050', '1176', '1801', '1315', '1194', '2400', '1308', '4250', '1806', '3671', '2144', '1065', '1205', '1160', '750', '1194', '1200', '1681', '1130', '3633', '1843', '1065', '1885', '1500', '1210', '1126', '1357', '1451', '1600', '950', '960', '1625', '2200', '1607', '900', '1080', '2300', '1708', '2500', '1690', '2100', '1269', '1243', '1890', '1165', '1196', '1194', '1630', '1063', '1025', '1067', '1299', '1343', '1330', '1524', '2236', '2955', '1410', '1581', '1205', '1270', '1353', '1200', '1250', '1950.2', '1157', '712 - 938', '1000', '602', '3000', '1108', '1040', '1451', '1196', '850', '2171.66', '900', '720', '1573', '1026', '1400', '1400', '2100', '1150', '1500', '2400', '1200', '1790', '1125', '1783 - 1878', '1100', '120Sq. Yards', '1105', '1110', '708', '1027', '1600', '3122', '1205', '1450', '750', '540', '1200', '1200', '1837', '1346', '1012', '1950.2', '1125', '1500', '1197', '1230', '1100', '1563', '2240', '3729', '1600', '1715', '2400', '1151', '1200', '1123', '1276', '1315', '1270', '1325', '1600', '1660', '1299', '953', '1457', '1000', '1100', '1075', '1450', '5515', '950', '1200', '1013', '1140', '2100', '1430', '600', '1600', '1190', '1625', '1210', '1615', '1180', '1500', '850', '1130', '907', '1300', '1891', '1735', '1075', '24Sq. Meter', '2040', '1590', '1600', '1160', '930', '1010', '1221', '2400', '1108', '1000', '1370', '920', '1277', '1213', '1653', '2400', '3000', '1600', '1321', '1570', '1150', '1053', '1325', '1169', '1274', '1317', '1195', '2528 - 3188', '940', '1820', '1450', '1615', '2200', '985', '1116', '656', '1105', '1220', '1400', '2400', '850', '1000', '1660', '1330', '1165', '1153', '1270', '1070', '1427', '1420', '1600', '2031', '1454', '1116', '2000', '1346', '1062', '700', '1405', '1100', '2153', '1200', '2135', '1125', '1350', '1068', '940', '1063', '1382', '936', '1400', '475', '1200', '1450', '1162', '1161', '1623.29', '1260', '1672', '3000', '1500', '650 - 760', '1650', '2000', '1675', '1200', '1100', '1400', '2257', '1153', '1197', '1150', '595', '1837', '3750', '1830', '1715', '970', '1200', '2700', '5480', '2400', '3040', '1168', '1160', '1500', '600', '1200', '850', '935', '1200', '654', '1650', '5656', '1300', '950', '1250', '1072', '1425', '1165', '1390', '1510', '1305', '1200', '866', '1231', '1360', '2500', '1140', '525', '1295', '1020', '3504', '1200', '1100', '4723', '820', '3508', '3700', '1354', '2453', '1154', '1680', '1205', '1400', '1625', '1500', '1520', '1300', '1150', '1762', '1153', '2650', '1350', '950', '3295', '1515', '1100', '1250', '1200', '2500', '1200', '1355', '1115', '1275', '2051', '1470', '1550', '1270', '2119', '1600', '1320', '2505', '1410', '1200', '1705', '995', '1081', '1194', '605', '567', '1718', '1400 - 1421', '600', '1715', '3206', '1500', '1846', '600', '1015', '4350', '1100', '1965', '1021', '1230', '1260', '2400', '1894', '1500', '1950', '1231', '1236', '1800', '1650', '750', '1443', '886', '925', '1305', '1190', '1284', '350', '875', '1325', '2400', '1183', '1750', '16335', '747', '1342', '1113', '1738', '1206', '2790', '1162', '1194', '1857', '3500', '1763', '1150', '2400', '1290', '3408', '900', '1150', '1040', '1160', '900', '1750', '1320', '2240', '891', '1000', '1852', '1323', '1404', '1370', '1385', '1129', '1876', '1720', '1200', '1175', '500', '1200', '1200', '1893', '1430', '850', '1392', '1938', '1020', '2400', '1832', '1423', '1432', '1350', '1500', '1480', '1843', '760', '1916', '1255', '1160', '2640', '1160', '1200', '1100', '1500', '1336', '1065', '1294', '1550', '1216', '1005', '1430', '4100', '1660', '1430', '1470', '1045', '4000 - 4450', '950', '1382', '930', '1660', '1290', '1010', '3050', '1200', '1650', '1636', '2367', '1153', '2087.01', '1200', '1844', '142.84Sq. Meter', '1215', '1194', '1220', '3150', '525', '955', '2000', '884', '1250', '7000', '2400', '2990', '1195', '2559', '1200', '984', '1089', '1165', '410', '1482', '1200', '1938', '1166', '1275', '1140', '3734', '720', '1200', '1100', '1162', '540', '1550', '1300', '1200', '1220', '964', '1500', '1347', '5000', '3000', '1120', '600', '2321', '540', '1150', '1484', '1680', '620', '1650', '1250', '2072', '1105', '1200', '3100', '4007', '550', '1340', '2409', '1194', '1246', '1055', '1541', '1370', '1224', '650', '883', '1676', '1154', '1610', '1057', '1157', '1200', '1500', '980', '1140', '1206', '575', '1600', '2400', '1300', '1270', '1128', '640', '2400', '1200', '1090', '589', '1125', '1140', '3150', '1315', '300Sq. Yards', '1435', '1092', '1314', '1260', '1875', '1080', '4000', '1082', '1150', '1052', '1045', '1442', '1500', '497', '1255', '1432', '2100', '1450', '1346', '1200', '925', '1160', '1768', '1094', '1500', '1745', '2875', '3500', '1550', '2340', '1655', '2024', '3100', '1575', '1920', '6200', '1082', '1265', '1100', '1160', '1246', '615', '1128', '1260', '1830', '1525', '602', '3000', '1835', '1250', '1200', '1855', '1450', '2089', '1464', '4800', '1200', '1095', '2900', '2500', '1170', '1280', '1224', '1694', '825', '1612', '985', '1175', '600', '1740', '1770', '1000', '1090', '2295', '4144', '1800', '1221', '1046', '1290', '1065', '1850', '1097', '1200', '2160', '1140', '1297', '1150', '1375', '1245', '4750', '1800', '1594', '1200', '645', '700', '2500', '1000', '4000', '1160', '1200', '600', '1570', '1290', '1200', '2777.29', '2250', '1270', '1145', '1320', '1065', '1650', '1371', '2700', '1575', '1362', '3210', '1255', '925', '1088', '1234', '2140', '1584', '1175', '1555', '645', '1585', '1354', '1165', '1200', '1740', '1200', '985', '1200', '600', '1340', '1583', '1200', '1200', '1115 - 1130', '1573', '1227', '1210', '1650', '1000', '1485', '1735', '1730', '1684', '1686', '1654', '1600', '1100', '1655', '1830', '1430', '1989', '1044', '1426', '1115', '1000', '754', '1140', '900', '1200', '580', '1200', '1030', '1910', '1950', '1724', '1200', '1314', '1400', '1400', '1115', '1300', '2400', '1332', '1000', '1200', '2444', '1070', '1600', '1196', '1025', '1220', '2180', '1600', '1270', '3290', '1932.47', '2086', '1165', '1310', '1440', '1900', '740', '2503', '1075', '1260', '1282', '1100', '1717', '1088', '1335', '1200', '1325', '1157', '2204 - 2362', '1200', '1510', '1050', '1200', '1516', '2400', '1050', '1000', '1050', '600', '1194', '600', '1210', '1660', '1410', '1305', '1800', '1206', '883', '1150', '1100', '1245', '1850', '3385', '2150', '3895', '1035', '600', '1200', '1155', '1200', '755', '960', '450', '4000', '1571', '1691', '1489', '800', '980', '1215', '911', '1535', '1200', '1500', '1588', '675', '957', '1200', '1495', '845', '3000', '2206', '1181', '1309', '1400', '1650', '1622', '1225', '1719', '995', '1120', '1047', '1466', '1691', '876', '1659', '1270', '1269', '1200', '1153', '1315', '2485', '1354', '1344', '1180', '1313', '1100', '600', '1200', '625', '890', '1173', '1190', '1250', '1644', '1740', '1710', '1000', '1662', '1162', '1362', '540', '1437 - 1629', '900', '1250', '1410', '2665', '970', '1799', '1500', '1200', '1810', '1084', '1500', '1328', '1485', '1500', '1100', '1360', '900', '600', '1031', '850 - 1060', '1040', '2800', '1404', '1200', '1267', '1510', '900', '1457', '3596', '1408', '1005', '30400', '545', '1182', '1804 - 2273', '1367', '1200', '1100', '1565', '1720', '1107', '1360', '625', '1701', '1350', '1016', '1500', '900', '1500', '2292', '1280', '1750', '1500', '1500', '1245', '1025', '1945', '1640', '1348', '1100', '1616', '1855', '1255', '2040', '2400', '1195', '1022', '760', '1264', '1650', '1020', '4395', '950', '2710', '1936', '1075', '1223', '1500', '1050', '2100', '1200', '1650', '1495', '1500', '1605', '1270', '1081', '1600', '1596', '600', '1557', '1410', '1984', '1196', '2259', '1720', '600', '1256', '1243', '1310', '1140', '1600', '1790', '1200 - 1470', '1674', '1200', '1786', '770', '1035', '1564', '1334', '7150', '1365', '1115', '1020', '1369', '1240', '600', '1418', '2250', '500', '1020', '1290', '1500', '1290', '1881', '943', '1140', '1035', '1500', '5665.84', '1232', '1290', '2610', '1576', '980', '4000', '1346', '1181', '6652', '1307', '1215', '1180', '600', '1115', '1025', '1910', '1200', '2920', '1349', '1175', '1150', '935', '1404', '2700', '1203', '440', '1571', '1125', '610', '1198', '1200', '1200', '6688', '1830', '1432', '2300', '1331.95', '1876', '1639', '1200', '1665', '1140', '2093', '1450', '1330', '1200', '1800', '2872', '1486', '1425', '1255', '750', '1225', '1274', '4600', '1350', '1100', '1760', '1200', '1800', '1095', '1140', '1530', '1724', '1058', '1464', '1975', '1112', '1600', '1648', '1100', '509', '2265', '1200', '530', '1010', '1150', '1340', '1850', '907', '1688', '1160', '1600', '1800', '3596', '1464', '1295', '1012', '1000', '1010', '1379', '1121', '1200', '3124', '1246', '1420', '600', '1090', '1355', '1425', '4000', '1700', '2099', '1330', '1520', '1490', '1000', '1291', '1339', '1330', '9200', '1200', '1650', '8000', '1125', '1310', '1096', '814', '3500', '1140', '1480', '4000', '1500', '1850', '745', '613', '1200', '1470', '896', '250', '1200', '1160', '1590', '520', '1178', '1360', '1155', '520', '1615', '6000', '1140', '1508', '2395', '1590', '2215', '1667', '1903', '1530', '1730', '1048', '1225', '1200', '1175', '1020 - 1130', '1651', '1500', '1783', '1015', '1800', '2758', '1200', '1132', '1200', '1490', '1917', '1703', '1211', '1310', '1146', '1041', '1453', '877', '1477', '1420', '2000', '1140', '1380', '1095', '1133 - 1384', '1665', '1245', '3360', '2010', '1226', '1075', '1226', '510', '1153', '1600', '1000', '1400', '1256', '1200', '1425', '1375', '1919', '2111', '970', '1353', '1405', '1285', '1050', '1349', '4050', '812', '1440', '2425', '2200', '1810', '1200', '1060', '1015', '2830 - 2882', '1500', '1454', '1075', '774', '1187', '500', '1200', '1805', '1527', '1675', '1050', '1500', '1262', '1345', '1715', '3453', '3600', '1141', '4689', '550']\n"
     ]
    }
   ],
   "source": [
    "string = []\n",
    "for i in range(len(x)):\n",
    "    for j in range(len(x.columns)):\n",
    "        if type(x.iloc[i, j]) == str:\n",
    "            string.append(x.iloc[i, j])\n",
    "\n",
    "print(string)\n"
   ]
  },
  {
   "cell_type": "code",
   "execution_count": 36,
   "metadata": {
    "colab": {
     "base_uri": "https://localhost:8080/"
    },
    "id": "SyfJai-tS2gX",
    "outputId": "f2c3bc4a-75e4-4029-c167-18526a91a772"
   },
   "outputs": [
    {
     "name": "stdout",
     "output_type": "stream",
     "text": [
      "total_sqft     object\n",
      "price         float64\n",
      "dtype: object\n"
     ]
    }
   ],
   "source": [
    "print(x.dtypes)"
   ]
  },
  {
   "cell_type": "code",
   "execution_count": 37,
   "metadata": {
    "colab": {
     "base_uri": "https://localhost:8080/"
    },
    "id": "2U-HUvo1TA1r",
    "outputId": "28711cc8-bb2c-464f-d776-7f65c338751e"
   },
   "outputs": [
    {
     "name": "stderr",
     "output_type": "stream",
     "text": [
      "C:\\Users\\dell\\AppData\\Local\\Temp\\ipykernel_11920\\3074185749.py:1: SettingWithCopyWarning: \n",
      "A value is trying to be set on a copy of a slice from a DataFrame.\n",
      "Try using .loc[row_indexer,col_indexer] = value instead\n",
      "\n",
      "See the caveats in the documentation: https://pandas.pydata.org/pandas-docs/stable/user_guide/indexing.html#returning-a-view-versus-a-copy\n",
      "  x['total_sqft'] = pd.to_numeric(x['total_sqft'],errors = 'coerce')\n"
     ]
    }
   ],
   "source": [
    "x['total_sqft'] = pd.to_numeric(x['total_sqft'],errors = 'coerce')"
   ]
  },
  {
   "cell_type": "code",
   "execution_count": 38,
   "metadata": {
    "colab": {
     "base_uri": "https://localhost:8080/"
    },
    "id": "D15oQ1j9U3Ta",
    "outputId": "e7364d3d-aeec-4a7a-c064-f2252dee1667"
   },
   "outputs": [
    {
     "data": {
      "text/plain": [
       "total_sqft    float64\n",
       "price         float64\n",
       "dtype: object"
      ]
     },
     "execution_count": 38,
     "metadata": {},
     "output_type": "execute_result"
    }
   ],
   "source": [
    "x.dtypes"
   ]
  },
  {
   "cell_type": "code",
   "execution_count": 39,
   "metadata": {
    "id": "hl6_iB3wU7rq"
   },
   "outputs": [],
   "source": [
    "newx = minmax.fit_transform(x)"
   ]
  },
  {
   "cell_type": "code",
   "execution_count": 40,
   "metadata": {
    "id": "69-T0iWeVMAP"
   },
   "outputs": [],
   "source": [
    "x = pd.DataFrame(newx,columns=['total_sqft','price'])"
   ]
  },
  {
   "cell_type": "code",
   "execution_count": 41,
   "metadata": {
    "id": "j5uomaigVW6K"
   },
   "outputs": [],
   "source": [
    "df = pd.concat([y,x],axis=1)"
   ]
  },
  {
   "cell_type": "code",
   "execution_count": 42,
   "metadata": {
    "colab": {
     "base_uri": "https://localhost:8080/",
     "height": 206
    },
    "id": "bgkNfiFHVbFn",
    "outputId": "62de1290-8f6f-4277-b4e3-d7ef631a3eb1"
   },
   "outputs": [
    {
     "data": {
      "text/html": [
       "<div>\n",
       "<style scoped>\n",
       "    .dataframe tbody tr th:only-of-type {\n",
       "        vertical-align: middle;\n",
       "    }\n",
       "\n",
       "    .dataframe tbody tr th {\n",
       "        vertical-align: top;\n",
       "    }\n",
       "\n",
       "    .dataframe thead th {\n",
       "        text-align: right;\n",
       "    }\n",
       "</style>\n",
       "<table border=\"1\" class=\"dataframe\">\n",
       "  <thead>\n",
       "    <tr style=\"text-align: right;\">\n",
       "      <th></th>\n",
       "      <th>area_type</th>\n",
       "      <th>size</th>\n",
       "      <th>bath</th>\n",
       "      <th>balcony</th>\n",
       "      <th>total_sqft</th>\n",
       "      <th>price</th>\n",
       "    </tr>\n",
       "  </thead>\n",
       "  <tbody>\n",
       "    <tr>\n",
       "      <th>0</th>\n",
       "      <td>3</td>\n",
       "      <td>13</td>\n",
       "      <td>2.0</td>\n",
       "      <td>1.0</td>\n",
       "      <td>0.020183</td>\n",
       "      <td>0.008650</td>\n",
       "    </tr>\n",
       "    <tr>\n",
       "      <th>1</th>\n",
       "      <td>2</td>\n",
       "      <td>19</td>\n",
       "      <td>5.0</td>\n",
       "      <td>3.0</td>\n",
       "      <td>0.049722</td>\n",
       "      <td>0.031180</td>\n",
       "    </tr>\n",
       "    <tr>\n",
       "      <th>2</th>\n",
       "      <td>0</td>\n",
       "      <td>16</td>\n",
       "      <td>2.0</td>\n",
       "      <td>3.0</td>\n",
       "      <td>0.027530</td>\n",
       "      <td>0.015033</td>\n",
       "    </tr>\n",
       "    <tr>\n",
       "      <th>3</th>\n",
       "      <td>3</td>\n",
       "      <td>16</td>\n",
       "      <td>3.0</td>\n",
       "      <td>1.0</td>\n",
       "      <td>0.029079</td>\n",
       "      <td>0.024220</td>\n",
       "    </tr>\n",
       "    <tr>\n",
       "      <th>4</th>\n",
       "      <td>3</td>\n",
       "      <td>13</td>\n",
       "      <td>2.0</td>\n",
       "      <td>1.0</td>\n",
       "      <td>0.022938</td>\n",
       "      <td>0.011971</td>\n",
       "    </tr>\n",
       "  </tbody>\n",
       "</table>\n",
       "</div>"
      ],
      "text/plain": [
       "   area_type  size  bath  balcony  total_sqft     price\n",
       "0          3    13   2.0      1.0    0.020183  0.008650\n",
       "1          2    19   5.0      3.0    0.049722  0.031180\n",
       "2          0    16   2.0      3.0    0.027530  0.015033\n",
       "3          3    16   3.0      1.0    0.029079  0.024220\n",
       "4          3    13   2.0      1.0    0.022938  0.011971"
      ]
     },
     "execution_count": 42,
     "metadata": {},
     "output_type": "execute_result"
    }
   ],
   "source": [
    "df.head()"
   ]
  },
  {
   "cell_type": "code",
   "execution_count": 43,
   "metadata": {},
   "outputs": [
    {
     "data": {
      "text/plain": [
       "area_type       0\n",
       "size            0\n",
       "bath            0\n",
       "balcony         0\n",
       "total_sqft    247\n",
       "price           0\n",
       "dtype: int64"
      ]
     },
     "execution_count": 43,
     "metadata": {},
     "output_type": "execute_result"
    }
   ],
   "source": [
    "df.isna().sum()"
   ]
  },
  {
   "cell_type": "code",
   "execution_count": 44,
   "metadata": {},
   "outputs": [
    {
     "data": {
      "text/plain": [
       "(array([1.2957e+04, 9.5000e+01, 1.2000e+01, 2.0000e+00, 1.0000e+00,\n",
       "        2.0000e+00, 2.0000e+00, 0.0000e+00, 1.0000e+00, 1.0000e+00]),\n",
       " array([0. , 0.1, 0.2, 0.3, 0.4, 0.5, 0.6, 0.7, 0.8, 0.9, 1. ]),\n",
       " <BarContainer object of 10 artists>)"
      ]
     },
     "execution_count": 44,
     "metadata": {},
     "output_type": "execute_result"
    },
    {
     "data": {
      "image/png": "[encoded data removed]",
      "text/plain": [
       "<Figure size 640x480 with 1 Axes>"
      ]
     },
     "metadata": {},
     "output_type": "display_data"
    }
   ],
   "source": [
    "plt.hist(df['total_sqft'],color='m')"
   ]
  },
  {
   "cell_type": "code",
   "execution_count": 45,
   "metadata": {},
   "outputs": [],
   "source": [
    "df['total_sqft'] = df['total_sqft'].fillna(df['total_sqft'].median())"
   ]
  },
  {
   "cell_type": "code",
   "execution_count": 46,
   "metadata": {},
   "outputs": [
    {
     "data": {
      "text/plain": [
       "area_type     0\n",
       "size          0\n",
       "bath          0\n",
       "balcony       0\n",
       "total_sqft    0\n",
       "price         0\n",
       "dtype: int64"
      ]
     },
     "execution_count": 46,
     "metadata": {},
     "output_type": "execute_result"
    }
   ],
   "source": [
    "df.isna().sum()"
   ]
  },
  {
   "cell_type": "markdown",
   "metadata": {
    "id": "kEz-4DCcVhGk"
   },
   "source": [
    "# MACHINE LEARNING"
   ]
  },
  {
   "cell_type": "code",
   "execution_count": 47,
   "metadata": {
    "colab": {
     "base_uri": "https://localhost:8080/",
     "height": 206
    },
    "id": "swl8vHg1Vcu-",
    "outputId": "0abdf1f6-8871-464c-b25c-2e45787c7793"
   },
   "outputs": [
    {
     "data": {
      "text/html": [
       "<div>\n",
       "<style scoped>\n",
       "    .dataframe tbody tr th:only-of-type {\n",
       "        vertical-align: middle;\n",
       "    }\n",
       "\n",
       "    .dataframe tbody tr th {\n",
       "        vertical-align: top;\n",
       "    }\n",
       "\n",
       "    .dataframe thead th {\n",
       "        text-align: right;\n",
       "    }\n",
       "</style>\n",
       "<table border=\"1\" class=\"dataframe\">\n",
       "  <thead>\n",
       "    <tr style=\"text-align: right;\">\n",
       "      <th></th>\n",
       "      <th>area_type</th>\n",
       "      <th>size</th>\n",
       "      <th>bath</th>\n",
       "      <th>balcony</th>\n",
       "      <th>total_sqft</th>\n",
       "      <th>price</th>\n",
       "    </tr>\n",
       "  </thead>\n",
       "  <tbody>\n",
       "    <tr>\n",
       "      <th>0</th>\n",
       "      <td>3</td>\n",
       "      <td>13</td>\n",
       "      <td>2.0</td>\n",
       "      <td>1.0</td>\n",
       "      <td>0.020183</td>\n",
       "      <td>0.008650</td>\n",
       "    </tr>\n",
       "    <tr>\n",
       "      <th>1</th>\n",
       "      <td>2</td>\n",
       "      <td>19</td>\n",
       "      <td>5.0</td>\n",
       "      <td>3.0</td>\n",
       "      <td>0.049722</td>\n",
       "      <td>0.031180</td>\n",
       "    </tr>\n",
       "    <tr>\n",
       "      <th>2</th>\n",
       "      <td>0</td>\n",
       "      <td>16</td>\n",
       "      <td>2.0</td>\n",
       "      <td>3.0</td>\n",
       "      <td>0.027530</td>\n",
       "      <td>0.015033</td>\n",
       "    </tr>\n",
       "    <tr>\n",
       "      <th>3</th>\n",
       "      <td>3</td>\n",
       "      <td>16</td>\n",
       "      <td>3.0</td>\n",
       "      <td>1.0</td>\n",
       "      <td>0.029079</td>\n",
       "      <td>0.024220</td>\n",
       "    </tr>\n",
       "    <tr>\n",
       "      <th>4</th>\n",
       "      <td>3</td>\n",
       "      <td>13</td>\n",
       "      <td>2.0</td>\n",
       "      <td>1.0</td>\n",
       "      <td>0.022938</td>\n",
       "      <td>0.011971</td>\n",
       "    </tr>\n",
       "  </tbody>\n",
       "</table>\n",
       "</div>"
      ],
      "text/plain": [
       "   area_type  size  bath  balcony  total_sqft     price\n",
       "0          3    13   2.0      1.0    0.020183  0.008650\n",
       "1          2    19   5.0      3.0    0.049722  0.031180\n",
       "2          0    16   2.0      3.0    0.027530  0.015033\n",
       "3          3    16   3.0      1.0    0.029079  0.024220\n",
       "4          3    13   2.0      1.0    0.022938  0.011971"
      ]
     },
     "execution_count": 47,
     "metadata": {},
     "output_type": "execute_result"
    }
   ],
   "source": [
    "df.head()"
   ]
  },
  {
   "cell_type": "code",
   "execution_count": 48,
   "metadata": {
    "id": "e7pX126yVr8e"
   },
   "outputs": [],
   "source": [
    "x = df.drop('price',axis=1)\n",
    "x1 = pd.DataFrame(x)\n",
    "y = df['price']\n",
    "y1 = pd.DataFrame(y)"
   ]
  },
  {
   "cell_type": "code",
   "execution_count": 49,
   "metadata": {
    "colab": {
     "base_uri": "https://localhost:8080/",
     "height": 359
    },
    "id": "hUTeHFOKV_jN",
    "outputId": "b5fe5f22-d53c-47d2-f135-b4e0e693d212"
   },
   "outputs": [],
   "source": [
    "from sklearn.model_selection import train_test_split\n",
    "x1_train,x1_test,y1_train,y1_test = train_test_split(x1,y1,test_size=0.25,random_state=42)"
   ]
  },
  {
   "cell_type": "code",
   "execution_count": 50,
   "metadata": {
    "id": "L2Kj-aXxWTTd"
   },
   "outputs": [],
   "source": [
    "from sklearn.metrics import mean_squared_error,r2_score"
   ]
  },
  {
   "cell_type": "code",
   "execution_count": 51,
   "metadata": {},
   "outputs": [
    {
     "data": {
      "text/html": [
       "<div>\n",
       "<style scoped>\n",
       "    .dataframe tbody tr th:only-of-type {\n",
       "        vertical-align: middle;\n",
       "    }\n",
       "\n",
       "    .dataframe tbody tr th {\n",
       "        vertical-align: top;\n",
       "    }\n",
       "\n",
       "    .dataframe thead th {\n",
       "        text-align: right;\n",
       "    }\n",
       "</style>\n",
       "<table border=\"1\" class=\"dataframe\">\n",
       "  <thead>\n",
       "    <tr style=\"text-align: right;\">\n",
       "      <th></th>\n",
       "      <th>area_type</th>\n",
       "      <th>size</th>\n",
       "      <th>bath</th>\n",
       "      <th>balcony</th>\n",
       "      <th>total_sqft</th>\n",
       "    </tr>\n",
       "  </thead>\n",
       "  <tbody>\n",
       "    <tr>\n",
       "      <th>0</th>\n",
       "      <td>3</td>\n",
       "      <td>13</td>\n",
       "      <td>2.0</td>\n",
       "      <td>1.0</td>\n",
       "      <td>0.020183</td>\n",
       "    </tr>\n",
       "    <tr>\n",
       "      <th>1</th>\n",
       "      <td>2</td>\n",
       "      <td>19</td>\n",
       "      <td>5.0</td>\n",
       "      <td>3.0</td>\n",
       "      <td>0.049722</td>\n",
       "    </tr>\n",
       "    <tr>\n",
       "      <th>2</th>\n",
       "      <td>0</td>\n",
       "      <td>16</td>\n",
       "      <td>2.0</td>\n",
       "      <td>3.0</td>\n",
       "      <td>0.027530</td>\n",
       "    </tr>\n",
       "    <tr>\n",
       "      <th>3</th>\n",
       "      <td>3</td>\n",
       "      <td>16</td>\n",
       "      <td>3.0</td>\n",
       "      <td>1.0</td>\n",
       "      <td>0.029079</td>\n",
       "    </tr>\n",
       "    <tr>\n",
       "      <th>4</th>\n",
       "      <td>3</td>\n",
       "      <td>13</td>\n",
       "      <td>2.0</td>\n",
       "      <td>1.0</td>\n",
       "      <td>0.022938</td>\n",
       "    </tr>\n",
       "  </tbody>\n",
       "</table>\n",
       "</div>"
      ],
      "text/plain": [
       "   area_type  size  bath  balcony  total_sqft\n",
       "0          3    13   2.0      1.0    0.020183\n",
       "1          2    19   5.0      3.0    0.049722\n",
       "2          0    16   2.0      3.0    0.027530\n",
       "3          3    16   3.0      1.0    0.029079\n",
       "4          3    13   2.0      1.0    0.022938"
      ]
     },
     "execution_count": 51,
     "metadata": {},
     "output_type": "execute_result"
    }
   ],
   "source": [
    "x1.head()"
   ]
  },
  {
   "cell_type": "code",
   "execution_count": 52,
   "metadata": {},
   "outputs": [
    {
     "data": {
      "text/html": [
       "<div>\n",
       "<style scoped>\n",
       "    .dataframe tbody tr th:only-of-type {\n",
       "        vertical-align: middle;\n",
       "    }\n",
       "\n",
       "    .dataframe tbody tr th {\n",
       "        vertical-align: top;\n",
       "    }\n",
       "\n",
       "    .dataframe thead th {\n",
       "        text-align: right;\n",
       "    }\n",
       "</style>\n",
       "<table border=\"1\" class=\"dataframe\">\n",
       "  <thead>\n",
       "    <tr style=\"text-align: right;\">\n",
       "      <th></th>\n",
       "      <th>price</th>\n",
       "    </tr>\n",
       "  </thead>\n",
       "  <tbody>\n",
       "    <tr>\n",
       "      <th>0</th>\n",
       "      <td>0.008650</td>\n",
       "    </tr>\n",
       "    <tr>\n",
       "      <th>1</th>\n",
       "      <td>0.031180</td>\n",
       "    </tr>\n",
       "    <tr>\n",
       "      <th>2</th>\n",
       "      <td>0.015033</td>\n",
       "    </tr>\n",
       "    <tr>\n",
       "      <th>3</th>\n",
       "      <td>0.024220</td>\n",
       "    </tr>\n",
       "    <tr>\n",
       "      <th>4</th>\n",
       "      <td>0.011971</td>\n",
       "    </tr>\n",
       "  </tbody>\n",
       "</table>\n",
       "</div>"
      ],
      "text/plain": [
       "      price\n",
       "0  0.008650\n",
       "1  0.031180\n",
       "2  0.015033\n",
       "3  0.024220\n",
       "4  0.011971"
      ]
     },
     "execution_count": 52,
     "metadata": {},
     "output_type": "execute_result"
    }
   ],
   "source": [
    "y1.head()"
   ]
  },
  {
   "cell_type": "markdown",
   "metadata": {},
   "source": [
    "# linear regression"
   ]
  },
  {
   "cell_type": "code",
   "execution_count": 53,
   "metadata": {},
   "outputs": [],
   "source": [
    "from sklearn.linear_model import LinearRegression\n",
    "lr = LinearRegression()"
   ]
  },
  {
   "cell_type": "code",
   "execution_count": 54,
   "metadata": {},
   "outputs": [],
   "source": [
    "model1 = lr.fit(x1_train,y1_train)\n",
    "y1_predlr = model1.predict(x1_test)"
   ]
  },
  {
   "cell_type": "code",
   "execution_count": 55,
   "metadata": {},
   "outputs": [
    {
     "name": "stdout",
     "output_type": "stream",
     "text": [
      "the mse of linear regression is: 0.0007965953553949873\n",
      "the r2_score of linear regression is: 0.47476543508507296\n"
     ]
    }
   ],
   "source": [
    "print(\"the mse of linear regression is:\", mean_squared_error(y1_test,y1_predlr))\n",
    "print(\"the r2_score of linear regression is:\", r2_score(y1_test,y1_predlr))"
   ]
  },
  {
   "cell_type": "code",
   "execution_count": 56,
   "metadata": {},
   "outputs": [
    {
     "name": "stdout",
     "output_type": "stream",
     "text": [
      "[[0.01590439]]\n",
      "[[0.06605843]]\n"
     ]
    },
    {
     "name": "stderr",
     "output_type": "stream",
     "text": [
      "c:\\Users\\dell\\anaconda3\\Lib\\site-packages\\sklearn\\base.py:464: UserWarning: X does not have valid feature names, but LinearRegression was fitted with feature names\n",
      "  warnings.warn(\n",
      "c:\\Users\\dell\\anaconda3\\Lib\\site-packages\\sklearn\\base.py:464: UserWarning: X does not have valid feature names, but LinearRegression was fitted with feature names\n",
      "  warnings.warn(\n"
     ]
    }
   ],
   "source": [
    "print(model1.predict([[3,\t13,\t2.0,\t1.0,\t0.020183]]))\n",
    "print(model1.predict([[2,\t19,\t5.0,\t3.0,\t0.049722]]))"
   ]
  },
  {
   "cell_type": "markdown",
   "metadata": {},
   "source": [
    "# KNNEIGHBORS"
   ]
  },
  {
   "cell_type": "code",
   "execution_count": 57,
   "metadata": {},
   "outputs": [],
   "source": [
    "from sklearn.neighbors import KNeighborsRegressor\n",
    "\n",
    "\n",
    "metric_k = []\n",
    "neighbors = np.arange(3,14)\n",
    "\n",
    "for k in neighbors:\n",
    "    knn = KNeighborsRegressor(n_neighbors=k)\n",
    "    model2= knn.fit(x1_train,y1_train)\n",
    "    y1_predknn = model2.predict(x1_test)\n",
    "    r2 = r2_score(y1_test,y1_predknn)\n",
    "    metric_k.append(r2)\n"
   ]
  },
  {
   "cell_type": "code",
   "execution_count": 58,
   "metadata": {},
   "outputs": [
    {
     "data": {
      "text/plain": [
       "[<matplotlib.lines.Line2D at 0x13b1eb296d0>]"
      ]
     },
     "execution_count": 58,
     "metadata": {},
     "output_type": "execute_result"
    },
    {
     "data": {
      "image/png": "[encoded data removed]",
      "text/plain": [
       "<Figure size 640x480 with 1 Axes>"
      ]
     },
     "metadata": {},
     "output_type": "display_data"
    }
   ],
   "source": [
    "plt.plot(neighbors,metric_k,'o-')"
   ]
  },
  {
   "cell_type": "code",
   "execution_count": 59,
   "metadata": {},
   "outputs": [],
   "source": [
    "# 7 have the highest r2score so taking 7 as k\n",
    "\n",
    "knn = KNeighborsRegressor(n_neighbors=7)\n",
    "model2= knn.fit(x1_train,y1_train)\n",
    "y1_predknn = model2.predict(x1_test)"
   ]
  },
  {
   "cell_type": "code",
   "execution_count": 60,
   "metadata": {},
   "outputs": [
    {
     "name": "stdout",
     "output_type": "stream",
     "text": [
      "the mse of knn model is: 0.0008486992330046421\n",
      "the r2_score of knn model is: 0.44041078149420687\n"
     ]
    }
   ],
   "source": [
    "print(\"the mse of knn model is:\", mean_squared_error(y1_test,y1_predknn))\n",
    "print(\"the r2_score of knn model is:\", r2_score(y1_test,y1_predknn))"
   ]
  },
  {
   "cell_type": "code",
   "execution_count": 61,
   "metadata": {},
   "outputs": [
    {
     "name": "stdout",
     "output_type": "stream",
     "text": [
      "[[0.01438554]]\n",
      "[[0.07309895]]\n"
     ]
    },
    {
     "name": "stderr",
     "output_type": "stream",
     "text": [
      "c:\\Users\\dell\\anaconda3\\Lib\\site-packages\\sklearn\\base.py:464: UserWarning: X does not have valid feature names, but KNeighborsRegressor was fitted with feature names\n",
      "  warnings.warn(\n",
      "c:\\Users\\dell\\anaconda3\\Lib\\site-packages\\sklearn\\base.py:464: UserWarning: X does not have valid feature names, but KNeighborsRegressor was fitted with feature names\n",
      "  warnings.warn(\n"
     ]
    }
   ],
   "source": [
    "print(model2.predict([[3,\t13,\t2.0,\t1.0,\t0.020183]]))\n",
    "print(model2.predict([[2,\t19,\t5.0,\t3.0,\t0.049722]]))"
   ]
  },
  {
   "cell_type": "markdown",
   "metadata": {},
   "source": [
    "# SVM"
   ]
  },
  {
   "cell_type": "code",
   "execution_count": 62,
   "metadata": {},
   "outputs": [
    {
     "name": "stderr",
     "output_type": "stream",
     "text": [
      "c:\\Users\\dell\\anaconda3\\Lib\\site-packages\\sklearn\\utils\\validation.py:1184: DataConversionWarning: A column-vector y was passed when a 1d array was expected. Please change the shape of y to (n_samples, ), for example using ravel().\n",
      "  y = column_or_1d(y, warn=True)\n"
     ]
    }
   ],
   "source": [
    "from sklearn.svm import SVR\n",
    "svm = SVR(kernel='rbf')\n",
    "model3 = svm.fit(x1_train,y1_train)\n",
    "y1_predsvm = model3.predict(x1_test)"
   ]
  },
  {
   "cell_type": "code",
   "execution_count": 63,
   "metadata": {},
   "outputs": [
    {
     "name": "stdout",
     "output_type": "stream",
     "text": [
      "the mse of svm model is: 0.006294557565860816\n",
      "the r2_score of svm model is: -3.150311926935034\n"
     ]
    }
   ],
   "source": [
    "print(\"the mse of svm model is:\", mean_squared_error(y1_test,y1_predsvm))\n",
    "print(\"the r2_score of svm model is:\", r2_score(y1_test,y1_predsvm))"
   ]
  },
  {
   "cell_type": "code",
   "execution_count": 64,
   "metadata": {},
   "outputs": [
    {
     "name": "stdout",
     "output_type": "stream",
     "text": [
      "[0.08924742]\n",
      "[0.124738]\n"
     ]
    },
    {
     "name": "stderr",
     "output_type": "stream",
     "text": [
      "c:\\Users\\dell\\anaconda3\\Lib\\site-packages\\sklearn\\base.py:464: UserWarning: X does not have valid feature names, but SVR was fitted with feature names\n",
      "  warnings.warn(\n",
      "c:\\Users\\dell\\anaconda3\\Lib\\site-packages\\sklearn\\base.py:464: UserWarning: X does not have valid feature names, but SVR was fitted with feature names\n",
      "  warnings.warn(\n"
     ]
    }
   ],
   "source": [
    "print(model3.predict([[3,\t13,\t2.0,\t1.0,\t0.020183]]))\n",
    "print(model3.predict([[2,\t19,\t5.0,\t3.0,\t0.049722]]))"
   ]
  },
  {
   "cell_type": "markdown",
   "metadata": {},
   "source": [
    "# DECISION TREE"
   ]
  },
  {
   "cell_type": "code",
   "execution_count": 66,
   "metadata": {},
   "outputs": [],
   "source": [
    "from sklearn.tree import DecisionTreeRegressor\n",
    "DTR = DecisionTreeRegressor()\n",
    "model4 = DTR.fit(x1_train,y1_train)\n",
    "y1_predDT = model4.predict(x1_test)"
   ]
  },
  {
   "cell_type": "code",
   "execution_count": 67,
   "metadata": {},
   "outputs": [
    {
     "name": "stdout",
     "output_type": "stream",
     "text": [
      "the mse of decisiontree model is: 0.001015842242601371\n",
      "the r2_score of decisiontree model is: 0.33020516037232683\n"
     ]
    }
   ],
   "source": [
    "print(\"the mse of decisiontree model is:\", mean_squared_error(y1_test,y1_predDT))\n",
    "print(\"the r2_score of decisiontree model is:\", r2_score(y1_test,y1_predDT))"
   ]
  },
  {
   "cell_type": "code",
   "execution_count": 68,
   "metadata": {},
   "outputs": [
    {
     "name": "stdout",
     "output_type": "stream",
     "text": [
      "[0.01698218]\n",
      "[0.0311804]\n"
     ]
    },
    {
     "name": "stderr",
     "output_type": "stream",
     "text": [
      "c:\\Users\\dell\\anaconda3\\Lib\\site-packages\\sklearn\\base.py:464: UserWarning: X does not have valid feature names, but DecisionTreeRegressor was fitted with feature names\n",
      "  warnings.warn(\n",
      "c:\\Users\\dell\\anaconda3\\Lib\\site-packages\\sklearn\\base.py:464: UserWarning: X does not have valid feature names, but DecisionTreeRegressor was fitted with feature names\n",
      "  warnings.warn(\n"
     ]
    }
   ],
   "source": [
    "print(model4.predict([[3,\t13,\t2.0,\t1.0,\t0.020183]]))\n",
    "print(model4.predict([[2,\t19,\t5.0,\t3.0,\t0.049722]]))"
   ]
  },
  {
   "cell_type": "markdown",
   "metadata": {},
   "source": [
    "# RANDOM FOREST"
   ]
  },
  {
   "cell_type": "code",
   "execution_count": 69,
   "metadata": {},
   "outputs": [
    {
     "name": "stderr",
     "output_type": "stream",
     "text": [
      "c:\\Users\\dell\\anaconda3\\Lib\\site-packages\\sklearn\\base.py:1151: DataConversionWarning: A column-vector y was passed when a 1d array was expected. Please change the shape of y to (n_samples,), for example using ravel().\n",
      "  return fit_method(estimator, *args, **kwargs)\n"
     ]
    }
   ],
   "source": [
    "from sklearn.ensemble import RandomForestRegressor\n",
    "RTR = RandomForestRegressor()\n",
    "model5 = RTR.fit(x1_train,y1_train)\n",
    "y1_predRT = model5.predict(x1_test)"
   ]
  },
  {
   "cell_type": "code",
   "execution_count": 70,
   "metadata": {},
   "outputs": [
    {
     "name": "stdout",
     "output_type": "stream",
     "text": [
      "the mse of RANDOMFOREST model is: 0.0007435953627923214\n",
      "the r2_score of RANDOMFOREST model is: 0.5097109414411232\n"
     ]
    }
   ],
   "source": [
    "print(\"the mse of RANDOMFOREST model is:\", mean_squared_error(y1_test,y1_predRT))\n",
    "print(\"the r2_score of RANDOMFOREST model is:\", r2_score(y1_test,y1_predRT))"
   ]
  },
  {
   "cell_type": "code",
   "execution_count": 71,
   "metadata": {},
   "outputs": [
    {
     "name": "stdout",
     "output_type": "stream",
     "text": [
      "[0.01697734]\n",
      "[0.06096325]\n"
     ]
    },
    {
     "name": "stderr",
     "output_type": "stream",
     "text": [
      "c:\\Users\\dell\\anaconda3\\Lib\\site-packages\\sklearn\\base.py:464: UserWarning: X does not have valid feature names, but RandomForestRegressor was fitted with feature names\n",
      "  warnings.warn(\n",
      "c:\\Users\\dell\\anaconda3\\Lib\\site-packages\\sklearn\\base.py:464: UserWarning: X does not have valid feature names, but RandomForestRegressor was fitted with feature names\n",
      "  warnings.warn(\n"
     ]
    }
   ],
   "source": [
    "print(model5.predict([[3,\t13,\t2.0,\t1.0,\t0.020183]]))\n",
    "print(model5.predict([[2,\t19,\t5.0,\t3.0,\t0.049722]]))"
   ]
  },
  {
   "cell_type": "markdown",
   "metadata": {},
   "source": [
    "# BOOSTING"
   ]
  },
  {
   "cell_type": "code",
   "execution_count": 72,
   "metadata": {},
   "outputs": [
    {
     "name": "stderr",
     "output_type": "stream",
     "text": [
      "c:\\Users\\dell\\anaconda3\\Lib\\site-packages\\sklearn\\utils\\validation.py:1184: DataConversionWarning: A column-vector y was passed when a 1d array was expected. Please change the shape of y to (n_samples, ), for example using ravel().\n",
      "  y = column_or_1d(y, warn=True)\n"
     ]
    }
   ],
   "source": [
    "# aDABOOST\n",
    "\n",
    "from sklearn.ensemble import AdaBoostRegressor\n",
    "ADB = AdaBoostRegressor()\n",
    "model61=ADB.fit(x1_train,y1_train)\n",
    "y1_predADB = model61.predict(x1_test)"
   ]
  },
  {
   "cell_type": "code",
   "execution_count": 73,
   "metadata": {},
   "outputs": [
    {
     "name": "stdout",
     "output_type": "stream",
     "text": [
      "the mse of ADABOOST model is: 0.0008720253906618974\n",
      "the r2_score of ADABOOST model is: 0.42503069650466974\n",
      "[0.02115947]\n",
      "[0.11808476]\n"
     ]
    },
    {
     "name": "stderr",
     "output_type": "stream",
     "text": [
      "c:\\Users\\dell\\anaconda3\\Lib\\site-packages\\sklearn\\base.py:464: UserWarning: X does not have valid feature names, but AdaBoostRegressor was fitted with feature names\n",
      "  warnings.warn(\n",
      "c:\\Users\\dell\\anaconda3\\Lib\\site-packages\\sklearn\\base.py:464: UserWarning: X does not have valid feature names, but AdaBoostRegressor was fitted with feature names\n",
      "  warnings.warn(\n"
     ]
    }
   ],
   "source": [
    "print(\"the mse of ADABOOST model is:\", mean_squared_error(y1_test,y1_predADB))\n",
    "print(\"the r2_score of ADABOOST model is:\", r2_score(y1_test,y1_predADB))\n",
    "\n",
    "\n",
    "print(model61.predict([[3,\t13,\t2.0,\t1.0,\t0.020183]]))\n",
    "print(model61.predict([[2,\t19,\t5.0,\t3.0,\t0.049722]]))"
   ]
  },
  {
   "cell_type": "code",
   "execution_count": 75,
   "metadata": {},
   "outputs": [
    {
     "name": "stderr",
     "output_type": "stream",
     "text": [
      "c:\\Users\\dell\\anaconda3\\Lib\\site-packages\\sklearn\\ensemble\\_gb.py:424: DataConversionWarning: A column-vector y was passed when a 1d array was expected. Please change the shape of y to (n_samples, ), for example using ravel().\n",
      "  y = column_or_1d(y, warn=True)\n"
     ]
    }
   ],
   "source": [
    "# GRADIENTBOOSTING\n",
    "\n",
    "from sklearn.ensemble import GradientBoostingRegressor\n",
    "GBR = GradientBoostingRegressor()\n",
    "model62 = GBR.fit(x1_train,y1_train)\n",
    "y1_predGBR = model62.predict(x1_test)"
   ]
  },
  {
   "cell_type": "code",
   "execution_count": 76,
   "metadata": {},
   "outputs": [
    {
     "name": "stdout",
     "output_type": "stream",
     "text": [
      "the mse of gradientboosting model is: 0.000647812103514202\n",
      "the r2_score of gradientboostimg model is: 0.5728655633860772\n",
      "[0.01141356]\n",
      "[0.08251151]\n"
     ]
    },
    {
     "name": "stderr",
     "output_type": "stream",
     "text": [
      "c:\\Users\\dell\\anaconda3\\Lib\\site-packages\\sklearn\\base.py:464: UserWarning: X does not have valid feature names, but GradientBoostingRegressor was fitted with feature names\n",
      "  warnings.warn(\n",
      "c:\\Users\\dell\\anaconda3\\Lib\\site-packages\\sklearn\\base.py:464: UserWarning: X does not have valid feature names, but GradientBoostingRegressor was fitted with feature names\n",
      "  warnings.warn(\n"
     ]
    }
   ],
   "source": [
    "print(\"the mse of gradientboosting model is:\", mean_squared_error(y1_test,y1_predGBR))\n",
    "print(\"the r2_score of gradientboostimg model is:\", r2_score(y1_test,y1_predGBR))\n",
    "\n",
    "\n",
    "print(model62.predict([[3,\t13,\t2.0,\t1.0,\t0.020183]]))\n",
    "print(model62.predict([[2,\t19,\t5.0,\t3.0,\t0.049722]]))"
   ]
  },
  {
   "cell_type": "code",
   "execution_count": 77,
   "metadata": {},
   "outputs": [
    {
     "name": "stdout",
     "output_type": "stream",
     "text": [
      "Requirement already satisfied: xgboost in c:\\users\\dell\\anaconda3\\lib\\site-packages (2.0.3)\n",
      "Requirement already satisfied: numpy in c:\\users\\dell\\anaconda3\\lib\\site-packages (from xgboost) (1.24.3)\n",
      "Requirement already satisfied: scipy in c:\\users\\dell\\anaconda3\\lib\\site-packages (from xgboost) (1.11.1)\n"
     ]
    }
   ],
   "source": [
    "# XGboost\n",
    "\n",
    "!pip install xgboost"
   ]
  },
  {
   "cell_type": "code",
   "execution_count": 79,
   "metadata": {},
   "outputs": [],
   "source": [
    "from xgboost import XGBRegressor\n",
    "XGB = XGBRegressor()\n",
    "model63 = XGB.fit(x1_train,y1_train)\n",
    "y1_predXGB = model63.predict(x1_test)"
   ]
  },
  {
   "cell_type": "code",
   "execution_count": 80,
   "metadata": {},
   "outputs": [
    {
     "name": "stdout",
     "output_type": "stream",
     "text": [
      "the mse of XGboost  model is: 0.0006516567239172474\n",
      "the r2_score of XGboost model is: 0.5703306157354531\n",
      "[0.01164316]\n",
      "[0.06901179]\n"
     ]
    }
   ],
   "source": [
    "print(\"the mse of XGboost  model is:\", mean_squared_error(y1_test,y1_predXGB))\n",
    "print(\"the r2_score of XGboost model is:\", r2_score(y1_test,y1_predXGB))\n",
    "\n",
    "\n",
    "print(model63.predict([[3,\t13,\t2.0,\t1.0,\t0.020183]]))\n",
    "print(model63.predict([[2,\t19,\t5.0,\t3.0,\t0.049722]]))"
   ]
  },
  {
   "cell_type": "code",
   "execution_count": 81,
   "metadata": {},
   "outputs": [
    {
     "data": {
      "text/html": [
       "<div>\n",
       "<style scoped>\n",
       "    .dataframe tbody tr th:only-of-type {\n",
       "        vertical-align: middle;\n",
       "    }\n",
       "\n",
       "    .dataframe tbody tr th {\n",
       "        vertical-align: top;\n",
       "    }\n",
       "\n",
       "    .dataframe thead th {\n",
       "        text-align: right;\n",
       "    }\n",
       "</style>\n",
       "<table border=\"1\" class=\"dataframe\">\n",
       "  <thead>\n",
       "    <tr style=\"text-align: right;\">\n",
       "      <th></th>\n",
       "      <th>area_type</th>\n",
       "      <th>size</th>\n",
       "      <th>bath</th>\n",
       "      <th>balcony</th>\n",
       "      <th>total_sqft</th>\n",
       "      <th>price</th>\n",
       "    </tr>\n",
       "  </thead>\n",
       "  <tbody>\n",
       "    <tr>\n",
       "      <th>0</th>\n",
       "      <td>3</td>\n",
       "      <td>13</td>\n",
       "      <td>2.0</td>\n",
       "      <td>1.0</td>\n",
       "      <td>0.020183</td>\n",
       "      <td>0.008650</td>\n",
       "    </tr>\n",
       "    <tr>\n",
       "      <th>1</th>\n",
       "      <td>2</td>\n",
       "      <td>19</td>\n",
       "      <td>5.0</td>\n",
       "      <td>3.0</td>\n",
       "      <td>0.049722</td>\n",
       "      <td>0.031180</td>\n",
       "    </tr>\n",
       "    <tr>\n",
       "      <th>2</th>\n",
       "      <td>0</td>\n",
       "      <td>16</td>\n",
       "      <td>2.0</td>\n",
       "      <td>3.0</td>\n",
       "      <td>0.027530</td>\n",
       "      <td>0.015033</td>\n",
       "    </tr>\n",
       "    <tr>\n",
       "      <th>3</th>\n",
       "      <td>3</td>\n",
       "      <td>16</td>\n",
       "      <td>3.0</td>\n",
       "      <td>1.0</td>\n",
       "      <td>0.029079</td>\n",
       "      <td>0.024220</td>\n",
       "    </tr>\n",
       "    <tr>\n",
       "      <th>4</th>\n",
       "      <td>3</td>\n",
       "      <td>13</td>\n",
       "      <td>2.0</td>\n",
       "      <td>1.0</td>\n",
       "      <td>0.022938</td>\n",
       "      <td>0.011971</td>\n",
       "    </tr>\n",
       "  </tbody>\n",
       "</table>\n",
       "</div>"
      ],
      "text/plain": [
       "   area_type  size  bath  balcony  total_sqft     price\n",
       "0          3    13   2.0      1.0    0.020183  0.008650\n",
       "1          2    19   5.0      3.0    0.049722  0.031180\n",
       "2          0    16   2.0      3.0    0.027530  0.015033\n",
       "3          3    16   3.0      1.0    0.029079  0.024220\n",
       "4          3    13   2.0      1.0    0.022938  0.011971"
      ]
     },
     "execution_count": 81,
     "metadata": {},
     "output_type": "execute_result"
    }
   ],
   "source": [
    "df.head()"
   ]
  },
  {
   "cell_type": "markdown",
   "metadata": {},
   "source": [
    "# Conclusion"
   ]
  },
  {
   "cell_type": "markdown",
   "metadata": {},
   "source": [
    "**keywords**\n",
    "* linearRegression - model1\n",
    "* knneighbors      - model2\n",
    "* Svm              - model3\n",
    "* decision tree    - model4\n",
    "* Random forest    - model5\n",
    "* adaboost         - model61\n",
    "* gradientboosting - model62\n",
    "* xgboost          - model63"
   ]
  },
  {
   "cell_type": "markdown",
   "metadata": {},
   "source": [
    "**validation**\n",
    "\n",
    "* linearRegression\n",
    "* the mse of linear regression is: 0.0007965953553949873\n",
    "* the r2_score of linear regression is: 0.47476543508507296\n",
    "\n",
    "* knneighbors \n",
    "* the mse of knn model is: 0.0008486992330046421\n",
    "* the r2_score of knn model is: 0.44041078149420687\n",
    "\n",
    "* Svm \n",
    "* the mse of svm model is: 0.006294557565860816\n",
    "* the r2_score of svm model is: -3.150311926935034\n",
    "\n",
    "* decision tree\n",
    "* the mse of decisiontree model is: 0.001015842242601371\n",
    "* the r2_score of decisiontree model is: 0.33020516037232683\n",
    "\n",
    "* Random forest\n",
    "* the mse of RANDOMFOREST model is: 0.0007435953627923214\n",
    "* the r2_score of RANDOMFOREST model is: 0.5097109414411232\n",
    "\n",
    "* adaboost\n",
    "* the mse of ADABOOST model is: 0.0008720253906618974\n",
    "* the r2_score of ADABOOST model is: 0.42503069650466974\n",
    "\n",
    "* gradientboosting\n",
    "* the mse of gradientboosting model is: 0.000647812103514202\n",
    "* the r2_score of gradientboostimg model is: 0.5728655633860772\n",
    "\n",
    "* xgboost\n",
    "* the mse of XGboost  model is: 0.0006516567239172474\n",
    "* the r2_score of XGboost model is: 0.5703306157354531\n"
   ]
  },
  {
   "cell_type": "markdown",
   "metadata": {},
   "source": [
    "**Conclusion:**\n",
    "Among the models evaluated, Gradient Boosting and XGBoost performed the best based on the following criteria:\n",
    "\n",
    "* MSE (Mean Squared Error): Both Gradient Boosting and XGBoost have the lowest MSE values, indicating better predictive performance with less error.\n",
    "* R2 Score (Coefficient of Determination): Both Gradient Boosting and XGBoost have the highest R2 scores, suggesting better fit to the data compared to other models.\n",
    "* Therefore, either Gradient Boosting or XGBoost would be the preferred choices for this specific task, with a slight edge given to Gradient Boosting due to marginally lower MSE and slightly higher R2 score.\n",
    "\n",
    "\n",
    "\n",
    "\n",
    "\n",
    "\n",
    "\n"
   ]
  },
  {
   "cell_type": "markdown",
   "metadata": {},
   "source": []
  }
 ],
 "metadata": {
  "colab": {
   "provenance": []
  },
  "kernelspec": {
   "display_name": "Python 3 (ipykernel)",
   "language": "python",
   "name": "python3"
  },
  "language_info": {
   "codemirror_mode": {
    "name": "ipython",
    "version": 3
   },
   "file_extension": ".py",
   "mimetype": "text/x-python",
   "name": "python",
   "nbconvert_exporter": "python",
   "pygments_lexer": "ipython3",
   "version": "3.11.5"
  }
 },
 "nbformat": 4,
 "nbformat_minor": 1
}
